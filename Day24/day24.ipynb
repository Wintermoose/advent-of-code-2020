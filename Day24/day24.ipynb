{
 "cells": [
  {
   "cell_type": "markdown",
   "metadata": {},
   "source": [
    "--- Day 24: Lobby Layout ---\n",
    "\n",
    "Your raft makes it to the tropical island; it turns out that the small crab was an excellent navigator. You make your way to the resort.\n",
    "\n",
    "As you enter the lobby, you discover a small problem: the floor is being renovated. You can't even reach the check-in desk until they've finished installing the new tile floor.\n",
    "\n",
    "The tiles are all hexagonal; they need to be arranged in a hex grid with a very specific color pattern. Not in the mood to wait, you offer to help figure out the pattern.\n",
    "\n",
    "The tiles are all white on one side and black on the other. They start with the white side facing up. The lobby is large enough to fit whatever pattern might need to appear there.\n",
    "\n",
    "A member of the renovation crew gives you a list of the tiles that need to be flipped over (your puzzle input). Each line in the list identifies a single tile that needs to be flipped by giving a series of steps starting from a reference tile in the very center of the room. (Every line starts from the same reference tile.)\n",
    "\n",
    "Because the tiles are hexagonal, every tile has six neighbors: east, southeast, southwest, west, northwest, and northeast. These directions are given in your list, respectively, as e, se, sw, w, nw, and ne. A tile is identified by a series of these directions with no delimiters; for example, esenee identifies the tile you land on if you start at the reference tile and then move one tile east, one tile southeast, one tile northeast, and one tile east.\n",
    "\n",
    "Each time a tile is identified, it flips from white to black or from black to white. Tiles might be flipped more than once. For example, a line like esew flips a tile immediately adjacent to the reference tile, and a line like nwwswee flips the reference tile itself.\n",
    "\n",
    "Here is a larger example:\n",
    "\n",
    "```\n",
    "sesenwnenenewseeswwswswwnenewsewsw\n",
    "neeenesenwnwwswnenewnwwsewnenwseswesw\n",
    "seswneswswsenwwnwse\n",
    "nwnwneseeswswnenewneswwnewseswneseene\n",
    "swweswneswnenwsewnwneneseenw\n",
    "eesenwseswswnenwswnwnwsewwnwsene\n",
    "sewnenenenesenwsewnenwwwse\n",
    "wenwwweseeeweswwwnwwe\n",
    "wsweesenenewnwwnwsenewsenwwsesesenwne\n",
    "neeswseenwwswnwswswnw\n",
    "nenwswwsewswnenenewsenwsenwnesesenew\n",
    "enewnwewneswsewnwswenweswnenwsenwsw\n",
    "sweneswneswneneenwnewenewwneswswnese\n",
    "swwesenesewenwneswnwwneseswwne\n",
    "enesenwswwswneneswsenwnewswseenwsese\n",
    "wnwnesenesenenwwnenwsewesewsesesew\n",
    "nenewswnwewswnenesenwnesewesw\n",
    "eneswnwswnwsenenwnwnwwseeswneewsenese\n",
    "neswnwewnwnwseenwseesewsenwsweewe\n",
    "wseweeenwnesenwwwswnew\n",
    "```\n",
    "\n",
    "In the above example, 10 tiles are flipped once (to black), and 5 more are flipped twice (to black, then back to white). After all of these instructions have been followed, a total of 10 tiles are black.\n",
    "\n",
    "Go through the renovation crew's list and determine which tiles they need to flip. After all of the instructions have been followed, how many tiles are left with the black side up?\n",
    ""
   ]
  },
  {
   "cell_type": "code",
   "execution_count": 1,
   "metadata": {},
   "source": [
    "#!fsharp\n",
    "let testInput = \"\"\"sesenwnenenewseeswwswswwnenewsewsw\n",
    "neeenesenwnwwswnenewnwwsewnenwseswesw\n",
    "seswneswswsenwwnwse\n",
    "nwnwneseeswswnenewneswwnewseswneseene\n",
    "swweswneswnenwsewnwneneseenw\n",
    "eesenwseswswnenwswnwnwsewwnwsene\n",
    "sewnenenenesenwsewnenwwwse\n",
    "wenwwweseeeweswwwnwwe\n",
    "wsweesenenewnwwnwsenewsenwwsesesenwne\n",
    "neeswseenwwswnwswswnw\n",
    "nenwswwsewswnenenewsenwsenwnesesenew\n",
    "enewnwewneswsewnwswenweswnenwsenwsw\n",
    "sweneswneswneneenwnewenewwneswswnese\n",
    "swwesenesewenwneswnwwneseswwne\n",
    "enesenwswwswneneswsenwnewswseenwsese\n",
    "wnwnesenesenenwwnenwsewesewsesesew\n",
    "nenewswnwewswnenesenwnesewesw\n",
    "eneswnwswnwsenenwnwnwwseeswneewsenese\n",
    "neswnwewnwnwseenwseesewsenwsweewe\n",
    "wseweeenwnesenwwwswnew\"\"\"\n",
    "\n",
    "let taskInput = System.IO.File.ReadAllText(\"task.txt\")"
   ],
   "outputs": []
  },
  {
   "cell_type": "code",
   "execution_count": 1,
   "metadata": {},
   "source": [
    "#!fsharp\n",
    "type Direction = NW | NE | E | SE | SW | W\n",
    "let (=>) x y = x,y\n",
    "let deltas = \n",
    "    Map [\n",
    "        NW => (-1,1)\n",
    "        NE => (0,1)\n",
    "        E => (1,0)\n",
    "        SE => (0,-1)\n",
    "        SW => (-1,-1)\n",
    "        W => (-1,0)\n",
    "    ]\n",
    "\n",
    "let doStep (x,y) direction =\n",
    "    let (dx,dy) = deltas.[direction]\n",
    "    if ( dy = 0 ) then \n",
    "        (x + dx, y)\n",
    "    else\n",
    "        let offset = (2 + (y % 2)) % 2\n",
    "        (x + dx + offset, y + dy)\n",
    "\n",
    "[\n",
    "    doStep (0,0) E\n",
    "    doStep (0,0) NE\n",
    "    doStep (0,1) SW\n",
    "]"
   ],
   "outputs": [
    {
     "output_type": "execute_result",
     "data": {
      "text/html": "<table><thead><tr><th><i>index</i></th><th>Item1</th><th>Item2</th></tr></thead><tbody><tr><td>0</td><td><div class=\"dni-plaintext\">1</div></td><td><div class=\"dni-plaintext\">0</div></td></tr><tr><td>1</td><td><div class=\"dni-plaintext\">0</div></td><td><div class=\"dni-plaintext\">1</div></td></tr><tr><td>2</td><td><div class=\"dni-plaintext\">0</div></td><td><div class=\"dni-plaintext\">0</div></td></tr></tbody></table>"
     },
     "execution_count": 1,
     "metadata": {}
    }
   ]
  },
  {
   "cell_type": "code",
   "execution_count": 1,
   "metadata": {},
   "source": [
    "#!fsharp\n",
    "let parseLine (line:string) = \n",
    "    let mutable pos = 0\n",
    "    seq {\n",
    "        while pos < line.Length do\n",
    "            match line.[pos] with\n",
    "            | 'e' -> yield Direction.E\n",
    "            | 'w' -> yield Direction.W\n",
    "            | 'n' -> \n",
    "                match line.[pos+1] with\n",
    "                | 'e' -> yield Direction.NE\n",
    "                | 'w' -> yield Direction.NW\n",
    "                | _ -> failwithf \"Unexpected input %s\" line.[pos..]\n",
    "                pos <- pos + 1\n",
    "            | 's' ->\n",
    "                match line.[pos+1] with\n",
    "                | 'e' -> yield Direction.SE\n",
    "                | 'w' -> yield Direction.SW\n",
    "                | _ -> failwithf \"Unexpected input %s\" line.[pos..]\n",
    "                pos <- pos + 1\n",
    "            | _ -> failwithf \"Unexpected input %s\" line.[pos..]\n",
    "            pos <- pos + 1\n",
    "    }\n",
    "\n",
    "parseLine \"wseweeenwnesenwwwswnew\"       "
   ],
   "outputs": [
    {
     "output_type": "execute_result",
     "data": {
      "text/html": "<table><thead><tr><th><i>index</i></th><th></th></tr></thead><tbody><tr><td>0</td><td><div class=\"dni-plaintext\">W</div></td></tr><tr><td>1</td><td><div class=\"dni-plaintext\">SE</div></td></tr><tr><td>2</td><td><div class=\"dni-plaintext\">W</div></td></tr><tr><td>3</td><td><div class=\"dni-plaintext\">E</div></td></tr><tr><td>4</td><td><div class=\"dni-plaintext\">E</div></td></tr><tr><td>5</td><td><div class=\"dni-plaintext\">E</div></td></tr><tr><td>6</td><td><div class=\"dni-plaintext\">NW</div></td></tr><tr><td>7</td><td><div class=\"dni-plaintext\">NE</div></td></tr><tr><td>8</td><td><div class=\"dni-plaintext\">SE</div></td></tr><tr><td>9</td><td><div class=\"dni-plaintext\">NW</div></td></tr><tr><td>10</td><td><div class=\"dni-plaintext\">W</div></td></tr><tr><td>11</td><td><div class=\"dni-plaintext\">W</div></td></tr><tr><td>12</td><td><div class=\"dni-plaintext\">SW</div></td></tr><tr><td>13</td><td><div class=\"dni-plaintext\">NE</div></td></tr><tr><td>14</td><td><div class=\"dni-plaintext\">W</div></td></tr></tbody></table>"
     },
     "execution_count": 1,
     "metadata": {}
    }
   ]
  },
  {
   "cell_type": "code",
   "execution_count": 1,
   "metadata": {},
   "source": [
    "#!fsharp\n",
    "let parse (input:string) = \n",
    "    input.Replace(\"\\r\", \"\").Split(\"\\n\")\n",
    "    |> Array.map parseLine\n",
    "\n",
    "testInput |> parse"
   ],
   "outputs": [
    {
     "output_type": "execute_result",
     "data": {
      "text/html": "<table><thead><tr><th><i>index</i></th><th>value</th></tr></thead><tbody><tr><td>0</td><td><div class=\"dni-plaintext\">[ SE, SE, NW, NE, NE, NE, W, SE, E, SW, W, SW, SW, W, NE, NE, W, SE, W, SW ]</div></td></tr><tr><td>1</td><td><div class=\"dni-plaintext\">[ NE, E, E, NE, SE, NW, NW, W, SW, NE, NE, W, NW, W, SE, W, NE, NW, SE, SW ]</div></td></tr><tr><td>2</td><td><div class=\"dni-plaintext\">[ SE, SW, NE, SW, SW, SE, NW, W, NW, SE ]</div></td></tr><tr><td>3</td><td><div class=\"dni-plaintext\">[ NW, NW, NE, SE, E, SW, SW, NE, NE, W, NE, SW, W, NE, W, SE, SW, NE, SE, E ]</div></td></tr><tr><td>4</td><td><div class=\"dni-plaintext\">[ SW, W, E, SW, NE, SW, NE, NW, SE, W, NW, NE, NE, SE, E, NW ]</div></td></tr><tr><td>5</td><td><div class=\"dni-plaintext\">[ E, E, SE, NW, SE, SW, SW, NE, NW, SW, NW, NW, SE, W, W, NW, SE, NE ]</div></td></tr><tr><td>6</td><td><div class=\"dni-plaintext\">[ SE, W, NE, NE, NE, NE, SE, NW, SE, W, NE, NW, W, W, SE ]</div></td></tr><tr><td>7</td><td><div class=\"dni-plaintext\">[ W, E, NW, W, W, E, SE, E, E, W, E, SW, W, W, NW, W, E ]</div></td></tr><tr><td>8</td><td><div class=\"dni-plaintext\">[ W, SW, E, E, SE, NE, NE, W, NW, W, NW, SE, NE, W, SE, NW, W, SE, SE, SE ]</div></td></tr><tr><td>9</td><td><div class=\"dni-plaintext\">[ NE, E, SW, SE, E, NW, W, SW, NW, SW, SW, NW ]</div></td></tr><tr><td>10</td><td><div class=\"dni-plaintext\">[ NE, NW, SW, W, SE, W, SW, NE, NE, NE, W, SE, NW, SE, NW, NE, SE, SE, NE, W ]</div></td></tr><tr><td>11</td><td><div class=\"dni-plaintext\">[ E, NE, W, NW, E, W, NE, SW, SE, W, NW, SW, E, NW, E, SW, NE, NW, SE, NW ]</div></td></tr><tr><td>12</td><td><div class=\"dni-plaintext\">[ SW, E, NE, SW, NE, SW, NE, NE, E, NW, NE, W, E, NE, W, W, NE, SW, SW, NE ]</div></td></tr><tr><td>13</td><td><div class=\"dni-plaintext\">[ SW, W, E, SE, NE, SE, W, E, NW, NE, SW, NW, W, NE, SE, SW, W, NE ]</div></td></tr><tr><td>14</td><td><div class=\"dni-plaintext\">[ E, NE, SE, NW, SW, W, SW, NE, NE, SW, SE, NW, NE, W, SW, SE, E, NW, SE, SE ]</div></td></tr><tr><td>15</td><td><div class=\"dni-plaintext\">[ W, NW, NE, SE, NE, SE, NE, NW, W, NE, NW, SE, W, E, SE, W, SE, SE, SE, W ]</div></td></tr><tr><td>16</td><td><div class=\"dni-plaintext\">[ NE, NE, W, SW, NW, E, W, SW, NE, NE, SE, NW, NE, SE, W, E, SW ]</div></td></tr><tr><td>17</td><td><div class=\"dni-plaintext\">[ E, NE, SW, NW, SW, NW, SE, NE, NW, NW, NW, W, SE, E, SW, NE, E, W, SE, NE ]</div></td></tr><tr><td>18</td><td><div class=\"dni-plaintext\">[ NE, SW, NW, E, W, NW, NW, SE, E, NW, SE, E, SE, W, SE, NW, SW, E, E, W ]</div></td></tr><tr><td>19</td><td><div class=\"dni-plaintext\">[ W, SE, W, E, E, E, NW, NE, SE, NW, W, W, SW, NE, W ]</div></td></tr></tbody></table>"
     },
     "execution_count": 1,
     "metadata": {}
    }
   ]
  },
  {
   "cell_type": "code",
   "execution_count": 1,
   "metadata": {},
   "source": [
    "#!fsharp\n",
    "let processLine (blackTiles: Set<int*int>) (line: Direction seq)  =\n",
    "    let x, y = \n",
    "        line\n",
    "        |> Seq.fold doStep (0,0)\n",
    "    if blackTiles.Contains( (x,y) ) then\n",
    "        blackTiles.Remove((x,y))\n",
    "    else\n",
    "        blackTiles.Add((x,y))\n",
    "\n",
    "parseLine \"nwwswee\" |> processLine Set.empty\n",
    "        "
   ],
   "outputs": [
    {
     "output_type": "execute_result",
     "data": {
      "text/html": "<table><thead><tr><th><i>index</i></th><th>Item1</th><th>Item2</th></tr></thead><tbody><tr><td>0</td><td><div class=\"dni-plaintext\">0</div></td><td><div class=\"dni-plaintext\">0</div></td></tr></tbody></table>"
     },
     "execution_count": 1,
     "metadata": {}
    }
   ]
  },
  {
   "cell_type": "code",
   "execution_count": 1,
   "metadata": {},
   "source": [
    "#!fsharp\n",
    "let processInstructions (input: Direction seq seq) =\n",
    "    input\n",
    "    |> Seq.fold processLine Set.empty\n",
    "\n",
    "testInput |> parse |> processInstructions"
   ],
   "outputs": [
    {
     "output_type": "execute_result",
     "data": {
      "text/html": "<table><thead><tr><th><i>index</i></th><th>Item1</th><th>Item2</th></tr></thead><tbody><tr><td>0</td><td><div class=\"dni-plaintext\">-2</div></td><td><div class=\"dni-plaintext\">-3</div></td></tr><tr><td>1</td><td><div class=\"dni-plaintext\">-2</div></td><td><div class=\"dni-plaintext\">-2</div></td></tr><tr><td>2</td><td><div class=\"dni-plaintext\">-2</div></td><td><div class=\"dni-plaintext\">-1</div></td></tr><tr><td>3</td><td><div class=\"dni-plaintext\">-2</div></td><td><div class=\"dni-plaintext\">0</div></td></tr><tr><td>4</td><td><div class=\"dni-plaintext\">-2</div></td><td><div class=\"dni-plaintext\">1</div></td></tr><tr><td>5</td><td><div class=\"dni-plaintext\">-1</div></td><td><div class=\"dni-plaintext\">1</div></td></tr><tr><td>6</td><td><div class=\"dni-plaintext\">0</div></td><td><div class=\"dni-plaintext\">0</div></td></tr><tr><td>7</td><td><div class=\"dni-plaintext\">1</div></td><td><div class=\"dni-plaintext\">-2</div></td></tr><tr><td>8</td><td><div class=\"dni-plaintext\">1</div></td><td><div class=\"dni-plaintext\">3</div></td></tr><tr><td>9</td><td><div class=\"dni-plaintext\">2</div></td><td><div class=\"dni-plaintext\">0</div></td></tr></tbody></table>"
     },
     "execution_count": 1,
     "metadata": {}
    }
   ]
  },
  {
   "cell_type": "code",
   "execution_count": 1,
   "metadata": {},
   "source": [
    "#!fsharp\n",
    "taskInput |> parse |> processInstructions |> Set.count"
   ],
   "outputs": [
    {
     "output_type": "execute_result",
     "data": {
      "text/html": "<div class=\"dni-plaintext\">427</div>"
     },
     "execution_count": 1,
     "metadata": {}
    }
   ]
  },
  {
   "cell_type": "markdown",
   "metadata": {},
   "source": [
    "--- Part Two ---\n",
    "\n",
    "The tile floor in the lobby is meant to be a living art exhibit. Every day, the tiles are all flipped according to the following rules:\n",
    "\n",
    "*    Any black tile with zero or more than 2 black tiles immediately adjacent to it is flipped to white.\n",
    "*    Any white tile with exactly 2 black tiles immediately adjacent to it is flipped to black.\n",
    "\n",
    "Here, tiles immediately adjacent means the six tiles directly touching the tile in question.\n",
    "\n",
    "The rules are applied simultaneously to every tile; put another way, it is first determined which tiles need to be flipped, then they are all flipped at the same time.\n",
    "\n",
    "In the above example, the number of black tiles that are facing up after the given number of days has passed is as follows:\n",
    "\n",
    "```\n",
    "Day 1: 15\n",
    "Day 2: 12\n",
    "Day 3: 25\n",
    "Day 4: 14\n",
    "Day 5: 23\n",
    "Day 6: 28\n",
    "Day 7: 41\n",
    "Day 8: 37\n",
    "Day 9: 49\n",
    "Day 10: 37\n",
    "\n",
    "Day 20: 132\n",
    "Day 30: 259\n",
    "Day 40: 406\n",
    "Day 50: 566\n",
    "Day 60: 788\n",
    "Day 70: 1106\n",
    "Day 80: 1373\n",
    "Day 90: 1844\n",
    "Day 100: 2208\n",
    "```\n",
    "\n",
    "After executing this process a total of 100 times, there would be 2208 black tiles facing up.\n",
    "\n",
    "How many tiles will be black after 100 days?\n",
    ""
   ]
  },
  {
   "cell_type": "code",
   "execution_count": 1,
   "metadata": {},
   "source": [
    "#!fsharp\n",
    "let getBlackNeighbours (blackTiles: Set<int*int>) (x,y) = \n",
    "    [Direction.NE; Direction.NW; Direction.W; Direction.E; Direction.SW; Direction.SE]\n",
    "    |> List.sumBy \n",
    "        (fun direction ->\n",
    "            let nx, ny = doStep (x,y) direction\n",
    "            if blackTiles.Contains((nx,ny)) then\n",
    "                1\n",
    "            else\n",
    "                0\n",
    "        )\n",
    "\n",
    "testInput |> parse |> processInstructions |> (fun b -> getBlackNeighbours b (0,0))"
   ],
   "outputs": [
    {
     "output_type": "execute_result",
     "data": {
      "text/html": "<table><thead><tr><th><i>index</i></th><th>Item1</th><th>Item2</th></tr></thead><tbody><tr><td>0</td><td><div class=\"dni-plaintext\">-2</div></td><td><div class=\"dni-plaintext\">-3</div></td></tr><tr><td>1</td><td><div class=\"dni-plaintext\">-2</div></td><td><div class=\"dni-plaintext\">-2</div></td></tr><tr><td>2</td><td><div class=\"dni-plaintext\">-2</div></td><td><div class=\"dni-plaintext\">-1</div></td></tr><tr><td>3</td><td><div class=\"dni-plaintext\">-2</div></td><td><div class=\"dni-plaintext\">0</div></td></tr><tr><td>4</td><td><div class=\"dni-plaintext\">-2</div></td><td><div class=\"dni-plaintext\">1</div></td></tr><tr><td>5</td><td><div class=\"dni-plaintext\">-1</div></td><td><div class=\"dni-plaintext\">1</div></td></tr><tr><td>6</td><td><div class=\"dni-plaintext\">0</div></td><td><div class=\"dni-plaintext\">0</div></td></tr><tr><td>7</td><td><div class=\"dni-plaintext\">1</div></td><td><div class=\"dni-plaintext\">-2</div></td></tr><tr><td>8</td><td><div class=\"dni-plaintext\">1</div></td><td><div class=\"dni-plaintext\">3</div></td></tr><tr><td>9</td><td><div class=\"dni-plaintext\">2</div></td><td><div class=\"dni-plaintext\">0</div></td></tr></tbody></table>"
     },
     "execution_count": 1,
     "metadata": {}
    }
   ]
  },
  {
   "cell_type": "code",
   "execution_count": 1,
   "metadata": {},
   "source": [
    "#!fsharp\n",
    "let findExtends (blackTiles: Set<int*int>) =\n",
    "    blackTiles\n",
    "    |> Set.toSeq\n",
    "    |> Seq.fold\n",
    "        (fun (minX, minY, maxX, maxY) (x,y) ->\n",
    "            (\n",
    "                Math.Min(minX, x),\n",
    "                Math.Min(minY, y),\n",
    "                Math.Max(maxX, x),\n",
    "                Math.Max(maxY, y)\n",
    "            )\n",
    "        )\n",
    "        (0,0,0,0)\n",
    "\n",
    "testInput |> parse |> processInstructions |> findExtends"
   ],
   "outputs": [
    {
     "output_type": "execute_result",
     "data": {
      "text/html": "<table><thead><tr><th>Item1</th><th>Item2</th><th>Item3</th><th>Item4</th></tr></thead><tbody><tr><td><div class=\"dni-plaintext\">-2</div></td><td><div class=\"dni-plaintext\">-3</div></td><td><div class=\"dni-plaintext\">2</div></td><td><div class=\"dni-plaintext\">3</div></td></tr></tbody></table>"
     },
     "execution_count": 1,
     "metadata": {}
    }
   ]
  },
  {
   "cell_type": "code",
   "execution_count": 1,
   "metadata": {},
   "source": [
    "#!fsharp\n",
    "let processDay (blackTiles: Set<int*int>) =\n",
    "    let (minX, minY, maxX, maxY) = blackTiles |> findExtends\n",
    "    let mutable result = Set.empty\n",
    "    for y in (minY-1)..(maxY+1) do\n",
    "        for x in (minX-1)..(maxX+1) do\n",
    "            let isBlack = blackTiles.Contains((x,y))\n",
    "            let neighbours = getBlackNeighbours blackTiles (x,y)\n",
    "            if isBlack then\n",
    "                if neighbours>0 && neighbours <=2 then\n",
    "                    result <- result.Add((x,y))\n",
    "            else\n",
    "                if neighbours=2 then\n",
    "                    result <- result.Add((x,y))\n",
    "    result\n",
    "\n",
    "testInput |> parse |> processInstructions |> processDay |> processDay |> processDay |> processDay"
   ],
   "outputs": [
    {
     "output_type": "execute_result",
     "data": {
      "text/html": "<table><thead><tr><th><i>index</i></th><th>Item1</th><th>Item2</th></tr></thead><tbody><tr><td>0</td><td><div class=\"dni-plaintext\">-4</div></td><td><div class=\"dni-plaintext\">-4</div></td></tr><tr><td>1</td><td><div class=\"dni-plaintext\">-4</div></td><td><div class=\"dni-plaintext\">-3</div></td></tr><tr><td>2</td><td><div class=\"dni-plaintext\">-4</div></td><td><div class=\"dni-plaintext\">1</div></td></tr><tr><td>3</td><td><div class=\"dni-plaintext\">-3</div></td><td><div class=\"dni-plaintext\">-5</div></td></tr><tr><td>4</td><td><div class=\"dni-plaintext\">-3</div></td><td><div class=\"dni-plaintext\">-4</div></td></tr><tr><td>5</td><td><div class=\"dni-plaintext\">-2</div></td><td><div class=\"dni-plaintext\">-5</div></td></tr><tr><td>6</td><td><div class=\"dni-plaintext\">-2</div></td><td><div class=\"dni-plaintext\">2</div></td></tr><tr><td>7</td><td><div class=\"dni-plaintext\">-1</div></td><td><div class=\"dni-plaintext\">-1</div></td></tr><tr><td>8</td><td><div class=\"dni-plaintext\">-1</div></td><td><div class=\"dni-plaintext\">0</div></td></tr><tr><td>9</td><td><div class=\"dni-plaintext\">-1</div></td><td><div class=\"dni-plaintext\">2</div></td></tr><tr><td>10</td><td><div class=\"dni-plaintext\">1</div></td><td><div class=\"dni-plaintext\">1</div></td></tr><tr><td>11</td><td><div class=\"dni-plaintext\">2</div></td><td><div class=\"dni-plaintext\">1</div></td></tr><tr><td>12</td><td><div class=\"dni-plaintext\">2</div></td><td><div class=\"dni-plaintext\">2</div></td></tr><tr><td>13</td><td><div class=\"dni-plaintext\">3</div></td><td><div class=\"dni-plaintext\">-2</div></td></tr></tbody></table>"
     },
     "execution_count": 1,
     "metadata": {}
    }
   ]
  },
  {
   "cell_type": "code",
   "execution_count": 1,
   "metadata": {},
   "source": [
    "#!fsharp\n",
    "let processDays days (blackTiles: Set<int*int>) =\n",
    "    Seq.init days id\n",
    "    |> Seq.fold (fun tiles day -> processDay tiles ) blackTiles\n",
    "\n",
    "testInput |> parse |> processInstructions |> processDays 100 |> Seq.length"
   ],
   "outputs": [
    {
     "output_type": "execute_result",
     "data": {
      "text/html": "<div class=\"dni-plaintext\">2208</div>"
     },
     "execution_count": 1,
     "metadata": {}
    }
   ]
  },
  {
   "cell_type": "code",
   "execution_count": 1,
   "metadata": {},
   "source": [
    "#!fsharp\n",
    "taskInput |> parse |> processInstructions |> processDays 100 |> Seq.length"
   ],
   "outputs": [
    {
     "output_type": "execute_result",
     "data": {
      "text/html": "<div class=\"dni-plaintext\">3837</div>"
     },
     "execution_count": 1,
     "metadata": {}
    }
   ]
  },
  {
   "cell_type": "code",
   "execution_count": 1,
   "metadata": {},
   "source": [
    "#!fsharp\n",
    ""
   ],
   "outputs": []
  }
 ],
 "metadata": {
  "kernelspec": {
   "display_name": ".NET (C#)",
   "language": "C#",
   "name": ".net-csharp"
  },
  "language_info": {
   "file_extension": ".cs",
   "mimetype": "text/x-csharp",
   "name": "C#",
   "pygments_lexer": "csharp",
   "version": "8.0"
  }
 },
 "nbformat": 4,
 "nbformat_minor": 4
}