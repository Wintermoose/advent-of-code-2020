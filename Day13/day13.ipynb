{
 "cells": [
  {
   "cell_type": "markdown",
   "metadata": {},
   "source": [
    "--- Day 13: Shuttle Search ---\n",
    "\n",
    "Your ferry can make it safely to a nearby port, but it won't get much further. When you call to book another ship, you discover that no ships embark from that port to your vacation island. You'll need to get from the port to the nearest airport.\n",
    "\n",
    "Fortunately, a shuttle bus service is available to bring you from the sea port to the airport! Each bus has an ID number that also indicates how often the bus leaves for the airport.\n",
    "\n",
    "Bus schedules are defined based on a timestamp that measures the number of minutes since some fixed reference point in the past. At timestamp 0, every bus simultaneously departed from the sea port. After that, each bus travels to the airport, then various other locations, and finally returns to the sea port to repeat its journey forever.\n",
    "\n",
    "The time this loop takes a particular bus is also its ID number: the bus with ID 5 departs from the sea port at timestamps 0, 5, 10, 15, and so on. The bus with ID 11 departs at 0, 11, 22, 33, and so on. If you are there when the bus departs, you can ride that bus to the airport!\n",
    "\n",
    "Your notes (your puzzle input) consist of two lines. The first line is your estimate of the earliest timestamp you could depart on a bus. The second line lists the bus IDs that are in service according to the shuttle company; entries that show x must be out of service, so you decide to ignore them.\n",
    "\n",
    "To save time once you arrive, your goal is to figure out the earliest bus you can take to the airport. (There will be exactly one such bus.)\n",
    "\n",
    "For example, suppose you have the following notes:\n",
    "\n",
    "```\n",
    "939\n",
    "7,13,x,x,59,x,31,19\n",
    "```\n",
    "\n",
    "Here, the earliest timestamp you could depart is 939, and the bus IDs in service are 7, 13, 59, 31, and 19. Near timestamp 939, these bus IDs depart at the times marked D:\n",
    "\n",
    "```\n",
    "time   bus 7   bus 13  bus 59  bus 31  bus 19\n",
    "929      .       .       .       .       .\n",
    "930      .       .       .       D       .\n",
    "931      D       .       .       .       D\n",
    "932      .       .       .       .       .\n",
    "933      .       .       .       .       .\n",
    "934      .       .       .       .       .\n",
    "935      .       .       .       .       .\n",
    "936      .       D       .       .       .\n",
    "937      .       .       .       .       .\n",
    "938      D       .       .       .       .\n",
    "939      .       .       .       .       .\n",
    "940      .       .       .       .       .\n",
    "941      .       .       .       .       .\n",
    "942      .       .       .       .       .\n",
    "943      .       .       .       .       .\n",
    "944      .       .       D       .       .\n",
    "945      D       .       .       .       .\n",
    "946      .       .       .       .       .\n",
    "947      .       .       .       .       .\n",
    "948      .       .       .       .       .\n",
    "949      .       D       .       .       .\n",
    "```\n",
    "\n",
    "The earliest bus you could take is bus ID 59. It doesn't depart until timestamp 944, so you would need to wait 944 - 939 = 5 minutes before it departs. Multiplying the bus ID by the number of minutes you'd need to wait gives 295.\n",
    "\n",
    "What is the ID of the earliest bus you can take to the airport multiplied by the number of minutes you'll need to wait for that bus?\n",
    ""
   ]
  },
  {
   "cell_type": "code",
   "execution_count": 1,
   "metadata": {},
   "source": [
    "#!fsharp\n",
    "let testInput = \"\"\"939\n",
    "7,13,x,x,59,x,31,19\"\"\"\n",
    "\n",
    "let taskInput = \"\"\"1000340\n",
    "13,x,x,x,x,x,x,37,x,x,x,x,x,401,x,x,x,x,x,x,x,x,x,x,x,x,x,17,x,x,x,x,19,x,x,x,23,x,x,x,x,x,29,x,613,x,x,x,x,x,x,x,x,x,x,x,x,x,x,x,x,x,x,x,x,x,x,x,x,x,x,x,x,x,x,x,x,x,x,x,x,x,x,x,x,41\"\"\""
   ],
   "outputs": []
  },
  {
   "cell_type": "code",
   "execution_count": 1,
   "metadata": {},
   "source": [
    "#!fsharp\n",
    "type Specification = { timestamp: int; buses: int[] }\n",
    "\n",
    "let parse (input:string) = \n",
    "    let parts = input.Replace(\"\\r\", \"\").Split(\"\\n\");\n",
    "    let timestamp = int parts.[0]\n",
    "    let buses = \n",
    "        parts.[1].Split(\",\") \n",
    "        |> Array.filter ( fun f -> f <> \"x\")\n",
    "        |> Array.map int\n",
    "    { timestamp = timestamp; buses = buses }\n",
    "\n",
    "testInput |> parse"
   ],
   "outputs": [
    {
     "output_type": "execute_result",
     "data": {
      "text/html": "<table><thead><tr><th>timestamp</th><th>buses</th></tr></thead><tbody><tr><td><div class=\"dni-plaintext\">939</div></td><td><div class=\"dni-plaintext\">[ 7, 13, 59, 31, 19 ]</div></td></tr></tbody></table>"
     },
     "execution_count": 1,
     "metadata": {}
    }
   ]
  },
  {
   "cell_type": "code",
   "execution_count": 1,
   "metadata": {},
   "source": [
    "#!fsharp\n",
    "let firstDepartures (specs: Specification) =\n",
    "    specs.buses\n",
    "    |> Array.map\n",
    "        (fun id -> \n",
    "            let mul = int( ceil( double specs.timestamp / double id ) )\n",
    "            (id, mul * id, mul * id - specs.timestamp)\n",
    "        )\n",
    "\n",
    "testInput |> parse |> firstDepartures"
   ],
   "outputs": [
    {
     "output_type": "execute_result",
     "data": {
      "text/html": "<table><thead><tr><th><i>index</i></th><th>Item1</th><th>Item2</th><th>Item3</th></tr></thead><tbody><tr><td>0</td><td><div class=\"dni-plaintext\">7</div></td><td><div class=\"dni-plaintext\">945</div></td><td><div class=\"dni-plaintext\">6</div></td></tr><tr><td>1</td><td><div class=\"dni-plaintext\">13</div></td><td><div class=\"dni-plaintext\">949</div></td><td><div class=\"dni-plaintext\">10</div></td></tr><tr><td>2</td><td><div class=\"dni-plaintext\">59</div></td><td><div class=\"dni-plaintext\">944</div></td><td><div class=\"dni-plaintext\">5</div></td></tr><tr><td>3</td><td><div class=\"dni-plaintext\">31</div></td><td><div class=\"dni-plaintext\">961</div></td><td><div class=\"dni-plaintext\">22</div></td></tr><tr><td>4</td><td><div class=\"dni-plaintext\">19</div></td><td><div class=\"dni-plaintext\">950</div></td><td><div class=\"dni-plaintext\">11</div></td></tr></tbody></table>"
     },
     "execution_count": 1,
     "metadata": {}
    }
   ]
  },
  {
   "cell_type": "code",
   "execution_count": 1,
   "metadata": {},
   "source": [
    "#!fsharp\n",
    "let findEarliest departures =\n",
    "    departures\n",
    "    |> Array.minBy (fun (id, first, wait) -> first)\n",
    "\n",
    "testInput |> parse |> firstDepartures |> findEarliest"
   ],
   "outputs": [
    {
     "output_type": "execute_result",
     "data": {
      "text/html": "<table><thead><tr><th>Item1</th><th>Item2</th><th>Item3</th></tr></thead><tbody><tr><td><div class=\"dni-plaintext\">59</div></td><td><div class=\"dni-plaintext\">944</div></td><td><div class=\"dni-plaintext\">5</div></td></tr></tbody></table>"
     },
     "execution_count": 1,
     "metadata": {}
    }
   ]
  },
  {
   "cell_type": "code",
   "execution_count": 1,
   "metadata": {},
   "source": [
    "#!fsharp\n",
    "testInput |> parse |> firstDepartures |> findEarliest |> ( fun (id, first, wait) -> id * wait )"
   ],
   "outputs": [
    {
     "output_type": "execute_result",
     "data": {
      "text/html": "<div class=\"dni-plaintext\">295</div>"
     },
     "execution_count": 1,
     "metadata": {}
    }
   ]
  },
  {
   "cell_type": "code",
   "execution_count": 1,
   "metadata": {},
   "source": [
    "#!fsharp\n",
    "taskInput |> parse |> firstDepartures |> findEarliest |> (fun (id, first, wait) -> id * wait )"
   ],
   "outputs": [
    {
     "output_type": "execute_result",
     "data": {
      "text/html": "<div class=\"dni-plaintext\">136</div>"
     },
     "execution_count": 1,
     "metadata": {}
    }
   ]
  },
  {
   "cell_type": "markdown",
   "metadata": {},
   "source": [
    "The shuttle company is running a contest: one gold coin for anyone that can find the earliest timestamp such that the first bus ID departs at that time and each subsequent listed bus ID departs at that subsequent minute. (The first line in your input is no longer relevant.)\n",
    "\n",
    "For example, suppose you have the same list of bus IDs as above:\n",
    "\n",
    "7,13,x,x,59,x,31,19\n",
    "\n",
    "An x in the schedule means there are no constraints on what bus IDs must depart at that time.\n",
    "\n",
    "This means you are looking for the earliest timestamp (called t) such that:\n",
    "\n",
    "*    Bus ID 7 departs at timestamp t.\n",
    "*    Bus ID 13 departs one minute after timestamp t.\n",
    "*    There are no requirements or restrictions on departures at two or three minutes after timestamp t.\n",
    "*    Bus ID 59 departs four minutes after timestamp t.\n",
    "*    There are no requirements or restrictions on departures at five minutes after timestamp t.\n",
    "*    Bus ID 31 departs six minutes after timestamp t.\n",
    "*    Bus ID 19 departs seven minutes after timestamp t.\n",
    "\n",
    "The only bus departures that matter are the listed bus IDs at their specific offsets from t. Those bus IDs can depart at other times, and other bus IDs can depart at those times. For example, in the list above, because bus ID 19 must depart seven minutes after the timestamp at which bus ID 7 departs, bus ID 7 will always also be departing with bus ID 19 at seven minutes after timestamp t.\n",
    "\n",
    "In this example, the earliest timestamp at which this occurs is 1068781:\n",
    "\n",
    "```\n",
    "time     bus 7   bus 13  bus 59  bus 31  bus 19\n",
    "1068773    .       .       .       .       .\n",
    "1068774    D       .       .       .       .\n",
    "1068775    .       .       .       .       .\n",
    "1068776    .       .       .       .       .\n",
    "1068777    .       .       .       .       .\n",
    "1068778    .       .       .       .       .\n",
    "1068779    .       .       .       .       .\n",
    "1068780    .       .       .       .       .\n",
    "1068781    D       .       .       .       .\n",
    "1068782    .       D       .       .       .\n",
    "1068783    .       .       .       .       .\n",
    "1068784    .       .       .       .       .\n",
    "1068785    .       .       D       .       .\n",
    "1068786    .       .       .       .       .\n",
    "1068787    .       .       .       D       .\n",
    "1068788    D       .       .       .       D\n",
    "1068789    .       .       .       .       .\n",
    "1068790    .       .       .       .       .\n",
    "1068791    .       .       .       .       .\n",
    "1068792    .       .       .       .       .\n",
    "1068793    .       .       .       .       .\n",
    "1068794    .       .       .       .       .\n",
    "1068795    D       D       .       .       .\n",
    "1068796    .       .       .       .       .\n",
    "1068797    .       .       .       .       .\n",
    "```\n",
    "\n",
    "In the above example, bus ID 7 departs at timestamp 1068788 (seven minutes after t). This is fine; the only requirement on that minute is that bus ID 19 departs then, and it does.\n",
    "\n",
    "Here are some other examples:\n",
    "\n",
    "*    The earliest timestamp that matches the list 17,x,13,19 is 3417.\n",
    "*    67,7,59,61 first occurs at timestamp 754018.\n",
    "*    67,x,7,59,61 first occurs at timestamp 779210.\n",
    "*    67,7,x,59,61 first occurs at timestamp 1261476.\n",
    "*    1789,37,47,1889 first occurs at timestamp 1202161486.\n",
    "\n",
    "However, with so many bus IDs in your list, surely the actual earliest timestamp will be larger than 100000000000000!\n",
    "\n",
    "What is the earliest timestamp such that all of the listed bus IDs depart at offsets matching their positions in the list?"
   ]
  },
  {
   "cell_type": "code",
   "execution_count": 1,
   "metadata": {},
   "source": [
    "#!fsharp\n",
    "let parse2 (input: string) =\n",
    "    input.Replace(\"\\r\", \"\").Split(\"\\n\").[1].Split(\",\")\n",
    "    |> Array.mapi (fun i id -> (i, id) )\n",
    "    |> Array.filter ( fun (i, id) -> id <> \"x\")\n",
    "    |> Array.map ( fun (i, id) -> (int64 i, int64 id))\n",
    "    \n",
    "parse2 testInput"
   ],
   "outputs": [
    {
     "output_type": "execute_result",
     "data": {
      "text/html": "<table><thead><tr><th><i>index</i></th><th>Item1</th><th>Item2</th></tr></thead><tbody><tr><td>0</td><td><div class=\"dni-plaintext\">0</div></td><td><div class=\"dni-plaintext\">7</div></td></tr><tr><td>1</td><td><div class=\"dni-plaintext\">1</div></td><td><div class=\"dni-plaintext\">13</div></td></tr><tr><td>2</td><td><div class=\"dni-plaintext\">4</div></td><td><div class=\"dni-plaintext\">59</div></td></tr><tr><td>3</td><td><div class=\"dni-plaintext\">6</div></td><td><div class=\"dni-plaintext\">31</div></td></tr><tr><td>4</td><td><div class=\"dni-plaintext\">7</div></td><td><div class=\"dni-plaintext\">19</div></td></tr></tbody></table>"
     },
     "execution_count": 1,
     "metadata": {}
    }
   ]
  },
  {
   "cell_type": "code",
   "execution_count": 1,
   "metadata": {},
   "source": [
    "#!fsharp\n",
    "let findGoal (buses: (int64 * int64) array) =\n",
    "    let rec step timestamp =\n",
    "        let valid = Array.forall ( fun (offset, id) ->\n",
    "                                    (timestamp + offset) % id = 0L\n",
    "                                 ) buses\n",
    "        if valid = true then \n",
    "            timestamp\n",
    "        else\n",
    "            step (timestamp + (snd buses.[0]))\n",
    "    step (snd buses.[0])\n",
    "\n",
    "testInput |> parse2 |> findGoal"
   ],
   "outputs": [
    {
     "output_type": "execute_result",
     "data": {
      "text/html": "<div class=\"dni-plaintext\">1068781</div>"
     },
     "execution_count": 1,
     "metadata": {}
    }
   ]
  },
  {
   "cell_type": "code",
   "execution_count": 1,
   "metadata": {},
   "source": [
    "#!fsharp\n",
    "let rec gcd a b =\n",
    "    if a = 0L then\n",
    "        b\n",
    "    else\n",
    "        gcd (b % a) a\n",
    "\n",
    "let rec lcm a b =\n",
    "    let div = gcd a b\n",
    "    a * (b / div)\n",
    "\n",
    "lcm 15L 3L"
   ],
   "outputs": [
    {
     "output_type": "execute_result",
     "data": {
      "text/html": "<div class=\"dni-plaintext\">15</div>"
     },
     "execution_count": 1,
     "metadata": {}
    }
   ]
  },
  {
   "cell_type": "code",
   "execution_count": 1,
   "metadata": {},
   "source": [
    "#!fsharp\n",
    "let testInput2 = \"\"\"0\n",
    "17,x,13,19\"\"\"\n",
    "\n",
    "let testInput3 = \"\"\"0\n",
    "67,7,59,61\"\"\"\n",
    "\n",
    "let testInput4 = \"\"\"0\n",
    "67,x,7,59,61\"\"\"\n",
    "\n",
    "let testInput5 = \"\"\"0\n",
    "67,7,x,59,61\"\"\"\n",
    "\n",
    "let testInput6 = \"\"\"0\n",
    "1789,37,47,1889\"\"\""
   ],
   "outputs": []
  },
  {
   "cell_type": "code",
   "execution_count": 1,
   "metadata": {},
   "source": [
    "#!fsharp\n",
    "let testInputA = \"\"\"0\n",
    "17,x,13\"\"\"\n",
    "\n",
    "testInputA |> parse2 |> findGoal"
   ],
   "outputs": [
    {
     "output_type": "execute_result",
     "data": {
      "text/html": "<div class=\"dni-plaintext\">102</div>"
     },
     "execution_count": 1,
     "metadata": {}
    }
   ]
  },
  {
   "cell_type": "code",
   "execution_count": 1,
   "metadata": {},
   "source": [
    "#!fsharp\n",
    "let findGoal2 (buses: (int64 * int64) array) =\n",
    "    let rec inner (timestamp: int64) (multiply: int64) (buses: (int64 * int64) list) =\n",
    "        match buses with\n",
    "        | [] -> timestamp\n",
    "        | (offs,id)::xr ->\n",
    "            let mutable newTimestamp = timestamp\n",
    "            while (newTimestamp + offs ) % id <> 0L do \n",
    "                newTimestamp <- newTimestamp + multiply\n",
    "            inner newTimestamp (lcm multiply id) xr\n",
    "\n",
    "    let asList = List.ofArray buses\n",
    "    inner (snd buses.[0]) 1L asList\n",
    "    \n",
    "testInput2 |> parse2 |> findGoal2"
   ],
   "outputs": [
    {
     "output_type": "execute_result",
     "data": {
      "text/html": "<div class=\"dni-plaintext\">3417</div>"
     },
     "execution_count": 1,
     "metadata": {}
    }
   ]
  },
  {
   "cell_type": "code",
   "execution_count": 1,
   "metadata": {},
   "source": [
    "#!fsharp\n",
    "[\n",
    "testInput2 |> parse2 |> findGoal2\n",
    "testInput3 |> parse2 |> findGoal2\n",
    "testInput4 |> parse2 |> findGoal2\n",
    "testInput5 |> parse2 |> findGoal2\n",
    "testInput6 |> parse2 |> findGoal2\n",
    "]"
   ],
   "outputs": [
    {
     "output_type": "execute_result",
     "data": {
      "text/html": "<table><thead><tr><th><i>index</i></th><th>value</th></tr></thead><tbody><tr><td>0</td><td><div class=\"dni-plaintext\">3417</div></td></tr><tr><td>1</td><td><div class=\"dni-plaintext\">754018</div></td></tr><tr><td>2</td><td><div class=\"dni-plaintext\">779210</div></td></tr><tr><td>3</td><td><div class=\"dni-plaintext\">1261476</div></td></tr><tr><td>4</td><td><div class=\"dni-plaintext\">1202161486</div></td></tr></tbody></table>"
     },
     "execution_count": 1,
     "metadata": {}
    }
   ]
  },
  {
   "cell_type": "code",
   "execution_count": 1,
   "metadata": {},
   "source": [
    "#!fsharp\n",
    "taskInput |> parse2 |> findGoal2"
   ],
   "outputs": [
    {
     "output_type": "execute_result",
     "data": {
      "text/html": "<div class=\"dni-plaintext\">305068317272992</div>"
     },
     "execution_count": 1,
     "metadata": {}
    }
   ]
  },
  {
   "cell_type": "code",
   "execution_count": 1,
   "metadata": {},
   "source": [
    "#!fsharp\n",
    "let rec gcdExt a b =\n",
    "    if a = 0L then\n",
    "        (b,0L,1L)\n",
    "    else\n",
    "        let res, x1, y1 = gcdExt (b%a) a\n",
    "        (res, y1 - (b / a) * x1, x1)\n",
    "\n",
    "let modInverse b m =\n",
    "    let g, x, y = gcdExt b m\n",
    "\n",
    "    if g <> 1L then\n",
    "        -1L\n",
    "    else\n",
    "        (x % m + m) % m\n",
    "\n",
    "let modDiv a b m =\n",
    "    let a2 = a % m\n",
    "    let inv = modInverse b m\n",
    "    if inv = -1L then\n",
    "        failwith \"Division not defined\" \n",
    "    else\n",
    "        (inv * a2) % m\n",
    "//gcdExt 6L 4L\n",
    "modDiv 1L 3L 7L"
   ],
   "outputs": [
    {
     "output_type": "execute_result",
     "data": {
      "text/html": "<div class=\"dni-plaintext\">5</div>"
     },
     "execution_count": 1,
     "metadata": {}
    }
   ]
  },
  {
   "cell_type": "code",
   "execution_count": 1,
   "metadata": {},
   "source": [
    "#!fsharp\n",
    "let findGoal3 (buses: (int64 * int64) array) =\n",
    "    let rec inner (timestamp: int64) (multiply: int64) (buses: (int64 * int64) list) =\n",
    "        match buses with\n",
    "        | [] -> timestamp\n",
    "        | (offs,id)::xr ->\n",
    "            // we want to be sure that   (delta + offs + timestamp) % id = 0, where delta is multiply of \"multiply\"\n",
    "            // we turn it into delta  = 0 - offs - timestamp      in modulo id\n",
    "            // and solve for  X * multiply = 0 - offs - timestamp  in modulo id \n",
    "            let numerator = (id + (-offs - timestamp) % id) % id\n",
    "            let div = modDiv numerator multiply id\n",
    "            let newTimestamp = timestamp + (div * multiply)\n",
    "            inner newTimestamp (lcm multiply id) xr\n",
    "\n",
    "    let asList = List.ofArray buses\n",
    "    inner (snd buses.[0]) 1L asList\n",
    "\n",
    "testInput2 |> parse2 |> findGoal3\n",
    "//(13 + (-2 - 17) % 13) % 13"
   ],
   "outputs": [
    {
     "output_type": "execute_result",
     "data": {
      "text/html": "<div class=\"dni-plaintext\">3417</div>"
     },
     "execution_count": 1,
     "metadata": {}
    }
   ]
  },
  {
   "cell_type": "code",
   "execution_count": 1,
   "metadata": {},
   "source": [
    "#!fsharp\n",
    "[\n",
    "testInput2 |> parse2 |> findGoal3\n",
    "testInput3 |> parse2 |> findGoal3\n",
    "testInput4 |> parse2 |> findGoal3\n",
    "testInput5 |> parse2 |> findGoal3\n",
    "testInput6 |> parse2 |> findGoal3\n",
    "]"
   ],
   "outputs": [
    {
     "output_type": "execute_result",
     "data": {
      "text/html": "<table><thead><tr><th><i>index</i></th><th>value</th></tr></thead><tbody><tr><td>0</td><td><div class=\"dni-plaintext\">3417</div></td></tr><tr><td>1</td><td><div class=\"dni-plaintext\">754018</div></td></tr><tr><td>2</td><td><div class=\"dni-plaintext\">779210</div></td></tr><tr><td>3</td><td><div class=\"dni-plaintext\">1261476</div></td></tr><tr><td>4</td><td><div class=\"dni-plaintext\">1202161486</div></td></tr></tbody></table>"
     },
     "execution_count": 1,
     "metadata": {}
    }
   ]
  },
  {
   "cell_type": "code",
   "execution_count": 1,
   "metadata": {},
   "source": [
    "#!fsharp\n",
    "taskInput |> parse2 |> findGoal3"
   ],
   "outputs": [
    {
     "output_type": "execute_result",
     "data": {
      "text/html": "<div class=\"dni-plaintext\">305068317272992</div>"
     },
     "execution_count": 1,
     "metadata": {}
    }
   ]
  }
 ],
 "metadata": {
  "kernelspec": {
   "display_name": ".NET (C#)",
   "language": "C#",
   "name": ".net-csharp"
  },
  "language_info": {
   "file_extension": ".cs",
   "mimetype": "text/x-csharp",
   "name": "C#",
   "pygments_lexer": "csharp",
   "version": "8.0"
  }
 },
 "nbformat": 4,
 "nbformat_minor": 4
}