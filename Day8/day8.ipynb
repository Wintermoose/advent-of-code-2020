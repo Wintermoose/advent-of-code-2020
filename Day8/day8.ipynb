{
 "cells": [
  {
   "cell_type": "markdown",
   "metadata": {},
   "source": [
    "--- Day 8: Handheld Halting ---\n",
    "\n",
    "Your flight to the major airline hub reaches cruising altitude without incident. While you consider checking the in-flight menu for one of those drinks that come with a little umbrella, you are interrupted by the kid sitting next to you.\n",
    "\n",
    "Their handheld game console won't turn on! They ask if you can take a look.\n",
    "\n",
    "You narrow the problem down to a strange infinite loop in the boot code (your puzzle input) of the device. You should be able to fix it, but first you need to be able to run the code in isolation.\n",
    "\n",
    "The boot code is represented as a text file with one instruction per line of text. Each instruction consists of an operation (acc, jmp, or nop) and an argument (a signed number like +4 or -20).\n",
    "\n",
    "    acc increases or decreases a single global value called the accumulator by the value given in the argument. For example, acc +7 would increase the accumulator by 7. The accumulator starts at 0. After an acc instruction, the instruction immediately below it is executed next.\n",
    "    jmp jumps to a new instruction relative to itself. The next instruction to execute is found using the argument as an offset from the jmp instruction; for example, jmp +2 would skip the next instruction, jmp +1 would continue to the instruction immediately below it, and jmp -20 would cause the instruction 20 lines above to be executed next.\n",
    "    nop stands for No OPeration - it does nothing. The instruction immediately below it is executed next.\n",
    "\n",
    "For example, consider the following program:\n",
    "\n",
    "```\n",
    "nop +0\n",
    "acc +1\n",
    "jmp +4\n",
    "acc +3\n",
    "jmp -3\n",
    "acc -99\n",
    "acc +1\n",
    "jmp -4\n",
    "acc +6\n",
    "```\n",
    "\n",
    "These instructions are visited in this order:\n",
    "\n",
    "```\n",
    "nop +0  | 1\n",
    "acc +1  | 2, 8(!)\n",
    "jmp +4  | 3\n",
    "acc +3  | 6\n",
    "jmp -3  | 7\n",
    "acc -99 |\n",
    "acc +1  | 4\n",
    "jmp -4  | 5\n",
    "acc +6  |\n",
    "```\n",
    "\n",
    "First, the nop +0 does nothing. Then, the accumulator is increased from 0 to 1 (acc +1) and jmp +4 sets the next instruction to the other acc +1 near the bottom. After it increases the accumulator from 1 to 2, jmp -4 executes, setting the next instruction to the only acc +3. It sets the accumulator to 5, and jmp -3 causes the program to continue back at the first acc +1.\n",
    "\n",
    "This is an infinite loop: with this sequence of jumps, the program will run forever. The moment the program tries to run any instruction a second time, you know it will never terminate.\n",
    "\n",
    "Immediately before the program would run an instruction a second time, the value in the accumulator is 5.\n",
    "\n",
    "Run your copy of the boot code. Immediately before any instruction is executed a second time, what value is in the accumulator?\n",
    ""
   ]
  },
  {
   "cell_type": "code",
   "execution_count": 1,
   "metadata": {},
   "source": [
    "#!fsharp\n",
    "type Op = NOP | ACC | JMP\n",
    "type Instruction = { op: Op; arg: int }\n",
    "type Cpu = { program: Instruction[]; IP: int; A: int }\n",
    "\n",
    "let parseInstruction ( code: string ) =\n",
    "    let parts = code.Split(\" \", 2)\n",
    "    let arg = int parts.[1]\n",
    "    match parts.[0] with\n",
    "    | \"nop\" -> { op = NOP; arg = arg }\n",
    "    | \"acc\" -> { op = ACC; arg = arg }\n",
    "    | \"jmp\" -> { op = JMP; arg = arg }\n",
    "    | _ -> failwithf \"Unknown instruction %s\" parts.[0]\n",
    "\n",
    "let parse ( code: string ) =\n",
    "    code.Replace(\"\\r\", \"\").Split(\"\\n\")\n",
    "    |> Array.filter (fun f -> f <> \"\")\n",
    "    |> Array.map parseInstruction\n",
    "    |> (fun program -> { program = program; IP = 0; A = 0 })\n",
    "\n",
    "let testInput = \"\"\"nop +0\n",
    "acc +1\n",
    "jmp +4\n",
    "acc +3\n",
    "jmp -3\n",
    "acc -99\n",
    "acc +1\n",
    "jmp -4\n",
    "acc +6\"\"\"\n",
    "\n",
    "parse testInput"
   ],
   "outputs": [
    {
     "output_type": "execute_result",
     "data": {
      "text/html": "<table><thead><tr><th>program</th><th>IP</th><th>A</th></tr></thead><tbody><tr><td><div class=\"dni-plaintext\">[ { op = NOP\n  arg = 0 }, { op = ACC\n  arg = 1 }, { op = JMP\n  arg = 4 }, { op = ACC\n  arg = 3 }, { op = JMP\n  arg = -3 }, { op = ACC\n  arg = -99 }, { op = ACC\n  arg = 1 }, { op = JMP\n  arg = -4 }, { op = ACC\n  arg = 6 } ]</div></td><td><div class=\"dni-plaintext\">0</div></td><td><div class=\"dni-plaintext\">0</div></td></tr></tbody></table>"
     },
     "execution_count": 1,
     "metadata": {}
    }
   ]
  },
  {
   "cell_type": "code",
   "execution_count": 1,
   "metadata": {},
   "source": [
    "#!fsharp\n",
    "let cpuStep (cpu: Cpu) =\n",
    "    let instruction = cpu.program.[cpu.IP]\n",
    "    match instruction.op with\n",
    "    | NOP -> { cpu with IP = cpu.IP + 1 }\n",
    "    | ACC -> { cpu with IP = cpu.IP + 1; A = cpu.A + instruction.arg }\n",
    "    | JMP -> { cpu with IP = cpu.IP + instruction.arg }\n",
    "    | _ -> failwithf \"Failed to execute instruction %A in %A\" instruction cpu\n",
    "\n",
    "parse testInput |> cpuStep |> cpuStep |> cpuStep"
   ],
   "outputs": [
    {
     "output_type": "execute_result",
     "data": {
      "text/html": "<table><thead><tr><th>program</th><th>IP</th><th>A</th></tr></thead><tbody><tr><td><div class=\"dni-plaintext\">[ { op = NOP\n  arg = 0 }, { op = ACC\n  arg = 1 }, { op = JMP\n  arg = 4 }, { op = ACC\n  arg = 3 }, { op = JMP\n  arg = -3 }, { op = ACC\n  arg = -99 }, { op = ACC\n  arg = 1 }, { op = JMP\n  arg = -4 }, { op = ACC\n  arg = 6 } ]</div></td><td><div class=\"dni-plaintext\">6</div></td><td><div class=\"dni-plaintext\">1</div></td></tr></tbody></table>"
     },
     "execution_count": 1,
     "metadata": {}
    }
   ]
  },
  {
   "cell_type": "code",
   "execution_count": 1,
   "metadata": {},
   "source": [
    "#!fsharp\n",
    "let runUntilLock cpu =\n",
    "    let rec inner (visited: Set<int> ) cpu =\n",
    "        if visited.Contains cpu.IP then \n",
    "            cpu.A\n",
    "        else\n",
    "            cpuStep cpu\n",
    "            |> inner (visited.Add cpu.IP)\n",
    "    inner Set.empty cpu \n",
    "\n",
    "parse testInput |> runUntilLock"
   ],
   "outputs": [
    {
     "output_type": "execute_result",
     "data": {
      "text/html": "<div class=\"dni-plaintext\">5</div>"
     },
     "execution_count": 1,
     "metadata": {}
    }
   ]
  },
  {
   "cell_type": "code",
   "execution_count": 1,
   "metadata": {},
   "source": [
    "#!fsharp\n",
    "let taskInput = System.IO.File.ReadAllText \"task.txt\""
   ],
   "outputs": []
  },
  {
   "cell_type": "code",
   "execution_count": 1,
   "metadata": {},
   "source": [
    "#!fsharp\n",
    "parse taskInput |> runUntilLock"
   ],
   "outputs": [
    {
     "output_type": "execute_result",
     "data": {
      "text/html": "<div class=\"dni-plaintext\">1814</div>"
     },
     "execution_count": 1,
     "metadata": {}
    }
   ]
  },
  {
   "cell_type": "markdown",
   "metadata": {},
   "source": [
    "--- Part Two ---\n",
    "\n",
    "After some careful analysis, you believe that exactly one instruction is corrupted.\n",
    "\n",
    "Somewhere in the program, either a jmp is supposed to be a nop, or a nop is supposed to be a jmp. (No acc instructions were harmed in the corruption of this boot code.)\n",
    "\n",
    "The program is supposed to terminate by attempting to execute an instruction immediately after the last instruction in the file. By changing exactly one jmp or nop, you can repair the boot code and make it terminate correctly.\n",
    "\n",
    "For example, consider the same program from above:\n",
    "\n",
    "```\n",
    "nop +0\n",
    "acc +1\n",
    "jmp +4\n",
    "acc +3\n",
    "jmp -3\n",
    "acc -99\n",
    "acc +1\n",
    "jmp -4\n",
    "acc +6\n",
    "```\n",
    "\n",
    "If you change the first instruction from nop +0 to jmp +0, it would create a single-instruction infinite loop, never leaving that instruction. If you change almost any of the jmp instructions, the program will still eventually find another jmp instruction and loop forever.\n",
    "\n",
    "However, if you change the second-to-last instruction (from jmp -4 to nop -4), the program terminates! The instructions are visited in this order:\n",
    "\n",
    "```\n",
    "nop +0  | 1\n",
    "acc +1  | 2\n",
    "jmp +4  | 3\n",
    "acc +3  |\n",
    "jmp -3  |\n",
    "acc -99 |\n",
    "acc +1  | 4\n",
    "nop -4  | 5\n",
    "acc +6  | 6\n",
    "```\n",
    "\n",
    "After the last instruction (acc +6), the program terminates by attempting to run the instruction below the last instruction in the file. With this change, after the program terminates, the accumulator contains the value 8 (acc +1, acc +1, acc +6).\n",
    "\n",
    "Fix the program so that it terminates normally by changing exactly one jmp (to nop) or nop (to jmp). What is the value of the accumulator after the program terminates?\n",
    ""
   ]
  },
  {
   "cell_type": "code",
   "execution_count": 1,
   "metadata": {},
   "source": [
    "#!fsharp\n",
    "let runProgram (cpu: Cpu) =\n",
    "    let rec inner (visited: Set<int>) cpu =\n",
    "        if visited.Contains cpu.IP then\n",
    "            None\n",
    "        elif cpu.IP >= cpu.program.Length then\n",
    "            Some cpu.A\n",
    "        else\n",
    "            cpuStep cpu \n",
    "            |> inner (visited.Add cpu.IP)\n",
    "    inner Set.empty cpu\n",
    "\n",
    "parse testInput |> runProgram"
   ],
   "outputs": [
    {
     "output_type": "execute_result",
     "data": {},
     "execution_count": 1,
     "metadata": {}
    }
   ]
  },
  {
   "cell_type": "code",
   "execution_count": 1,
   "metadata": {},
   "source": [
    "#!fsharp\n",
    "let findWorking (cpu:Cpu) =\n",
    "    let rec inner patchOffset cpu =\n",
    "        let instruction = cpu.program.[patchOffset]\n",
    "        let patchedCpu = \n",
    "            if instruction.op = NOP then\n",
    "                let patchedProgram = Array.copy cpu.program\n",
    "                patchedProgram.[patchOffset] <- { instruction with op = JMP }\n",
    "                Some { cpu with program = patchedProgram }\n",
    "            else if instruction.op = JMP then\n",
    "                let patchedProgram = Array.copy cpu.program\n",
    "                patchedProgram.[patchOffset] <- { instruction with op = NOP }\n",
    "                Some { cpu with program = patchedProgram }\n",
    "            else\n",
    "                None\n",
    "        \n",
    "        let result = match patchedCpu with\n",
    "                     | Some patchedCpu -> runProgram patchedCpu\n",
    "                     | _ -> None\n",
    "\n",
    "        match result with\n",
    "        | Some res -> res\n",
    "        | _ -> inner (patchOffset+1) cpu\n",
    "\n",
    "    inner 0 cpu\n",
    ""
   ],
   "outputs": []
  },
  {
   "cell_type": "code",
   "execution_count": 1,
   "metadata": {},
   "source": [
    "#!fsharp\n",
    "parse testInput |> findWorking"
   ],
   "outputs": [
    {
     "output_type": "execute_result",
     "data": {
      "text/html": "<div class=\"dni-plaintext\">8</div>"
     },
     "execution_count": 1,
     "metadata": {}
    }
   ]
  },
  {
   "cell_type": "code",
   "execution_count": 1,
   "metadata": {},
   "source": [
    "#!fsharp\n",
    "parse taskInput |> findWorking"
   ],
   "outputs": [
    {
     "output_type": "execute_result",
     "data": {
      "text/html": "<div class=\"dni-plaintext\">1056</div>"
     },
     "execution_count": 1,
     "metadata": {}
    }
   ]
  }
 ],
 "metadata": {
  "kernelspec": {
   "display_name": ".NET (C#)",
   "language": "C#",
   "name": ".net-csharp"
  },
  "language_info": {
   "file_extension": ".cs",
   "mimetype": "text/x-csharp",
   "name": "C#",
   "pygments_lexer": "csharp",
   "version": "8.0"
  }
 },
 "nbformat": 4,
 "nbformat_minor": 4
}