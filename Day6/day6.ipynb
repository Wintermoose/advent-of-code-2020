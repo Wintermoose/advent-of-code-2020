{
 "cells": [
  {
   "cell_type": "markdown",
   "metadata": {},
   "source": [
    "--- Day 6: Custom Customs ---\n",
    "\n",
    "As your flight approaches the regional airport where you'll switch to a much larger plane, customs declaration forms are distributed to the passengers.\n",
    "\n",
    "The form asks a series of 26 yes-or-no questions marked a through z. All you need to do is identify the questions for which anyone in your group answers \"yes\". Since your group is just you, this doesn't take very long.\n",
    "\n",
    "However, the person sitting next to you seems to be experiencing a language barrier and asks if you can help. For each of the people in their group, you write down the questions for which they answer \"yes\", one per line. For example:\n",
    "\n",
    "```\n",
    "abcx\n",
    "abcy\n",
    "abcz\n",
    "```\n",
    "\n",
    "In this group, there are 6 questions to which anyone answered \"yes\": a, b, c, x, y, and z. (Duplicate answers to the same question don't count extra; each question counts at most once.)\n",
    "\n",
    "Another group asks for your help, then another, and eventually you've collected answers from every group on the plane (your puzzle input). Each group's answers are separated by a blank line, and within each group, each person's answers are on a single line. For example:\n",
    "\n",
    "```\n",
    "abc\n",
    "\n",
    "a\n",
    "b\n",
    "c\n",
    "\n",
    "ab\n",
    "ac\n",
    "\n",
    "a\n",
    "a\n",
    "a\n",
    "a\n",
    "\n",
    "b\n",
    "```\n",
    "\n",
    "This list represents answers from five groups:\n",
    "\n",
    "* The first group contains one person who answered \"yes\" to 3 questions: a, b, and c.\n",
    "* The second group contains three people; combined, they answered \"yes\" to 3 questions: a, b, and c.\n",
    "* The third group contains two people; combined, they answered \"yes\" to 3 questions: a, b, and c.\n",
    "* The fourth group contains four people; combined, they answered \"yes\" to only 1 question, a.\n",
    "* The last group contains one person who answered \"yes\" to only 1 question, b.\n",
    "\n",
    "In this example, the sum of these counts is 3 + 3 + 3 + 1 + 1 = 11.\n",
    "\n",
    "For each group, count the number of questions to which anyone answered \"yes\". What is the sum of those counts?\n",
    ""
   ]
  },
  {
   "cell_type": "code",
   "execution_count": 1,
   "metadata": {},
   "source": [
    "#!fsharp\n",
    "let testInput = \"\"\"abc\n",
    "\n",
    "a\n",
    "b\n",
    "c\n",
    "\n",
    "ab\n",
    "ac\n",
    "\n",
    "a\n",
    "a\n",
    "a\n",
    "a\n",
    "\n",
    "b\"\"\""
   ],
   "outputs": []
  },
  {
   "cell_type": "code",
   "execution_count": 1,
   "metadata": {},
   "source": [
    "#!fsharp\n",
    "let parse (input: string) =\n",
    "    input\n",
    "    |> ( fun f -> f.Replace(\"\\r\", \"\") )\n",
    "    |> ( fun f -> f.Split(\"\\n\\n\") )\n",
    "    |> Array.map ( fun f -> f.Split(\"\\n\") )\n",
    "\n",
    "let gatherUniqueAnswersInGroup group =\n",
    "    Array.fold ( fun acc p ->\n",
    "        Set.union acc (Set.ofSeq p)\n",
    "    ) Set.empty group\n",
    "\n",
    "let countUniqueAnswers groups =\n",
    "    groups\n",
    "    |> parse\n",
    "    |> Array.map gatherUniqueAnswersInGroup\n",
    "    |> Array.map (fun f -> f.Count )\n",
    "\n",
    "countUniqueAnswers testInput |> Array.sum"
   ],
   "outputs": [
    {
     "output_type": "execute_result",
     "data": {
      "text/html": "<div class=\"dni-plaintext\">11</div>"
     },
     "execution_count": 1,
     "metadata": {}
    }
   ]
  },
  {
   "cell_type": "code",
   "execution_count": 1,
   "metadata": {},
   "source": [
    "#!fsharp\n",
    "// note: partially broken in the vs extension: works only after notebook is created and vscode reloaded\n",
    "let taskInput = System.IO.File.ReadAllText \"task.txt\"\n",
    ""
   ],
   "outputs": []
  },
  {
   "cell_type": "code",
   "execution_count": 1,
   "metadata": {},
   "source": [
    "#!fsharp\n",
    "countUniqueAnswers taskInput |> Array.sum"
   ],
   "outputs": [
    {
     "output_type": "execute_result",
     "data": {
      "text/html": "<div class=\"dni-plaintext\">6809</div>"
     },
     "execution_count": 1,
     "metadata": {}
    }
   ]
  },
  {
   "cell_type": "markdown",
   "metadata": {},
   "source": [
    "--- Part Two ---\n",
    "\n",
    "As you finish the last group's customs declaration, you notice that you misread one word in the instructions:\n",
    "\n",
    "You don't need to identify the questions to which anyone answered \"yes\"; you need to identify the questions to which everyone answered \"yes\"!\n",
    "\n",
    "Using the same example as above:\n",
    "\n",
    "```\n",
    "abc\n",
    "\n",
    "a\n",
    "b\n",
    "c\n",
    "\n",
    "ab\n",
    "ac\n",
    "\n",
    "a\n",
    "a\n",
    "a\n",
    "a\n",
    "\n",
    "b\n",
    "```\n",
    "\n",
    "This list represents answers from five groups:\n",
    "\n",
    "* In the first group, everyone (all 1 person) answered \"yes\" to 3 questions: a, b, and c.\n",
    "* In the second group, there is no question to which everyone answered \"yes\".\n",
    "* In the third group, everyone answered yes to only 1 question, a. Since some people did not answer \"yes\" to b or c, they don't count.\n",
    "* In the fourth group, everyone answered yes to only 1 question, a.\n",
    "* In the fifth group, everyone (all 1 person) answered \"yes\" to 1 question, b.\n",
    "\n",
    "In this example, the sum of these counts is 3 + 0 + 1 + 1 + 1 = 6.\n",
    "\n",
    "For each group, count the number of questions to which everyone answered \"yes\". What is the sum of those counts?\n",
    ""
   ]
  },
  {
   "cell_type": "code",
   "execution_count": 1,
   "metadata": {},
   "source": [
    "#!fsharp\n",
    "let gatherMatchingAnswersInGroup group =\n",
    "    group\n",
    "    |> Array.map Set.ofSeq\n",
    "    |> Set.intersectMany\n",
    "\n",
    "testInput |> parse |> Array.map gatherMatchingAnswersInGroup"
   ],
   "outputs": [
    {
     "output_type": "execute_result",
     "data": {
      "text/html": "<table><thead><tr><th><i>index</i></th><th>value</th></tr></thead><tbody><tr><td>0</td><td><div class=\"dni-plaintext\">[ a, b, c ]</div></td></tr><tr><td>1</td><td><div class=\"dni-plaintext\">[  ]</div></td></tr><tr><td>2</td><td><div class=\"dni-plaintext\">[ a ]</div></td></tr><tr><td>3</td><td><div class=\"dni-plaintext\">[ a ]</div></td></tr><tr><td>4</td><td><div class=\"dni-plaintext\">[ b ]</div></td></tr></tbody></table>"
     },
     "execution_count": 1,
     "metadata": {}
    }
   ]
  },
  {
   "cell_type": "code",
   "execution_count": 1,
   "metadata": {},
   "source": [
    "#!fsharp\n",
    "let countMatchingAnswers groups =\n",
    "    groups\n",
    "    |> parse\n",
    "    |> Array.map gatherMatchingAnswersInGroup\n",
    "    |> Array.map (fun f -> f.Count )\n",
    "\n",
    "taskInput |> countMatchingAnswers |> Array.sum"
   ],
   "outputs": [
    {
     "output_type": "execute_result",
     "data": {
      "text/html": "<div class=\"dni-plaintext\">3394</div>"
     },
     "execution_count": 1,
     "metadata": {}
    }
   ]
  }
 ],
 "metadata": {
  "kernelspec": {
   "display_name": ".NET (C#)",
   "language": "C#",
   "name": ".net-csharp"
  },
  "language_info": {
   "file_extension": ".cs",
   "mimetype": "text/x-csharp",
   "name": "C#",
   "pygments_lexer": "csharp",
   "version": "8.0"
  }
 },
 "nbformat": 4,
 "nbformat_minor": 4
}