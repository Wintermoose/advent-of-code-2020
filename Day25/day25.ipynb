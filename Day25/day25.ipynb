{
 "cells": [
  {
   "cell_type": "markdown",
   "metadata": {},
   "source": [
    "--- Day 25: Combo Breaker ---\n",
    "\n",
    "You finally reach the check-in desk. Unfortunately, their registration systems are currently offline, and they cannot check you in. Noticing the look on your face, they quickly add that tech support is already on the way! They even created all the room keys this morning; you can take yours now and give them your room deposit once the registration system comes back online.\n",
    "\n",
    "The room key is a small RFID card. Your room is on the 25th floor and the elevators are also temporarily out of service, so it takes what little energy you have left to even climb the stairs and navigate the halls. You finally reach the door to your room, swipe your card, and - beep - the light turns red.\n",
    "\n",
    "Examining the card more closely, you discover a phone number for tech support.\n",
    "\n",
    "\"Hello! How can we help you today?\" You explain the situation.\n",
    "\n",
    "\"Well, it sounds like the card isn't sending the right command to unlock the door. If you go back to the check-in desk, surely someone there can reset it for you.\" Still catching your breath, you describe the status of the elevator and the exact number of stairs you just had to climb.\n",
    "\n",
    "\"I see! Well, your only other option would be to reverse-engineer the cryptographic handshake the card does with the door and then inject your own commands into the data stream, but that's definitely impossible.\" You thank them for their time.\n",
    "\n",
    "Unfortunately for the door, you know a thing or two about cryptographic handshakes.\n",
    "\n",
    "The handshake used by the card and the door involves an operation that transforms a subject number. To transform a subject number, start with the value 1. Then, a number of times called the loop size, perform the following steps:\n",
    "\n",
    "*    Set the value to itself multiplied by the subject number.\n",
    "*    Set the value to the remainder after dividing the value by 20201227.\n",
    "\n",
    "The card always uses a specific, secret loop size when it transforms a subject number. The door always uses a different, secret loop size.\n",
    "\n",
    "The cryptographic handshake works like this:\n",
    "\n",
    "*    The card transforms the subject number of 7 according to the card's secret loop size. The result is called the card's public key.\n",
    "*    The door transforms the subject number of 7 according to the door's secret loop size. The result is called the door's public key.\n",
    "*    The card and door use the wireless RFID signal to transmit the two public keys (your puzzle input) to the other device. Now, the card has the door's public key, and the door has the card's public key. Because you can eavesdrop on the signal, you have both public keys, but neither device's loop size.\n",
    "*    The card transforms the subject number of the door's public key according to the card's loop size. The result is the encryption key.\n",
    "*    The door transforms the subject number of the card's public key according to the door's loop size. The result is the same encryption key as the card calculated.\n",
    "\n",
    "If you can use the two public keys to determine each device's loop size, you will have enough information to calculate the secret encryption key that the card and door use to communicate; this would let you send the unlock command directly to the door!\n",
    "\n",
    "For example, suppose you know that the card's public key is 5764801. With a little trial and error, you can work out that the card's loop size must be 8, because transforming the initial subject number of 7 with a loop size of 8 produces 5764801.\n",
    "\n",
    "Then, suppose you know that the door's public key is 17807724. By the same process, you can determine that the door's loop size is 11, because transforming the initial subject number of 7 with a loop size of 11 produces 17807724.\n",
    "\n",
    "At this point, you can use either device's loop size with the other device's public key to calculate the encryption key. Transforming the subject number of 17807724 (the door's public key) with a loop size of 8 (the card's loop size) produces the encryption key, 14897079. (Transforming the subject number of 5764801 (the card's public key) with a loop size of 11 (the door's loop size) produces the same encryption key: 14897079.)\n",
    "\n",
    "What encryption key is the handshake trying to establish?\n",
    ""
   ]
  },
  {
   "cell_type": "code",
   "execution_count": 1,
   "metadata": {},
   "source": [
    "#!fsharp\n",
    "let findLoops (subject:uint64) (target:uint64) =\n",
    "    let rec inner cnt  value =    \n",
    "        let newValue = (value * subject) % 20201227uL\n",
    "        if newValue = target then\n",
    "            cnt\n",
    "        else\n",
    "            inner (cnt+1) newValue\n",
    "    inner 1 1uL\n",
    "\n",
    "findLoops 7uL 5764801uL\n",
    ""
   ],
   "outputs": [
    {
     "output_type": "execute_result",
     "data": {
      "text/html": "<div class=\"dni-plaintext\">8</div>"
     },
     "execution_count": 1,
     "metadata": {}
    }
   ]
  },
  {
   "cell_type": "code",
   "execution_count": 1,
   "metadata": {},
   "source": [
    "#!fsharp\n",
    "findLoops 7uL 17807724uL"
   ],
   "outputs": [
    {
     "output_type": "execute_result",
     "data": {
      "text/html": "<div class=\"dni-plaintext\">11</div>"
     },
     "execution_count": 1,
     "metadata": {}
    }
   ]
  },
  {
   "cell_type": "code",
   "execution_count": 1,
   "metadata": {},
   "source": [
    "#!fsharp\n",
    "let runLoops (subject:uint64) cnt =\n",
    "    let mutable value = 1uL\n",
    "    for i in 1..cnt do\n",
    "        value <- (value * subject) % 20201227uL\n",
    "    value\n",
    "\n",
    "runLoops 7uL 8"
   ],
   "outputs": [
    {
     "output_type": "execute_result",
     "data": {
      "text/html": "<div class=\"dni-plaintext\">5764801</div>"
     },
     "execution_count": 1,
     "metadata": {}
    }
   ]
  },
  {
   "cell_type": "code",
   "execution_count": 1,
   "metadata": {},
   "source": [
    "#!fsharp\n",
    "runLoops 7uL 11"
   ],
   "outputs": [
    {
     "output_type": "execute_result",
     "data": {
      "text/html": "<div class=\"dni-plaintext\">17807724</div>"
     },
     "execution_count": 1,
     "metadata": {}
    }
   ]
  },
  {
   "cell_type": "code",
   "execution_count": 1,
   "metadata": {},
   "source": [
    "#!fsharp\n",
    "runLoops 17807724uL 8"
   ],
   "outputs": [
    {
     "output_type": "execute_result",
     "data": {
      "text/html": "<div class=\"dni-plaintext\">14897079</div>"
     },
     "execution_count": 1,
     "metadata": {}
    }
   ]
  },
  {
   "cell_type": "code",
   "execution_count": 1,
   "metadata": {},
   "source": [
    "#!fsharp\n",
    "runLoops 5764801uL 11 "
   ],
   "outputs": [
    {
     "output_type": "execute_result",
     "data": {
      "text/html": "<div class=\"dni-plaintext\">14897079</div>"
     },
     "execution_count": 1,
     "metadata": {}
    }
   ]
  },
  {
   "cell_type": "code",
   "execution_count": 1,
   "metadata": {},
   "source": [
    "#!fsharp\n",
    "let findPrivateKey publicCard publicDoor =\n",
    "    let cardLoops = findLoops 7UL publicCard\n",
    "    runLoops publicDoor cardLoops\n",
    "findPrivateKey 5764801uL 17807724uL"
   ],
   "outputs": [
    {
     "output_type": "execute_result",
     "data": {
      "text/html": "<div class=\"dni-plaintext\">14897079</div>"
     },
     "execution_count": 1,
     "metadata": {}
    }
   ]
  },
  {
   "cell_type": "code",
   "execution_count": 1,
   "metadata": {},
   "source": [
    "#!fsharp\n",
    "let taskInput = (15113849uL, 4206373uL)\n",
    "\n",
    "findPrivateKey (fst taskInput) (snd taskInput)"
   ],
   "outputs": [
    {
     "output_type": "execute_result",
     "data": {
      "text/html": "<div class=\"dni-plaintext\">1890859</div>"
     },
     "execution_count": 1,
     "metadata": {}
    }
   ]
  }
 ],
 "metadata": {
  "kernelspec": {
   "display_name": ".NET (C#)",
   "language": "C#",
   "name": ".net-csharp"
  },
  "language_info": {
   "file_extension": ".cs",
   "mimetype": "text/x-csharp",
   "name": "C#",
   "pygments_lexer": "csharp",
   "version": "8.0"
  }
 },
 "nbformat": 4,
 "nbformat_minor": 4
}