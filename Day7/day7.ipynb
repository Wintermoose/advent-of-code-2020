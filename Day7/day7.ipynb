{
 "cells": [
  {
   "cell_type": "markdown",
   "metadata": {},
   "source": [
    "--- Day 7: Handy Haversacks ---\n",
    "\n",
    "You land at the regional airport in time for your next flight. In fact, it looks like you'll even have time to grab some food: all flights are currently delayed due to issues in luggage processing.\n",
    "\n",
    "Due to recent aviation regulations, many rules (your puzzle input) are being enforced about bags and their contents; bags must be color-coded and must contain specific quantities of other color-coded bags. Apparently, nobody responsible for these regulations considered how long they would take to enforce!\n",
    "\n",
    "For example, consider the following rules:\n",
    "\n",
    "```\n",
    "light red bags contain 1 bright white bag, 2 muted yellow bags.\n",
    "dark orange bags contain 3 bright white bags, 4 muted yellow bags.\n",
    "bright white bags contain 1 shiny gold bag.\n",
    "muted yellow bags contain 2 shiny gold bags, 9 faded blue bags.\n",
    "shiny gold bags contain 1 dark olive bag, 2 vibrant plum bags.\n",
    "dark olive bags contain 3 faded blue bags, 4 dotted black bags.\n",
    "vibrant plum bags contain 5 faded blue bags, 6 dotted black bags.\n",
    "faded blue bags contain no other bags.\n",
    "dotted black bags contain no other bags.\n",
    "```\n",
    "\n",
    "These rules specify the required contents for 9 bag types. In this example, every faded blue bag is empty, every vibrant plum bag contains 11 bags (5 faded blue and 6 dotted black), and so on.\n",
    "\n",
    "You have a shiny gold bag. If you wanted to carry it in at least one other bag, how many different bag colors would be valid for the outermost bag? (In other words: how many colors can, eventually, contain at least one shiny gold bag?)\n",
    "\n",
    "In the above rules, the following options would be available to you:\n",
    "\n",
    "* A bright white bag, which can hold your shiny gold bag directly.\n",
    "* A muted yellow bag, which can hold your shiny gold bag directly, plus some other bags.\n",
    "* A dark orange bag, which can hold bright white and muted yellow bags, either of which could then hold your shiny gold bag.\n",
    "* A light red bag, which can hold bright white and muted yellow bags, either of which could then hold your shiny gold bag.\n",
    "\n",
    "So, in this example, the number of bag colors that can eventually contain at least one shiny gold bag is 4.\n",
    "\n",
    "How many bag colors can eventually contain at least one shiny gold bag? (The list of rules is quite long; make sure you get all of it.)\n",
    ""
   ]
  },
  {
   "cell_type": "code",
   "execution_count": 1,
   "metadata": {},
   "source": [
    "#!fsharp\n",
    "open System.Text.RegularExpressions\n",
    "\n",
    "type Rule = { container: string; content: Map<string, int> }\n",
    "\n",
    "let (|Regex|_|) (p:string) (s:string)  =\n",
    "    let m = Regex.Match(s, p)\n",
    "    if m.Success then Some(List.tail [ for g in m.Groups -> g.Value ])\n",
    "    else None\n",
    "\n",
    "let parseContent (content: string) = \n",
    "    if content = \"no other bags\" then \n",
    "        Map.empty;\n",
    "    else\n",
    "        content.Split(\",\")\n",
    "        |> Seq.fold \n",
    "            ( fun acc part -> \n",
    "                match part with\n",
    "                | Regex @\"^\\s*([0-9])+\\s+(.+)\\s+bags?\\s*$\" [count; bag] ->\n",
    "                    acc.Add( bag, int count )\n",
    "                | _ -> acc\n",
    "            )\n",
    "            Map.empty\n",
    "\n",
    "let parse (input: string) = \n",
    "    input.Replace(\"\\r\", \"\").Split(\"\\n\")\n",
    "    |> Seq.map\n",
    "        (fun item ->\n",
    "            match item with\n",
    "            | Regex @\"^(.+)\\s+bags\\scontain\\s(.+)\\.$\" [container; content] ->\n",
    "                Some { container = container; content = parseContent content };\n",
    "            | _ ->\n",
    "                None\n",
    "        )\n",
    "    |> Seq.choose id\n",
    "\n",
    "let testInput=\"\"\"light red bags contain 1 bright white bag, 2 muted yellow bags.\n",
    "dark orange bags contain 3 bright white bags, 4 muted yellow bags.\n",
    "bright white bags contain 1 shiny gold bag.\n",
    "muted yellow bags contain 2 shiny gold bags, 9 faded blue bags.\n",
    "shiny gold bags contain 1 dark olive bag, 2 vibrant plum bags.\n",
    "dark olive bags contain 3 faded blue bags, 4 dotted black bags.\n",
    "vibrant plum bags contain 5 faded blue bags, 6 dotted black bags.\n",
    "faded blue bags contain no other bags.\n",
    "dotted black bags contain no other bags.\"\"\"\n",
    "\n",
    "parse testInput"
   ],
   "outputs": [
    {
     "output_type": "execute_result",
     "data": {
      "text/html": "<table><thead><tr><th><i>index</i></th><th>container</th><th>content</th></tr></thead><tbody><tr><td>0</td><td><div class=\"dni-plaintext\">light red</div></td><td><div class=\"dni-plaintext\">[ [bright white, 1], [muted yellow, 2] ]</div></td></tr><tr><td>1</td><td><div class=\"dni-plaintext\">dark orange</div></td><td><div class=\"dni-plaintext\">[ [bright white, 3], [muted yellow, 4] ]</div></td></tr><tr><td>2</td><td><div class=\"dni-plaintext\">bright white</div></td><td><div class=\"dni-plaintext\">[ [shiny gold, 1] ]</div></td></tr><tr><td>3</td><td><div class=\"dni-plaintext\">muted yellow</div></td><td><div class=\"dni-plaintext\">[ [faded blue, 9], [shiny gold, 2] ]</div></td></tr><tr><td>4</td><td><div class=\"dni-plaintext\">shiny gold</div></td><td><div class=\"dni-plaintext\">[ [dark olive, 1], [vibrant plum, 2] ]</div></td></tr><tr><td>5</td><td><div class=\"dni-plaintext\">dark olive</div></td><td><div class=\"dni-plaintext\">[ [dotted black, 4], [faded blue, 3] ]</div></td></tr><tr><td>6</td><td><div class=\"dni-plaintext\">vibrant plum</div></td><td><div class=\"dni-plaintext\">[ [dotted black, 6], [faded blue, 5] ]</div></td></tr><tr><td>7</td><td><div class=\"dni-plaintext\">faded blue</div></td><td><div class=\"dni-plaintext\">[  ]</div></td></tr><tr><td>8</td><td><div class=\"dni-plaintext\">dotted black</div></td><td><div class=\"dni-plaintext\">[  ]</div></td></tr></tbody></table>"
     },
     "execution_count": 1,
     "metadata": {}
    }
   ]
  },
  {
   "cell_type": "code",
   "execution_count": 1,
   "metadata": {},
   "source": [
    "#!fsharp\n",
    "let findBags (bag: string) (rules: seq<Rule>) =\n",
    "    let rec inner (found: Set<string>) target =\n",
    "        rules\n",
    "        |> Seq.fold\n",
    "            (fun (found:Set<string>) v ->\n",
    "                if (v.content.ContainsKey target) && not (found.Contains v.container) then\n",
    "                    inner (found.Add v.container) v.container\n",
    "                else\n",
    "                    found\n",
    "            )\n",
    "            found\n",
    "    inner Set.empty bag\n",
    "\n",
    "findBags \"shiny gold\" (parse testInput)"
   ],
   "outputs": [
    {
     "output_type": "execute_result",
     "data": {
      "text/html": "<table><thead><tr><th><i>index</i></th><th>value</th></tr></thead><tbody><tr><td>0</td><td><div class=\"dni-plaintext\">bright white</div></td></tr><tr><td>1</td><td><div class=\"dni-plaintext\">dark orange</div></td></tr><tr><td>2</td><td><div class=\"dni-plaintext\">light red</div></td></tr><tr><td>3</td><td><div class=\"dni-plaintext\">muted yellow</div></td></tr></tbody></table>"
     },
     "execution_count": 1,
     "metadata": {}
    }
   ]
  },
  {
   "cell_type": "code",
   "execution_count": 1,
   "metadata": {},
   "source": [
    "#!fsharp\n",
    "let taskInput = System.IO.File.ReadAllText \"task.txt\""
   ],
   "outputs": []
  },
  {
   "cell_type": "code",
   "execution_count": 1,
   "metadata": {},
   "source": [
    "#!fsharp\n",
    "findBags \"shiny gold\" (parse taskInput) |> (fun f -> f.Count)"
   ],
   "outputs": [
    {
     "output_type": "execute_result",
     "data": {
      "text/html": "<div class=\"dni-plaintext\">337</div>"
     },
     "execution_count": 1,
     "metadata": {}
    }
   ]
  },
  {
   "cell_type": "code",
   "execution_count": 1,
   "metadata": {},
   "source": [
    "#!fsharp\n",
    "let rec countSize target (rules: seq<Rule>) =\n",
    "    let rule = Seq.find ( fun f -> f.container = target ) rules\n",
    "    rule.content \n",
    "    |> Map.fold \n",
    "        ( fun acc bag count ->\n",
    "            acc + count + count * ( countSize bag rules )            \n",
    "        )\n",
    "        0\n",
    "\n",
    "parse testInput |> countSize \"shiny gold\"\n",
    "\n",
    ""
   ],
   "outputs": [
    {
     "output_type": "execute_result",
     "data": {
      "text/html": "<div class=\"dni-plaintext\">32</div>"
     },
     "execution_count": 1,
     "metadata": {}
    }
   ]
  },
  {
   "cell_type": "code",
   "execution_count": 1,
   "metadata": {},
   "source": [
    "#!fsharp\n",
    "parse taskInput |> countSize \"shiny gold\""
   ],
   "outputs": [
    {
     "output_type": "execute_result",
     "data": {
      "text/html": "<div class=\"dni-plaintext\">50100</div>"
     },
     "execution_count": 1,
     "metadata": {}
    }
   ]
  }
 ],
 "metadata": {
  "kernelspec": {
   "display_name": ".NET (C#)",
   "language": "C#",
   "name": ".net-csharp"
  },
  "language_info": {
   "file_extension": ".cs",
   "mimetype": "text/x-csharp",
   "name": "C#",
   "pygments_lexer": "csharp",
   "version": "8.0"
  }
 },
 "nbformat": 4,
 "nbformat_minor": 4
}