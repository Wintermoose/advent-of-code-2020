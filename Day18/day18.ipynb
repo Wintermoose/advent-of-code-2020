{
 "cells": [
  {
   "cell_type": "markdown",
   "metadata": {},
   "source": [
    "--- Day 18: Operation Order ---\n",
    "\n",
    "As you look out the window and notice a heavily-forested continent slowly appear over the horizon, you are interrupted by the child sitting next to you. They're curious if you could help them with their math homework.\n",
    "\n",
    "Unfortunately, it seems like this \"math\" follows different rules than you remember.\n",
    "\n",
    "The homework (your puzzle input) consists of a series of expressions that consist of addition (+), multiplication (*), and parentheses ((...)). Just like normal math, parentheses indicate that the expression inside must be evaluated before it can be used by the surrounding expression. Addition still finds the sum of the numbers on both sides of the operator, and multiplication still finds the product.\n",
    "\n",
    "However, the rules of operator precedence have changed. Rather than evaluating multiplication before addition, the operators have the same precedence, and are evaluated left-to-right regardless of the order in which they appear.\n",
    "\n",
    "For example, the steps to evaluate the expression 1 + 2 * 3 + 4 * 5 + 6 are as follows:\n",
    "\n",
    "```\n",
    "1 + 2 * 3 + 4 * 5 + 6\n",
    "  3   * 3 + 4 * 5 + 6\n",
    "      9   + 4 * 5 + 6\n",
    "         13   * 5 + 6\n",
    "             65   + 6\n",
    "                 71\n",
    "```\n",
    "\n",
    "Parentheses can override this order; for example, here is what happens if parentheses are added to form 1 + (2 * 3) + (4 * (5 + 6)):\n",
    "\n",
    "```\n",
    "1 + (2 * 3) + (4 * (5 + 6))\n",
    "1 +    6    + (4 * (5 + 6))\n",
    "     7      + (4 * (5 + 6))\n",
    "     7      + (4 *   11   )\n",
    "     7      +     44\n",
    "            51\n",
    "```\n",
    "\n",
    "Here are a few more examples:\n",
    "\n",
    "```\n",
    "    2 * 3 + (4 * 5) becomes 26.\n",
    "    5 + (8 * 3 + 9 + 3 * 4 * 3) becomes 437.\n",
    "    5 * 9 * (7 * 3 * 3 + 9 * 3 + (8 + 6 * 4)) becomes 12240.\n",
    "    ((2 + 4 * 9) * (6 + 9 * 8 + 6) + 6) + 2 + 4 * 2 becomes 13632.\n",
    "```\n",
    "\n",
    "Before you can help with the homework, you need to understand it yourself. Evaluate the expression on each line of the homework; what is the sum of the resulting values?\n",
    ""
   ]
  },
  {
   "cell_type": "code",
   "execution_count": 1,
   "metadata": {},
   "source": [
    "#!fsharp\n",
    "let testInput = \"\"\"1 + (2 * 3) + (4 * (5 + 6))\n",
    "2 * 3 + (4 * 5)\n",
    "5 + (8 * 3 + 9 + 3 * 4 * 3)\n",
    "5 * 9 * (7 * 3 * 3 + 9 * 3 + (8 + 6 * 4))\n",
    "((2 + 4 * 9) * (6 + 9 * 8 + 6) + 6) + 2 + 4 * 2\"\"\"\n",
    "\n",
    "let taskInput = System.IO.File.ReadAllText \"task.txt\""
   ],
   "outputs": []
  },
  {
   "cell_type": "code",
   "execution_count": 1,
   "metadata": {},
   "source": [
    "#!fsharp\n",
    "type Token = T_PLUS \n",
    "            | T_MUL\n",
    "            | T_LPAREN\n",
    "            | T_RPAREN\n",
    "            | T_NUMBER of int64\n",
    "            | T_EOF\n",
    "\n",
    "let tokenizer (input:string) =\n",
    "    seq {\n",
    "        let trimmed = input.Replace(\" \", \"\")\n",
    "        let mutable pos = 0\n",
    "        while pos < trimmed.Length do\n",
    "            match trimmed.[pos] with\n",
    "            | '+' ->\n",
    "                pos <- pos + 1\n",
    "                yield T_PLUS\n",
    "            | '*' ->\n",
    "                pos <- pos + 1\n",
    "                yield T_MUL\n",
    "            | '(' ->\n",
    "                pos <- pos + 1\n",
    "                yield T_LPAREN\n",
    "            | ')' ->\n",
    "                pos <- pos + 1\n",
    "                yield T_RPAREN\n",
    "            | ch when ch >= '0' && ch <= '9' ->\n",
    "                let mutable value = 0L\n",
    "                while pos < trimmed.Length && trimmed.[pos] >= '0' && trimmed.[pos] <='9' do\n",
    "                    value <- value * 10L + (int64 trimmed.[pos] - int64 '0')\n",
    "                    pos <- pos + 1\n",
    "                yield T_NUMBER value\n",
    "            | _ -> failwith (\"Unexpected character \" + trimmed.[..pos-1] + \" ^^\" + trimmed.[pos..])\n",
    "        yield T_EOF\n",
    "    }\n",
    "\n",
    "tokenizer \"((25 + 4 * 9) * (6 + 9 * 8) + 6)\"\n",
    ""
   ],
   "outputs": [
    {
     "output_type": "execute_result",
     "data": {
      "text/html": "<table><thead><tr><th><i>index</i></th><th><i>type</i></th><th></th><th>Item</th></tr></thead><tbody><tr><td>0</td><td>FSI_0009+Token</td><td><div class=\"dni-plaintext\">T_LPAREN</div></td><td></td></tr><tr><td>1</td><td>FSI_0009+Token</td><td><div class=\"dni-plaintext\">T_LPAREN</div></td><td></td></tr><tr><td>2</td><td>FSI_0009+Token+T_NUMBER</td><td></td><td><div class=\"dni-plaintext\">25</div></td></tr><tr><td>3</td><td>FSI_0009+Token</td><td><div class=\"dni-plaintext\">T_PLUS</div></td><td></td></tr><tr><td>4</td><td>FSI_0009+Token+T_NUMBER</td><td></td><td><div class=\"dni-plaintext\">4</div></td></tr><tr><td>5</td><td>FSI_0009+Token</td><td><div class=\"dni-plaintext\">T_MUL</div></td><td></td></tr><tr><td>6</td><td>FSI_0009+Token+T_NUMBER</td><td></td><td><div class=\"dni-plaintext\">9</div></td></tr><tr><td>7</td><td>FSI_0009+Token</td><td><div class=\"dni-plaintext\">T_RPAREN</div></td><td></td></tr><tr><td>8</td><td>FSI_0009+Token</td><td><div class=\"dni-plaintext\">T_MUL</div></td><td></td></tr><tr><td>9</td><td>FSI_0009+Token</td><td><div class=\"dni-plaintext\">T_LPAREN</div></td><td></td></tr><tr><td>10</td><td>FSI_0009+Token+T_NUMBER</td><td></td><td><div class=\"dni-plaintext\">6</div></td></tr><tr><td>11</td><td>FSI_0009+Token</td><td><div class=\"dni-plaintext\">T_PLUS</div></td><td></td></tr><tr><td>12</td><td>FSI_0009+Token+T_NUMBER</td><td></td><td><div class=\"dni-plaintext\">9</div></td></tr><tr><td>13</td><td>FSI_0009+Token</td><td><div class=\"dni-plaintext\">T_MUL</div></td><td></td></tr><tr><td>14</td><td>FSI_0009+Token+T_NUMBER</td><td></td><td><div class=\"dni-plaintext\">8</div></td></tr><tr><td>15</td><td>FSI_0009+Token</td><td><div class=\"dni-plaintext\">T_RPAREN</div></td><td></td></tr><tr><td>16</td><td>FSI_0009+Token</td><td><div class=\"dni-plaintext\">T_PLUS</div></td><td></td></tr><tr><td>17</td><td>FSI_0009+Token+T_NUMBER</td><td></td><td><div class=\"dni-plaintext\">6</div></td></tr><tr><td>18</td><td>FSI_0009+Token</td><td><div class=\"dni-plaintext\">T_RPAREN</div></td><td></td></tr><tr><td>19</td><td>FSI_0009+Token</td><td><div class=\"dni-plaintext\">T_EOF</div></td><td></td></tr></tbody></table>"
     },
     "execution_count": 1,
     "metadata": {}
    }
   ]
  },
  {
   "cell_type": "code",
   "execution_count": 1,
   "metadata": {},
   "source": [
    "#!fsharp\n",
    "let evaluate (input: string) =\n",
    "    let data = input |> tokenizer |> Array.ofSeq\n",
    "\n",
    "    let rec eval start =\n",
    "        let (result, pos) = evalOp start\n",
    "        if data.[pos] <> T_EOF then\n",
    "            failwithf \"Expected end of expression, got %A\" data.[pos]\n",
    "        else\n",
    "            (result, pos)\n",
    "    and\n",
    "        evalOp start =\n",
    "            let (left, pos) = evalFactor start\n",
    "            evalOp2 left pos\n",
    "    and\n",
    "        evalOp2 left start =\n",
    "        match data.[start] with\n",
    "        | T_PLUS ->\n",
    "            let (right, pos) = evalFactor (start+1)\n",
    "            evalOp2 (left+right) pos\n",
    "        | T_MUL ->\n",
    "            let (right, pos) = evalFactor (start+1)\n",
    "            evalOp2 (left*right) pos\n",
    "        | _ ->\n",
    "            (left, start)\n",
    "    and\n",
    "        evalFactor start =\n",
    "        match data.[start] with\n",
    "        | T_NUMBER value ->\n",
    "            (value, start+1)\n",
    "        | T_LPAREN ->\n",
    "            evalBracket start\n",
    "        | token -> failwithf \"Expected ( or number, got %A\" token\n",
    "    and evalBracket start =\n",
    "        match data.[start] with\n",
    "        | T_LPAREN ->\n",
    "            let (res,pos) = evalOp (start+1)\n",
    "            if data.[pos] <> T_RPAREN then\n",
    "                failwithf \"Expected ), got %A as %i\" data.[pos] pos\n",
    "            else\n",
    "                (res, pos+1)\n",
    "        | _ -> evalOp start\n",
    "        \n",
    "    eval 0 |> fst\n",
    "\n",
    "evaluate \"5+1+(5*6)\""
   ],
   "outputs": [
    {
     "output_type": "execute_result",
     "data": {
      "text/html": "<div class=\"dni-plaintext\">36</div>"
     },
     "execution_count": 1,
     "metadata": {}
    }
   ]
  },
  {
   "cell_type": "code",
   "execution_count": 1,
   "metadata": {},
   "source": [
    "#!fsharp\n",
    "let evaluateAll (input: string) =\n",
    "    input.Replace(\"\\r\", \"\").Split(\"\\n\")\n",
    "    |> Seq.map evaluate\n",
    "\n",
    "evaluateAll testInput"
   ],
   "outputs": [
    {
     "output_type": "execute_result",
     "data": {
      "text/html": "<table><thead><tr><th><i>index</i></th><th>value</th></tr></thead><tbody><tr><td>0</td><td><div class=\"dni-plaintext\">26</div></td></tr><tr><td>1</td><td><div class=\"dni-plaintext\">437</div></td></tr><tr><td>2</td><td><div class=\"dni-plaintext\">12240</div></td></tr><tr><td>3</td><td><div class=\"dni-plaintext\">13632</div></td></tr></tbody></table>"
     },
     "execution_count": 1,
     "metadata": {}
    }
   ]
  },
  {
   "cell_type": "code",
   "execution_count": 1,
   "metadata": {},
   "source": [
    "#!fsharp\n",
    "taskInput |> evaluateAll |> Seq.sum"
   ],
   "outputs": [
    {
     "output_type": "execute_result",
     "data": {
      "text/html": "<div class=\"dni-plaintext\">25190263477788</div>"
     },
     "execution_count": 1,
     "metadata": {}
    }
   ]
  },
  {
   "cell_type": "markdown",
   "metadata": {},
   "source": [
    "--- Part Two ---\n",
    "\n",
    "You manage to answer the child's questions and they finish part 1 of their homework, but get stuck when they reach the next section: advanced math.\n",
    "\n",
    "Now, addition and multiplication have different precedence levels, but they're not the ones you're familiar with. Instead, addition is evaluated before multiplication.\n",
    "\n",
    "For example, the steps to evaluate the expression 1 + 2 * 3 + 4 * 5 + 6 are now as follows:\n",
    "\n",
    "```\n",
    "1 + 2 * 3 + 4 * 5 + 6\n",
    "  3   * 3 + 4 * 5 + 6\n",
    "  3   *   7   * 5 + 6\n",
    "  3   *   7   *  11\n",
    "     21       *  11\n",
    "         231\n",
    "```\n",
    "\n",
    "Here are the other examples from above:\n",
    "\n",
    "```\n",
    "    1 + (2 * 3) + (4 * (5 + 6)) still becomes 51.\n",
    "    2 * 3 + (4 * 5) becomes 46.\n",
    "    5 + (8 * 3 + 9 + 3 * 4 * 3) becomes 1445.\n",
    "    5 * 9 * (7 * 3 * 3 + 9 * 3 + (8 + 6 * 4)) becomes 669060.\n",
    "    ((2 + 4 * 9) * (6 + 9 * 8 + 6) + 6) + 2 + 4 * 2 becomes 23340.\n",
    "```\n",
    "\n",
    "What do you get if you add up the results of evaluating the homework problems using these new rules?\n",
    ""
   ]
  },
  {
   "cell_type": "code",
   "execution_count": 1,
   "metadata": {},
   "source": [
    "#!fsharp\n",
    "let evaluate2 (input: string) =\n",
    "    let data = input |> tokenizer |> Array.ofSeq\n",
    "\n",
    "    let rec eval start =\n",
    "        let (result, pos) = evalMul start\n",
    "        if data.[pos] <> T_EOF then\n",
    "            failwithf \"Expected end of expression, got %A at %i\" data.[pos] pos\n",
    "        else\n",
    "            (result, pos)\n",
    "    and\n",
    "        evalMul start =\n",
    "            let mutable (left, pos) = evalAdd start\n",
    "            while data.[pos] = T_MUL do\n",
    "                let (right, pos2) = evalAdd (pos+1)\n",
    "                left <- left * right\n",
    "                pos <- pos2\n",
    "\n",
    "            (left, pos)\n",
    "    and\n",
    "        evalAdd start =\n",
    "            let mutable (left, pos) = evalFactor start\n",
    "            while data.[pos] = T_PLUS do                \n",
    "                let (right, pos2) = evalFactor (pos+1)\n",
    "                left <- left + right\n",
    "                pos <- pos2\n",
    "\n",
    "            (left, pos)\n",
    "    and\n",
    "        evalFactor start =\n",
    "            match data.[start] with\n",
    "            | T_NUMBER value ->\n",
    "                (value, start+1)\n",
    "            | T_LPAREN ->\n",
    "                evalBracket (start+1)\n",
    "            | token -> failwithf \"Expected ( or number, got %A at %i\" token start\n",
    "    and evalBracket start =\n",
    "            let (res,pos) = evalMul start\n",
    "            if data.[pos] <> T_RPAREN then\n",
    "                failwithf \"Expected ), got %A at %i\" data.[pos] pos\n",
    "            else\n",
    "                (res, pos+1)\n",
    "        \n",
    "    eval 0 |> fst\n",
    "\n",
    "evaluate2 \"8*1+5\""
   ],
   "outputs": [
    {
     "output_type": "execute_result",
     "data": {
      "text/html": "<div class=\"dni-plaintext\">48</div>"
     },
     "execution_count": 1,
     "metadata": {}
    }
   ]
  },
  {
   "cell_type": "code",
   "execution_count": 1,
   "metadata": {},
   "source": [
    "#!fsharp\n",
    "let evaluateAll2 (input: string) =\n",
    "    input.Replace(\"\\r\", \"\").Split(\"\\n\")\n",
    "    |> Seq.map evaluate2\n",
    "\n",
    "evaluateAll2 testInput"
   ],
   "outputs": [
    {
     "output_type": "execute_result",
     "data": {
      "text/html": "<table><thead><tr><th><i>index</i></th><th>value</th></tr></thead><tbody><tr><td>0</td><td><div class=\"dni-plaintext\">51</div></td></tr><tr><td>1</td><td><div class=\"dni-plaintext\">46</div></td></tr><tr><td>2</td><td><div class=\"dni-plaintext\">1445</div></td></tr><tr><td>3</td><td><div class=\"dni-plaintext\">669060</div></td></tr><tr><td>4</td><td><div class=\"dni-plaintext\">23340</div></td></tr></tbody></table>"
     },
     "execution_count": 1,
     "metadata": {}
    }
   ]
  },
  {
   "cell_type": "code",
   "execution_count": 1,
   "metadata": {},
   "source": [
    "#!fsharp\n",
    "taskInput |> evaluateAll2 |> Seq.sum"
   ],
   "outputs": [
    {
     "output_type": "execute_result",
     "data": {
      "text/html": "<div class=\"dni-plaintext\">297139939002972</div>"
     },
     "execution_count": 1,
     "metadata": {}
    }
   ]
  }
 ],
 "metadata": {
  "kernelspec": {
   "display_name": ".NET (C#)",
   "language": "C#",
   "name": ".net-csharp"
  },
  "language_info": {
   "file_extension": ".cs",
   "mimetype": "text/x-csharp",
   "name": "C#",
   "pygments_lexer": "csharp",
   "version": "8.0"
  }
 },
 "nbformat": 4,
 "nbformat_minor": 4
}