{
 "cells": [
  {
   "cell_type": "markdown",
   "metadata": {},
   "source": [
    "--- Day 17: Conway Cubes ---\n",
    "\n",
    "As your flight slowly drifts through the sky, the Elves at the Mythical Information Bureau at the North Pole contact you. They'd like some help debugging a malfunctioning experimental energy source aboard one of their super-secret imaging satellites.\n",
    "\n",
    "The experimental energy source is based on cutting-edge technology: a set of Conway Cubes contained in a pocket dimension! When you hear it's having problems, you can't help but agree to take a look.\n",
    "\n",
    "The pocket dimension contains an infinite 3-dimensional grid. At every integer 3-dimensional coordinate (x,y,z), there exists a single cube which is either active or inactive.\n",
    "\n",
    "In the initial state of the pocket dimension, almost all cubes start inactive. The only exception to this is a small flat region of cubes (your puzzle input); the cubes in this region start in the specified active (#) or inactive (.) state.\n",
    "\n",
    "The energy source then proceeds to boot up by executing six cycles.\n",
    "\n",
    "Each cube only ever considers its neighbors: any of the 26 other cubes where any of their coordinates differ by at most 1. For example, given the cube at x=1,y=2,z=3, its neighbors include the cube at x=2,y=2,z=2, the cube at x=0,y=2,z=3, and so on.\n",
    "\n",
    "During a cycle, all cubes simultaneously change their state according to the following rules:\n",
    "\n",
    "*    If a cube is active and exactly 2 or 3 of its neighbors are also active, the cube remains active. Otherwise, the cube becomes inactive.\n",
    "*    If a cube is inactive but exactly 3 of its neighbors are active, the cube becomes active. Otherwise, the cube remains inactive.\n",
    "\n",
    "The engineers responsible for this experimental energy source would like you to simulate the pocket dimension and determine what the configuration of cubes should be at the end of the six-cycle boot process.\n",
    "\n",
    "For example, consider the following initial state:\n",
    "\n",
    "```\n",
    ".#.\n",
    "..#\n",
    "###\n",
    "```\n",
    "\n",
    "Even though the pocket dimension is 3-dimensional, this initial state represents a small 2-dimensional slice of it. (In particular, this initial state defines a 3x3x1 region of the 3-dimensional space.)\n",
    "\n",
    "Simulating a few cycles from this initial state produces the following configurations, where the result of each cycle is shown layer-by-layer at each given z coordinate (and the frame of view follows the active cells in each cycle):\n",
    "\n",
    "Before any cycles:\n",
    "\n",
    "```\n",
    "z=0\n",
    ".#.\n",
    "..#\n",
    "###\n",
    "```\n",
    "\n",
    "\n",
    "After 1 cycle:\n",
    "\n",
    "```\n",
    "z=-1\n",
    "#..\n",
    "..#\n",
    ".#.\n",
    "\n",
    "z=0\n",
    "#.#\n",
    ".##\n",
    ".#.\n",
    "\n",
    "z=1\n",
    "#..\n",
    "..#\n",
    ".#.\n",
    "```\n",
    "\n",
    "\n",
    "After 2 cycles:\n",
    "\n",
    "```\n",
    "z=-2\n",
    ".....\n",
    ".....\n",
    "..#..\n",
    ".....\n",
    ".....\n",
    "\n",
    "z=-1\n",
    "..#..\n",
    ".#..#\n",
    "....#\n",
    ".#...\n",
    ".....\n",
    "\n",
    "z=0\n",
    "##...\n",
    "##...\n",
    "#....\n",
    "....#\n",
    ".###.\n",
    "\n",
    "z=1\n",
    "..#..\n",
    ".#..#\n",
    "....#\n",
    ".#...\n",
    ".....\n",
    "\n",
    "z=2\n",
    ".....\n",
    ".....\n",
    "..#..\n",
    ".....\n",
    ".....\n",
    "```\n",
    "\n",
    "After 3 cycles:\n",
    "\n",
    "```\n",
    "z=-2\n",
    ".......\n",
    ".......\n",
    "..##...\n",
    "..###..\n",
    ".......\n",
    ".......\n",
    ".......\n",
    "\n",
    "z=-1\n",
    "..#....\n",
    "...#...\n",
    "#......\n",
    ".....##\n",
    ".#...#.\n",
    "..#.#..\n",
    "...#...\n",
    "\n",
    "z=0\n",
    "...#...\n",
    ".......\n",
    "#......\n",
    ".......\n",
    ".....##\n",
    ".##.#..\n",
    "...#...\n",
    "\n",
    "z=1\n",
    "..#....\n",
    "...#...\n",
    "#......\n",
    ".....##\n",
    ".#...#.\n",
    "..#.#..\n",
    "...#...\n",
    "\n",
    "z=2\n",
    ".......\n",
    ".......\n",
    "..##...\n",
    "..###..\n",
    ".......\n",
    ".......\n",
    ".......\n",
    "```\n",
    "\n",
    "After the full six-cycle boot process completes, 112 cubes are left in the active state.\n",
    "\n",
    "Starting with your given initial configuration, simulate six cycles. How many cubes are left in the active state after the sixth cycle?\n",
    ""
   ]
  },
  {
   "cell_type": "code",
   "execution_count": 1,
   "metadata": {},
   "source": [
    "#!fsharp\n",
    "let testInput = \"\"\".#.\n",
    "..#\n",
    "###\"\"\"\n",
    "\n",
    "let taskInput = \"\"\"#####...\n",
    ".#..##..\n",
    "##.##.##\n",
    "...####.\n",
    "#.#...##\n",
    ".##...#.\n",
    ".#.#.###\n",
    "#.#.#..#\"\"\""
   ],
   "outputs": []
  },
  {
   "cell_type": "code",
   "execution_count": 1,
   "metadata": {},
   "source": [
    "#!fsharp\n",
    "type Space = {\n",
    "    min: int[];\n",
    "    max: int[];\n",
    "    dimensions: int;\n",
    "    store: Map<int[],bool>\n",
    "}\n",
    "\n",
    "let parse dimensions (input:string) = \n",
    "    let mutable grid = Map.empty\n",
    "    let source = input.Replace(\"\\r\", \"\").Split(\"\\n\")\n",
    "    let pos = Array.zeroCreate dimensions\n",
    "    for y in 0..(source.Length-1) do\n",
    "        let row = source.[y]\n",
    "        pos.SetValue(y, 1)\n",
    "        for x in 0..(row.Length-1) do\n",
    "            if row.[x]='#' then\n",
    "                pos.SetValue(x, 0)\n",
    "                grid <- grid.Add( Array.copy pos, true )\n",
    "    {\n",
    "        min = Array.zeroCreate dimensions;\n",
    "        max = Array.init dimensions (fun i -> if i = 0 then source.[0].Length-1; elif i = 1 then  source.Length-1; else 0);\n",
    "        store = grid;\n",
    "        dimensions = dimensions\n",
    "    }\n",
    "\n",
    "testInput |> parse 4\n",
    "\n",
    ""
   ],
   "outputs": [
    {
     "output_type": "execute_result",
     "data": {
      "text/html": "<table><thead><tr><th>min</th><th>max</th><th>dimensions</th><th>store</th></tr></thead><tbody><tr><td><div class=\"dni-plaintext\">[ 0, 0, 0, 0 ]</div></td><td><div class=\"dni-plaintext\">[ 2, 2, 0, 0 ]</div></td><td><div class=\"dni-plaintext\">4</div></td><td><div class=\"dni-plaintext\">[ [System.Int32[], True], [System.Int32[], True], [System.Int32[], True], [System.Int32[], True], [System.Int32[], True] ]</div></td></tr></tbody></table>"
     },
     "execution_count": 1,
     "metadata": {}
    }
   ]
  },
  {
   "cell_type": "code",
   "execution_count": 1,
   "metadata": {},
   "source": [
    "#!fsharp\n",
    "let print (space: Space) =\n",
    "    let rec inner dimension (pos: int array) =\n",
    "        if dimension = 1 then\n",
    "            for y in space.min.[1] .. space.max.[1] do\n",
    "                pos.SetValue(y,1)\n",
    "                let mutable s = \"\"\n",
    "                for x in space.min.[0] .. space.max.[0] do                            \n",
    "                    pos.SetValue(x, 0)\n",
    "                    match space.store.TryFind pos with\n",
    "                    | Some value when value ->\n",
    "                        s <- s + \"#\"\n",
    "                    | _ -> \n",
    "                        s <- s + \".\"\n",
    "                printf \"%s\" s\n",
    "        else\n",
    "            let letter = \n",
    "                match dimension with\n",
    "                | 2 -> \"Z\"\n",
    "                | 3 -> \"W\"\n",
    "                | 4 -> \"T\"\n",
    "                | 5 -> \"R\"\n",
    "                | index -> \"S\" + (index-6).ToString()\n",
    "            for coord in space.min.[dimension] .. space.max.[dimension] do\n",
    "                printf \"%s\" (sprintf \"%s = %i\" letter coord)\n",
    "                let newPos = \n",
    "                    Array.mapi\n",
    "                        (function\n",
    "                         | index when index = dimension -> fun _ -> coord\n",
    "                         | _ -> id\n",
    "                        ) \n",
    "                        pos\n",
    "                inner (dimension-1) newPos\n",
    "                printfn \"\"\n",
    "    \n",
    "    inner (space.dimensions-1) space.min\n",
    "\n",
    "testInput |> parse 3 |> print"
   ],
   "outputs": [
    {
     "output_type": "execute_result",
     "data": {
      "text/plain": "Z = 0"
     },
     "execution_count": 1,
     "metadata": {}
    },
    {
     "output_type": "execute_result",
     "data": {
      "text/plain": ".#."
     },
     "execution_count": 1,
     "metadata": {}
    },
    {
     "output_type": "execute_result",
     "data": {
      "text/plain": "..#"
     },
     "execution_count": 1,
     "metadata": {}
    },
    {
     "output_type": "execute_result",
     "data": {
      "text/plain": "###"
     },
     "execution_count": 1,
     "metadata": {}
    },
    {
     "output_type": "execute_result",
     "data": {
      "text/plain": "\r\n"
     },
     "execution_count": 1,
     "metadata": {}
    }
   ]
  },
  {
   "cell_type": "code",
   "execution_count": 1,
   "metadata": {},
   "source": [
    "#!fsharp\n",
    "let countNeighbors (space:Space) (coords: int array) =\n",
    "    let rec inner dimension (pos:int array) allZero =\n",
    "        let mutable sum = 0\n",
    "        if dimension = space.dimensions - 1 then\n",
    "            for i in -1..1 do\n",
    "                if not (allZero && i=0) then\n",
    "                    pos.SetValue(i + coords.[dimension], dimension)\n",
    "                    match space.store.TryFind pos with\n",
    "                    | Some value when value -> sum <- sum + 1\n",
    "                    | _ -> ()\n",
    "        else\n",
    "            for i in -1..1 do\n",
    "                pos.SetValue(i + coords.[dimension], dimension)\n",
    "                sum <- sum + inner (dimension+1) pos (allZero && i=0)\n",
    "        sum\n",
    "    inner 0 (Array.zeroCreate space.dimensions) true                    \n",
    "\n",
    "countNeighbors (testInput |> parse 3) [|0; 2; 0|]"
   ],
   "outputs": [
    {
     "output_type": "execute_result",
     "data": {
      "text/html": "<div class=\"dni-plaintext\">1</div>"
     },
     "execution_count": 1,
     "metadata": {}
    }
   ]
  },
  {
   "cell_type": "code",
   "execution_count": 1,
   "metadata": {},
   "source": [
    "#!fsharp\n",
    "let step (space: Space) =\n",
    "    let mutable minimum:int[] = Array.zeroCreate space.dimensions\n",
    "    let mutable maximum:int[] = Array.zeroCreate space.dimensions\n",
    "    let mutable grid = Map.empty\n",
    "\n",
    "    let rec inner dimension (pos: int array) =\n",
    "        let mutable modified = false\n",
    "        if dimension = space.dimensions - 1 then\n",
    "            for i in space.min.[dimension]-1 .. space.max.[dimension] + 1 do\n",
    "                pos.SetValue(i, dimension)\n",
    "                let cnt = countNeighbors space pos\n",
    "                let newValue = match space.store.TryFind pos with\n",
    "                               | Some value when value -> cnt = 2 || cnt = 3\n",
    "                               | _ -> cnt = 3\n",
    "                if newValue then\n",
    "                    grid <- grid.Add( Array.copy pos, true)\n",
    "                    modified <- true\n",
    "                    minimum.[dimension] <- min minimum.[dimension] i\n",
    "                    maximum.[dimension] <- max maximum.[dimension] i\n",
    "        else\n",
    "            for i in space.min.[dimension]-1 .. space.max.[dimension] + 1 do\n",
    "                pos.SetValue(i, dimension)\n",
    "                if inner (dimension+1) pos then\n",
    "                    modified <- true\n",
    "                    minimum.[dimension] <- min minimum.[dimension] i\n",
    "                    maximum.[dimension] <- max maximum.[dimension] i\n",
    "\n",
    "        modified\n",
    "\n",
    "    inner 0 (Array.zeroCreate space.dimensions) |> ignore\n",
    "    {\n",
    "        min = minimum\n",
    "        max = maximum\n",
    "        store = grid\n",
    "        dimensions = space.dimensions\n",
    "    }\n",
    "\n",
    "testInput |> parse 3 |> step |> print\n",
    ""
   ],
   "outputs": [
    {
     "output_type": "execute_result",
     "data": {
      "text/plain": "Z = -1"
     },
     "execution_count": 1,
     "metadata": {}
    },
    {
     "output_type": "execute_result",
     "data": {
      "text/plain": "..."
     },
     "execution_count": 1,
     "metadata": {}
    },
    {
     "output_type": "execute_result",
     "data": {
      "text/plain": "#.."
     },
     "execution_count": 1,
     "metadata": {}
    },
    {
     "output_type": "execute_result",
     "data": {
      "text/plain": "..#"
     },
     "execution_count": 1,
     "metadata": {}
    },
    {
     "output_type": "execute_result",
     "data": {
      "text/plain": ".#."
     },
     "execution_count": 1,
     "metadata": {}
    },
    {
     "output_type": "execute_result",
     "data": {
      "text/plain": "\r\n"
     },
     "execution_count": 1,
     "metadata": {}
    },
    {
     "output_type": "execute_result",
     "data": {
      "text/plain": "Z = 0"
     },
     "execution_count": 1,
     "metadata": {}
    },
    {
     "output_type": "execute_result",
     "data": {
      "text/plain": "..."
     },
     "execution_count": 1,
     "metadata": {}
    },
    {
     "output_type": "execute_result",
     "data": {
      "text/plain": "#.#"
     },
     "execution_count": 1,
     "metadata": {}
    },
    {
     "output_type": "execute_result",
     "data": {
      "text/plain": ".##"
     },
     "execution_count": 1,
     "metadata": {}
    },
    {
     "output_type": "execute_result",
     "data": {
      "text/plain": ".#."
     },
     "execution_count": 1,
     "metadata": {}
    },
    {
     "output_type": "execute_result",
     "data": {
      "text/plain": "\r\n"
     },
     "execution_count": 1,
     "metadata": {}
    },
    {
     "output_type": "execute_result",
     "data": {
      "text/plain": "Z = 1"
     },
     "execution_count": 1,
     "metadata": {}
    },
    {
     "output_type": "execute_result",
     "data": {
      "text/plain": "..."
     },
     "execution_count": 1,
     "metadata": {}
    },
    {
     "output_type": "execute_result",
     "data": {
      "text/plain": "#.."
     },
     "execution_count": 1,
     "metadata": {}
    },
    {
     "output_type": "execute_result",
     "data": {
      "text/plain": "..#"
     },
     "execution_count": 1,
     "metadata": {}
    },
    {
     "output_type": "execute_result",
     "data": {
      "text/plain": ".#."
     },
     "execution_count": 1,
     "metadata": {}
    },
    {
     "output_type": "execute_result",
     "data": {
      "text/plain": "\r\n"
     },
     "execution_count": 1,
     "metadata": {}
    }
   ]
  },
  {
   "cell_type": "code",
   "execution_count": 1,
   "metadata": {},
   "source": [
    "#!fsharp\n",
    "let simulate steps (space: Space) =\n",
    "    let mutable state = space\n",
    "    for i in 1..steps do\n",
    "        state <- step state\n",
    "    state.store.Count\n",
    "\n",
    "testInput |> parse 3 |> simulate 6"
   ],
   "outputs": [
    {
     "output_type": "execute_result",
     "data": {
      "text/html": "<div class=\"dni-plaintext\">112</div>"
     },
     "execution_count": 1,
     "metadata": {}
    }
   ]
  },
  {
   "cell_type": "code",
   "execution_count": 1,
   "metadata": {},
   "source": [
    "#!fsharp\n",
    "taskInput |> parse 3 |> simulate 6"
   ],
   "outputs": [
    {
     "output_type": "execute_result",
     "data": {
      "text/html": "<div class=\"dni-plaintext\">313</div>"
     },
     "execution_count": 1,
     "metadata": {}
    }
   ]
  },
  {
   "cell_type": "code",
   "execution_count": 1,
   "metadata": {},
   "source": [
    "#!fsharp\n",
    "testInput |> parse 4 |> simulate 6"
   ],
   "outputs": [
    {
     "output_type": "execute_result",
     "data": {
      "text/html": "<div class=\"dni-plaintext\">848</div>"
     },
     "execution_count": 1,
     "metadata": {}
    }
   ]
  },
  {
   "cell_type": "code",
   "execution_count": 1,
   "metadata": {},
   "source": [
    "#!fsharp\n",
    "taskInput |> parse 4 |> simulate 6"
   ],
   "outputs": [
    {
     "output_type": "execute_result",
     "data": {
      "text/html": "<div class=\"dni-plaintext\">2640</div>"
     },
     "execution_count": 1,
     "metadata": {}
    }
   ]
  }
 ],
 "metadata": {
  "kernelspec": {
   "display_name": ".NET (C#)",
   "language": "C#",
   "name": ".net-csharp"
  },
  "language_info": {
   "file_extension": ".cs",
   "mimetype": "text/x-csharp",
   "name": "C#",
   "pygments_lexer": "csharp",
   "version": "8.0"
  }
 },
 "nbformat": 4,
 "nbformat_minor": 4
}