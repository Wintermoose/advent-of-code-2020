{
 "cells": [
  {
   "cell_type": "markdown",
   "metadata": {},
   "source": [
    "--- Day 12: Rain Risk ---\n",
    "\n",
    "Your ferry made decent progress toward the island, but the storm came in faster than anyone expected. The ferry needs to take evasive actions!\n",
    "\n",
    "Unfortunately, the ship's navigation computer seems to be malfunctioning; rather than giving a route directly to safety, it produced extremely circuitous instructions. When the captain uses the PA system to ask if anyone can help, you quickly volunteer.\n",
    "\n",
    "The navigation instructions (your puzzle input) consists of a sequence of single-character actions paired with integer input values. After staring at them for a few minutes, you work out what they probably mean:\n",
    "\n",
    "*    Action N means to move north by the given value.\n",
    "*    Action S means to move south by the given value.\n",
    "*    Action E means to move east by the given value.\n",
    "*    Action W means to move west by the given value.\n",
    "*    Action L means to turn left the given number of degrees.\n",
    "*    Action R means to turn right the given number of degrees.\n",
    "*    Action F means to move forward by the given value in the direction the ship is currently facing.\n",
    "\n",
    "The ship starts by facing east. Only the L and R actions change the direction the ship is facing. (That is, if the ship is facing east and the next instruction is N10, the ship would move north 10 units, but would still move east if the following action were F.)\n",
    "\n",
    "For example:\n",
    "\n",
    "```\n",
    "F10\n",
    "N3\n",
    "F7\n",
    "R90\n",
    "F11\n",
    "```\n",
    "\n",
    "These instructions would be handled as follows:\n",
    "\n",
    "*    F10 would move the ship 10 units east (because the ship starts by facing east) to east 10, north 0.\n",
    "*    N3 would move the ship 3 units north to east 10, north 3.\n",
    "*    F7 would move the ship another 7 units east (because the ship is still facing east) to east 17, north 3.\n",
    "*    R90 would cause the ship to turn right by 90 degrees and face south; it remains at east 17, north 3.\n",
    "*    F11 would move the ship 11 units south to east 17, south 8.\n",
    "\n",
    "At the end of these instructions, the ship's Manhattan distance (sum of the absolute values of its east/west position and its north/south position) from its starting position is 17 + 8 = 25.\n",
    "\n",
    "Figure out where the navigation instructions lead. What is the Manhattan distance between that location and the ship's starting position?\n",
    ""
   ]
  },
  {
   "cell_type": "code",
   "execution_count": 1,
   "metadata": {},
   "source": [
    "#!fsharp\n",
    "let testInput = \"\"\"F10\n",
    "N3\n",
    "F7\n",
    "R90\n",
    "F11\"\"\"\n",
    "\n",
    "let taskInput = System.IO.File.ReadAllText \"task.txt\""
   ],
   "outputs": []
  },
  {
   "cell_type": "code",
   "execution_count": 1,
   "metadata": {},
   "source": [
    "#!fsharp\n",
    "type Heading = N | S | W | E\n",
    "type Command = N | S | W | E | F | L | R\n",
    "type Instruction = { command: Command; value: int }\n",
    "type State = { direction: Heading; x: int; y : int }"
   ],
   "outputs": []
  },
  {
   "cell_type": "code",
   "execution_count": 1,
   "metadata": {},
   "source": [
    "#!fsharp\n",
    "let parse (input:string) : Instruction seq =\n",
    "    input.Replace(\"\\r\", \"\").Split(\"\\n\")\n",
    "    |> Seq.map\n",
    "        ( fun row -> \n",
    "            let c = row.[0]\n",
    "            let a = int row.[1..]\n",
    "            match c with \n",
    "            | 'N' -> { command = N; value = a }\n",
    "            | 'S' -> { command = S; value = a }\n",
    "            | 'W' -> { command = W; value = a }\n",
    "            | 'E' -> { command = E; value = a }\n",
    "            | 'F' -> { command = F; value = a }\n",
    "            | 'L' -> { command = L; value = a }\n",
    "            | 'R' -> { command = R; value = a }\n",
    "        )\n",
    "\n",
    "testInput |> parse"
   ],
   "outputs": [
    {
     "output_type": "execute_result",
     "data": {
      "text/html": "<table><thead><tr><th><i>index</i></th><th>command</th><th>value</th></tr></thead><tbody><tr><td>0</td><td><div class=\"dni-plaintext\">F</div></td><td><div class=\"dni-plaintext\">10</div></td></tr><tr><td>1</td><td><div class=\"dni-plaintext\">N</div></td><td><div class=\"dni-plaintext\">3</div></td></tr><tr><td>2</td><td><div class=\"dni-plaintext\">F</div></td><td><div class=\"dni-plaintext\">7</div></td></tr><tr><td>3</td><td><div class=\"dni-plaintext\">R</div></td><td><div class=\"dni-plaintext\">90</div></td></tr><tr><td>4</td><td><div class=\"dni-plaintext\">F</div></td><td><div class=\"dni-plaintext\">11</div></td></tr></tbody></table>"
     },
     "execution_count": 1,
     "metadata": {}
    }
   ]
  },
  {
   "cell_type": "code",
   "execution_count": 1,
   "metadata": {},
   "source": [
    "#!fsharp\n",
    "let turn (state:State) degrees =\n",
    "    let order = [| Heading.N; Heading.E; Heading.S; Heading.W |]\n",
    "    let steps = degrees / 90\n",
    "    let current = Array.IndexOf( order, state.direction )\n",
    "    { state with direction = order.[ ( current + 4 + steps ) % 4 ] }\n",
    "\n",
    "let runStep (state: State) (instruction: Instruction) =\n",
    "    match instruction.command with \n",
    "    | N -> { state with y = state.y - instruction.value }\n",
    "    | S -> { state with y = state.y + instruction.value }\n",
    "    | W -> { state with x = state.x - instruction.value }\n",
    "    | E -> { state with x = state.x + instruction.value }            \n",
    "    | F -> \n",
    "        // we might have out-typed ourselves here\n",
    "        match state.direction with\n",
    "        | Heading.N -> { state with y = state.y - instruction.value }\n",
    "        | Heading.S -> { state with y = state.y + instruction.value }\n",
    "        | Heading.W -> { state with x = state.x - instruction.value }\n",
    "        | Heading.E -> { state with x = state.x + instruction.value }            \n",
    "    | L -> turn state -instruction.value\n",
    "    | R -> turn state instruction.value\n",
    "\n",
    "runStep { direction = Heading.E; x = 0; y = 0 } { command = R; value = 270 }"
   ],
   "outputs": [
    {
     "output_type": "execute_result",
     "data": {
      "text/html": "<table><thead><tr><th>direction</th><th>x</th><th>y</th></tr></thead><tbody><tr><td><div class=\"dni-plaintext\">N</div></td><td><div class=\"dni-plaintext\">0</div></td><td><div class=\"dni-plaintext\">0</div></td></tr></tbody></table>"
     },
     "execution_count": 1,
     "metadata": {}
    }
   ]
  },
  {
   "cell_type": "code",
   "execution_count": 1,
   "metadata": {},
   "source": [
    "#!fsharp\n",
    "let runAll instructions = \n",
    "    Seq.fold\n",
    "        runStep\n",
    "        { direction = Heading.E; x = 0; y = 0 }\n",
    "        instructions\n",
    "\n",
    "testInput \n",
    "|> parse \n",
    "|> runAll"
   ],
   "outputs": [
    {
     "output_type": "execute_result",
     "data": {
      "text/html": "<table><thead><tr><th>direction</th><th>x</th><th>y</th></tr></thead><tbody><tr><td><div class=\"dni-plaintext\">S</div></td><td><div class=\"dni-plaintext\">17</div></td><td><div class=\"dni-plaintext\">8</div></td></tr></tbody></table>"
     },
     "execution_count": 1,
     "metadata": {}
    }
   ]
  },
  {
   "cell_type": "code",
   "execution_count": 1,
   "metadata": {},
   "source": [
    "#!fsharp\n",
    "let manhattan state =\n",
    "    Math.Abs(state.x) + Math.Abs(state.y)\n",
    "\n",
    "testInput |> parse |> runAll |> manhattan"
   ],
   "outputs": [
    {
     "output_type": "execute_result",
     "data": {
      "text/html": "<div class=\"dni-plaintext\">25</div>"
     },
     "execution_count": 1,
     "metadata": {}
    }
   ]
  },
  {
   "cell_type": "code",
   "execution_count": 1,
   "metadata": {},
   "source": [
    "#!fsharp\n",
    "taskInput |> parse |> runAll |> manhattan"
   ],
   "outputs": [
    {
     "output_type": "execute_result",
     "data": {
      "text/html": "<div class=\"dni-plaintext\">923</div>"
     },
     "execution_count": 1,
     "metadata": {}
    }
   ]
  },
  {
   "cell_type": "markdown",
   "metadata": {},
   "source": [
    "--- Part Two ---\n",
    "\n",
    "Before you can give the destination to the captain, you realize that the actual action meanings were printed on the back of the instructions the whole time.\n",
    "\n",
    "Almost all of the actions indicate how to move a waypoint which is relative to the ship's position:\n",
    "\n",
    "*    Action N means to move the waypoint north by the given value.\n",
    "*    Action S means to move the waypoint south by the given value.\n",
    "*    Action E means to move the waypoint east by the given value.\n",
    "*    Action W means to move the waypoint west by the given value.\n",
    "*    Action L means to rotate the waypoint around the ship left (counter-clockwise) the given number of degrees.\n",
    "*    Action R means to rotate the waypoint around the ship right (clockwise) the given number of degrees.\n",
    "*    Action F means to move forward to the waypoint a number of times equal to the given value.\n",
    "\n",
    "The waypoint starts 10 units east and 1 unit north relative to the ship. The waypoint is relative to the ship; that is, if the ship moves, the waypoint moves with it.\n",
    "\n",
    "For example, using the same instructions as above:\n",
    "\n",
    "*    F10 moves the ship to the waypoint 10 times (a total of 100 units east and 10 units north), leaving the ship at east 100, north 10. The waypoint stays 10 units east and 1 unit north of the ship.\n",
    "*    N3 moves the waypoint 3 units north to 10 units east and 4 units north of the ship. The ship remains at east 100, north 10.\n",
    "*    F7 moves the ship to the waypoint 7 times (a total of 70 units east and 28 units north), leaving the ship at east 170, north 38. The waypoint stays 10 units east and 4 units north of the ship.\n",
    "*    R90 rotates the waypoint around the ship clockwise 90 degrees, moving it to 4 units east and 10 units south of the ship. The ship remains at east 170, north 38.\n",
    "*    F11 moves the ship to the waypoint 11 times (a total of 44 units east and 110 units south), leaving the ship at east 214, south 72. The waypoint stays 4 units east and 10 units south of the ship.\n",
    "\n",
    "After these operations, the ship's Manhattan distance from its starting position is 214 + 72 = 286.\n",
    "\n",
    "Figure out where the navigation instructions actually lead. What is the Manhattan distance between that location and the ship's starting position?\n",
    ""
   ]
  },
  {
   "cell_type": "code",
   "execution_count": 1,
   "metadata": {},
   "source": [
    "#!fsharp\n",
    "type State2 = { x: int; y : int; wx: int; wy: int}\n",
    "\n",
    "let turn2 (state: State2) degrees =\n",
    "    let steps = (degrees + 360 ) % 360\n",
    "    // skipping sin/cos...\n",
    "    match steps with\n",
    "    | 0 -> state\n",
    "    | 90 -> { state with wy = state.wx; wx = -state.wy }\n",
    "    | 180 -> { state with wx = -state.wx; wy = -state.wy }\n",
    "    | 270 -> { state with wy = -state.wx; wx = state.wy }\n",
    "    | _ -> failwith \"Uknown turn\"\n",
    "\n",
    "let runStep2 (state: State2) (instruction: Instruction) =\n",
    "    match instruction.command with\n",
    "    | Command.N -> { state with wy = state.wy - instruction.value }\n",
    "    | Command.S -> { state with wy = state.wy + instruction.value }\n",
    "    | Command.W -> { state with wx = state.wx - instruction.value }\n",
    "    | Command.E -> { state with wx = state.wx + instruction.value }\n",
    "    | Command.F -> { state with x = state.x + instruction.value * state.wx; y = state.y + instruction.value * state .wy }\n",
    "    | Command.L -> turn2 state -instruction.value\n",
    "    | Command.R -> turn2 state instruction.value\n",
    "\n",
    "let runAll2 instructions =\n",
    "    Seq.fold\n",
    "        runStep2\n",
    "        { x = 0; y = 0; wx = 10; wy = -1 }\n",
    "        instructions\n",
    "\n",
    "let manhattan2 state =\n",
    "    Math.Abs(state.x) + Math.Abs(state.y)\n",
    "\n",
    "testInput |> parse |> Seq.take 5 |> runAll2 |> manhattan2"
   ],
   "outputs": [
    {
     "output_type": "execute_result",
     "data": {
      "text/html": "<div class=\"dni-plaintext\">286</div>"
     },
     "execution_count": 1,
     "metadata": {}
    }
   ]
  },
  {
   "cell_type": "code",
   "execution_count": 1,
   "metadata": {},
   "source": [
    "#!fsharp\n",
    "taskInput |> parse |> runAll2 |> manhattan2"
   ],
   "outputs": [
    {
     "output_type": "execute_result",
     "data": {
      "text/html": "<div class=\"dni-plaintext\">24769</div>"
     },
     "execution_count": 1,
     "metadata": {}
    }
   ]
  }
 ],
 "metadata": {
  "kernelspec": {
   "display_name": ".NET (C#)",
   "language": "C#",
   "name": ".net-csharp"
  },
  "language_info": {
   "file_extension": ".cs",
   "mimetype": "text/x-csharp",
   "name": "C#",
   "pygments_lexer": "csharp",
   "version": "8.0"
  }
 },
 "nbformat": 4,
 "nbformat_minor": 4
}