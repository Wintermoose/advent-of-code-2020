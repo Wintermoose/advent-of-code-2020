{
 "cells": [
  {
   "cell_type": "markdown",
   "metadata": {},
   "source": [
    "--- Day 20: Jurassic Jigsaw ---\n",
    "\n",
    "The high-speed train leaves the forest and quickly carries you south. You can even see a desert in the distance! Since you have some spare time, you might as well see if there was anything interesting in the image the Mythical Information Bureau satellite captured.\n",
    "\n",
    "After decoding the satellite messages, you discover that the data actually contains many small images created by the satellite's camera array. The camera array consists of many cameras; rather than produce a single square image, they produce many smaller square image tiles that need to be reassembled back into a single image.\n",
    "\n",
    "Each camera in the camera array returns a single monochrome image tile with a random unique ID number. The tiles (your puzzle input) arrived in a random order.\n",
    "\n",
    "Worse yet, the camera array appears to be malfunctioning: each image tile has been rotated and flipped to a random orientation. Your first task is to reassemble the original image by orienting the tiles so they fit together.\n",
    "\n",
    "To show how the tiles should be reassembled, each tile's image data includes a border that should line up exactly with its adjacent tiles. All tiles have this border, and the border lines up exactly when the tiles are both oriented correctly. Tiles at the edge of the image also have this border, but the outermost edges won't line up with any other tiles.\n",
    "\n",
    "For example, suppose you have the following nine tiles:\n",
    "\n",
    "```\n",
    "Tile 2311:\n",
    "..##.#..#.\n",
    "##..#.....\n",
    "#...##..#.\n",
    "####.#...#\n",
    "##.##.###.\n",
    "##...#.###\n",
    ".#.#.#..##\n",
    "..#....#..\n",
    "###...#.#.\n",
    "..###..###\n",
    "\n",
    "Tile 1951:\n",
    "#.##...##.\n",
    "#.####...#\n",
    ".....#..##\n",
    "#...######\n",
    ".##.#....#\n",
    ".###.#####\n",
    "###.##.##.\n",
    ".###....#.\n",
    "..#.#..#.#\n",
    "#...##.#..\n",
    "\n",
    "Tile 1171:\n",
    "####...##.\n",
    "#..##.#..#\n",
    "##.#..#.#.\n",
    ".###.####.\n",
    "..###.####\n",
    ".##....##.\n",
    ".#...####.\n",
    "#.##.####.\n",
    "####..#...\n",
    ".....##...\n",
    "\n",
    "Tile 1427:\n",
    "###.##.#..\n",
    ".#..#.##..\n",
    ".#.##.#..#\n",
    "#.#.#.##.#\n",
    "....#...##\n",
    "...##..##.\n",
    "...#.#####\n",
    ".#.####.#.\n",
    "..#..###.#\n",
    "..##.#..#.\n",
    "\n",
    "Tile 1489:\n",
    "##.#.#....\n",
    "..##...#..\n",
    ".##..##...\n",
    "..#...#...\n",
    "#####...#.\n",
    "#..#.#.#.#\n",
    "...#.#.#..\n",
    "##.#...##.\n",
    "..##.##.##\n",
    "###.##.#..\n",
    "\n",
    "Tile 2473:\n",
    "#....####.\n",
    "#..#.##...\n",
    "#.##..#...\n",
    "######.#.#\n",
    ".#...#.#.#\n",
    ".#########\n",
    ".###.#..#.\n",
    "########.#\n",
    "##...##.#.\n",
    "..###.#.#.\n",
    "\n",
    "Tile 2971:\n",
    "..#.#....#\n",
    "#...###...\n",
    "#.#.###...\n",
    "##.##..#..\n",
    ".#####..##\n",
    ".#..####.#\n",
    "#..#.#..#.\n",
    "..####.###\n",
    "..#.#.###.\n",
    "...#.#.#.#\n",
    "\n",
    "Tile 2729:\n",
    "...#.#.#.#\n",
    "####.#....\n",
    "..#.#.....\n",
    "....#..#.#\n",
    ".##..##.#.\n",
    ".#.####...\n",
    "####.#.#..\n",
    "##.####...\n",
    "##..#.##..\n",
    "#.##...##.\n",
    "\n",
    "Tile 3079:\n",
    "#.#.#####.\n",
    ".#..######\n",
    "..#.......\n",
    "######....\n",
    "####.#..#.\n",
    ".#...#.##.\n",
    "#.#####.##\n",
    "..#.###...\n",
    "..#.......\n",
    "..#.###...\n",
    "```\n",
    "\n",
    "By rotating, flipping, and rearranging them, you can find a square arrangement that causes all adjacent borders to line up:\n",
    "\n",
    "```\n",
    "#...##.#.. ..###..### #.#.#####.\n",
    "..#.#..#.# ###...#.#. .#..######\n",
    ".###....#. ..#....#.. ..#.......\n",
    "###.##.##. .#.#.#..## ######....\n",
    ".###.##### ##...#.### ####.#..#.\n",
    ".##.#....# ##.##.###. .#...#.##.\n",
    "#...###### ####.#...# #.#####.##\n",
    ".....#..## #...##..#. ..#.###...\n",
    "#.####...# ##..#..... ..#.......\n",
    "#.##...##. ..##.#..#. ..#.###...\n",
    "\n",
    "#.##...##. ..##.#..#. ..#.###...\n",
    "##..#.##.. ..#..###.# ##.##....#\n",
    "##.####... .#.####.#. ..#.###..#\n",
    "####.#.#.. ...#.##### ###.#..###\n",
    ".#.####... ...##..##. .######.##\n",
    ".##..##.#. ....#...## #.#.#.#...\n",
    "....#..#.# #.#.#.##.# #.###.###.\n",
    "..#.#..... .#.##.#..# #.###.##..\n",
    "####.#.... .#..#.##.. .######...\n",
    "...#.#.#.# ###.##.#.. .##...####\n",
    "\n",
    "...#.#.#.# ###.##.#.. .##...####\n",
    "..#.#.###. ..##.##.## #..#.##..#\n",
    "..####.### ##.#...##. .#.#..#.##\n",
    "#..#.#..#. ...#.#.#.. .####.###.\n",
    ".#..####.# #..#.#.#.# ####.###..\n",
    ".#####..## #####...#. .##....##.\n",
    "##.##..#.. ..#...#... .####...#.\n",
    "#.#.###... .##..##... .####.##.#\n",
    "#...###... ..##...#.. ...#..####\n",
    "..#.#....# ##.#.#.... ...##.....\n",
    "```\n",
    "\n",
    "For reference, the IDs of the above tiles are:\n",
    "\n",
    "```\n",
    "1951    2311    3079\n",
    "2729    1427    2473\n",
    "2971    1489    1171\n",
    "```\n",
    "\n",
    "To check that you've assembled the image correctly, multiply the IDs of the four corner tiles together. If you do this with the assembled tiles from the example above, you get 1951 * 3079 * 2971 * 1171 = 20899048083289.\n",
    "\n",
    "Assemble the tiles into an image. What do you get if you multiply together the IDs of the four corner tiles?\n",
    ""
   ]
  },
  {
   "cell_type": "code",
   "execution_count": 1,
   "metadata": {},
   "source": [
    "#!fsharp\n",
    "let testInput = \"\"\"Tile 2311:\n",
    "..##.#..#.\n",
    "##..#.....\n",
    "#...##..#.\n",
    "####.#...#\n",
    "##.##.###.\n",
    "##...#.###\n",
    ".#.#.#..##\n",
    "..#....#..\n",
    "###...#.#.\n",
    "..###..###\n",
    "\n",
    "Tile 1951:\n",
    "#.##...##.\n",
    "#.####...#\n",
    ".....#..##\n",
    "#...######\n",
    ".##.#....#\n",
    ".###.#####\n",
    "###.##.##.\n",
    ".###....#.\n",
    "..#.#..#.#\n",
    "#...##.#..\n",
    "\n",
    "Tile 1171:\n",
    "####...##.\n",
    "#..##.#..#\n",
    "##.#..#.#.\n",
    ".###.####.\n",
    "..###.####\n",
    ".##....##.\n",
    ".#...####.\n",
    "#.##.####.\n",
    "####..#...\n",
    ".....##...\n",
    "\n",
    "Tile 1427:\n",
    "###.##.#..\n",
    ".#..#.##..\n",
    ".#.##.#..#\n",
    "#.#.#.##.#\n",
    "....#...##\n",
    "...##..##.\n",
    "...#.#####\n",
    ".#.####.#.\n",
    "..#..###.#\n",
    "..##.#..#.\n",
    "\n",
    "Tile 1489:\n",
    "##.#.#....\n",
    "..##...#..\n",
    ".##..##...\n",
    "..#...#...\n",
    "#####...#.\n",
    "#..#.#.#.#\n",
    "...#.#.#..\n",
    "##.#...##.\n",
    "..##.##.##\n",
    "###.##.#..\n",
    "\n",
    "Tile 2473:\n",
    "#....####.\n",
    "#..#.##...\n",
    "#.##..#...\n",
    "######.#.#\n",
    ".#...#.#.#\n",
    ".#########\n",
    ".###.#..#.\n",
    "########.#\n",
    "##...##.#.\n",
    "..###.#.#.\n",
    "\n",
    "Tile 2971:\n",
    "..#.#....#\n",
    "#...###...\n",
    "#.#.###...\n",
    "##.##..#..\n",
    ".#####..##\n",
    ".#..####.#\n",
    "#..#.#..#.\n",
    "..####.###\n",
    "..#.#.###.\n",
    "...#.#.#.#\n",
    "\n",
    "Tile 2729:\n",
    "...#.#.#.#\n",
    "####.#....\n",
    "..#.#.....\n",
    "....#..#.#\n",
    ".##..##.#.\n",
    ".#.####...\n",
    "####.#.#..\n",
    "##.####...\n",
    "##..#.##..\n",
    "#.##...##.\n",
    "\n",
    "Tile 3079:\n",
    "#.#.#####.\n",
    ".#..######\n",
    "..#.......\n",
    "######....\n",
    "####.#..#.\n",
    ".#...#.##.\n",
    "#.#####.##\n",
    "..#.###...\n",
    "..#.......\n",
    "..#.###...\"\"\"\n",
    "\n",
    "let taskInput = System.IO.File.ReadAllText(\"task.txt\")"
   ],
   "outputs": []
  },
  {
   "cell_type": "code",
   "execution_count": 1,
   "metadata": {},
   "source": [
    "#!fsharp\n",
    "type Tile = {\n",
    "    id: int;\n",
    "    index: int;\n",
    "    pixels: string array;\n",
    "}\n",
    "\n",
    "let parseTile index (input: string) = \n",
    "    let rows = input.Split(\"\\n\");\n",
    "    let id = int rows.[0].[5..^1]\n",
    "    let pixels = rows.[1..]\n",
    "    {\n",
    "        id = id;\n",
    "        index = index;\n",
    "        pixels = pixels\n",
    "    }\n",
    "\n",
    "let parse (input:string) = \n",
    "    input.Replace(\"\\r\", \"\").Split(\"\\n\\n\")\n",
    "    |> Array.mapi parseTile\n",
    "\n",
    "testInput |> parse"
   ],
   "outputs": [
    {
     "output_type": "execute_result",
     "data": {
      "text/html": "<table><thead><tr><th><i>index</i></th><th>id</th><th>index</th><th>pixels</th></tr></thead><tbody><tr><td>0</td><td><div class=\"dni-plaintext\">2311</div></td><td><div class=\"dni-plaintext\">0</div></td><td><div class=\"dni-plaintext\">[ ..##.#..#., ##..#....., #...##..#., ####.#...#, ##.##.###., ##...#.###, .#.#.#..##, ..#....#.., ###...#.#., ..###..### ]</div></td></tr><tr><td>1</td><td><div class=\"dni-plaintext\">1951</div></td><td><div class=\"dni-plaintext\">1</div></td><td><div class=\"dni-plaintext\">[ #.##...##., #.####...#, .....#..##, #...######, .##.#....#, .###.#####, ###.##.##., .###....#., ..#.#..#.#, #...##.#.. ]</div></td></tr><tr><td>2</td><td><div class=\"dni-plaintext\">1171</div></td><td><div class=\"dni-plaintext\">2</div></td><td><div class=\"dni-plaintext\">[ ####...##., #..##.#..#, ##.#..#.#., .###.####., ..###.####, .##....##., .#...####., #.##.####., ####..#..., .....##... ]</div></td></tr><tr><td>3</td><td><div class=\"dni-plaintext\">1427</div></td><td><div class=\"dni-plaintext\">3</div></td><td><div class=\"dni-plaintext\">[ ###.##.#.., .#..#.##.., .#.##.#..#, #.#.#.##.#, ....#...##, ...##..##., ...#.#####, .#.####.#., ..#..###.#, ..##.#..#. ]</div></td></tr><tr><td>4</td><td><div class=\"dni-plaintext\">1489</div></td><td><div class=\"dni-plaintext\">4</div></td><td><div class=\"dni-plaintext\">[ ##.#.#...., ..##...#.., .##..##..., ..#...#..., #####...#., #..#.#.#.#, ...#.#.#.., ##.#...##., ..##.##.##, ###.##.#.. ]</div></td></tr><tr><td>5</td><td><div class=\"dni-plaintext\">2473</div></td><td><div class=\"dni-plaintext\">5</div></td><td><div class=\"dni-plaintext\">[ #....####., #..#.##..., #.##..#..., ######.#.#, .#...#.#.#, .#########, .###.#..#., ########.#, ##...##.#., ..###.#.#. ]</div></td></tr><tr><td>6</td><td><div class=\"dni-plaintext\">2971</div></td><td><div class=\"dni-plaintext\">6</div></td><td><div class=\"dni-plaintext\">[ ..#.#....#, #...###..., #.#.###..., ##.##..#.., .#####..##, .#..####.#, #..#.#..#., ..####.###, ..#.#.###., ...#.#.#.# ]</div></td></tr><tr><td>7</td><td><div class=\"dni-plaintext\">2729</div></td><td><div class=\"dni-plaintext\">7</div></td><td><div class=\"dni-plaintext\">[ ...#.#.#.#, ####.#...., ..#.#....., ....#..#.#, .##..##.#., .#.####..., ####.#.#.., ##.####..., ##..#.##.., #.##...##. ]</div></td></tr><tr><td>8</td><td><div class=\"dni-plaintext\">3079</div></td><td><div class=\"dni-plaintext\">8</div></td><td><div class=\"dni-plaintext\">[ #.#.#####., .#..######, ..#......., ######...., ####.#..#., .#...#.##., #.#####.##, ..#.###..., ..#......., ..#.###... ]</div></td></tr></tbody></table>"
     },
     "execution_count": 1,
     "metadata": {}
    }
   ]
  },
  {
   "cell_type": "code",
   "execution_count": 1,
   "metadata": {},
   "source": [
    "#!fsharp\n",
    "let rowSeq index (tile:Tile) (rotation: int) (flipped: bool) =\n",
    "    seq {\n",
    "        let height = tile.pixels.Length\n",
    "        let width = tile.pixels.[0].Length\n",
    "        // flipped horizontally\n",
    "        // rotation is clockwise\n",
    "        let mutable (sx, sy, dx, dy, l) = \n",
    "            match ((rotation+4) % 4) with\n",
    "            | 0 -> \n",
    "                (\n",
    "                    (if flipped then width-1 else 0),\n",
    "                    index,\n",
    "                    (if flipped then -1 else 1),\n",
    "                    0,\n",
    "                    width\n",
    "                )\n",
    "            | 1 -> \n",
    "                (\n",
    "                    (if flipped then width-index-1 else index),\n",
    "                    height-1,\n",
    "                    0,\n",
    "                    -1,\n",
    "                    height\n",
    "                )\n",
    "            | 2 -> \n",
    "                (\n",
    "                    (if flipped then 0 else width-1),\n",
    "                    height-index-1,\n",
    "                    (if flipped then 1 else -1),\n",
    "                    0,\n",
    "                    height\n",
    "                )\n",
    "            | 3 ->\n",
    "                (\n",
    "                    (if flipped then index  else width-index-1),\n",
    "                    0,\n",
    "                    0,\n",
    "                    1,\n",
    "                    height\n",
    "                )\n",
    "            | fail -> failwithf \"Unexpected rotation %i\" fail\n",
    "        for i in 0 .. (l-1) do\n",
    "            tile.pixels.[sy].[sx]\n",
    "            sx <- sx + dx\n",
    "            sy <- sy + dy\n",
    "    }\n",
    "\n",
    "(*\n",
    "     flip\n",
    "012  210\n",
    "345  543\n",
    "678  876\n",
    "\n",
    "rotate 1\n",
    "630  852\n",
    "741  741\n",
    "852  630\n",
    "\n",
    "rotate 2\n",
    "876  678\n",
    "543  345\n",
    "210  012\n",
    "\n",
    "rotate 3\n",
    "258  036\n",
    "147  147\n",
    "036  258\n",
    "*)\n",
    "\n",
    "let testTiles = testInput |> parse\n",
    "rowSeq 0 testTiles.[0] 0 false"
   ],
   "outputs": [
    {
     "output_type": "execute_result",
     "data": {
      "text/html": "<table><thead><tr><th><i>index</i></th><th>value</th></tr></thead><tbody><tr><td>0</td><td><div class=\"dni-plaintext\">.</div></td></tr><tr><td>1</td><td><div class=\"dni-plaintext\">.</div></td></tr><tr><td>2</td><td><div class=\"dni-plaintext\">#</div></td></tr><tr><td>3</td><td><div class=\"dni-plaintext\">#</div></td></tr><tr><td>4</td><td><div class=\"dni-plaintext\">.</div></td></tr><tr><td>5</td><td><div class=\"dni-plaintext\">#</div></td></tr><tr><td>6</td><td><div class=\"dni-plaintext\">.</div></td></tr><tr><td>7</td><td><div class=\"dni-plaintext\">.</div></td></tr><tr><td>8</td><td><div class=\"dni-plaintext\">#</div></td></tr><tr><td>9</td><td><div class=\"dni-plaintext\">.</div></td></tr></tbody></table>"
     },
     "execution_count": 1,
     "metadata": {}
    }
   ]
  },
  {
   "cell_type": "code",
   "execution_count": 1,
   "metadata": {},
   "source": [
    "#!fsharp\n",
    "type TileState = { index: int; rotation: int; flipped: bool }\n",
    "\n",
    "let matchesLR (tiles: Tile array) (tileLeft: TileState) (tileRight: TileState) =\n",
    "    let seq1 = rowSeq 0 tiles.[tileLeft.index] (tileLeft.rotation-1) tileLeft.flipped\n",
    "    let seq2 = rowSeq 0 tiles.[tileRight.index] (tileRight.rotation+1) tileRight.flipped |> Seq.rev\n",
    "    0 = (Seq.compareWith Operators.compare seq1 seq2)\n",
    "\n",
    "matchesLR testTiles {index=1; rotation=2; flipped=true} {index=0; rotation=2; flipped=true }"
   ],
   "outputs": [
    {
     "output_type": "execute_result",
     "data": {
      "text/html": "<div class=\"dni-plaintext\">True</div>"
     },
     "execution_count": 1,
     "metadata": {}
    }
   ]
  },
  {
   "cell_type": "code",
   "execution_count": 1,
   "metadata": {},
   "source": [
    "#!fsharp\n",
    "matchesLR testTiles {index=1; rotation=2; flipped=true} {index=0; rotation=2; flipped=false }"
   ],
   "outputs": [
    {
     "output_type": "execute_result",
     "data": {
      "text/html": "<div class=\"dni-plaintext\">False</div>"
     },
     "execution_count": 1,
     "metadata": {}
    }
   ]
  },
  {
   "cell_type": "code",
   "execution_count": 1,
   "metadata": {},
   "source": [
    "#!fsharp\n",
    "let matchesUD (tiles: Tile array) (tileUp: TileState) (tileDown: TileState) =\n",
    "    let seq1 = rowSeq 0 tiles.[tileUp.index] (tileUp.rotation+2) tileUp.flipped\n",
    "    let seq2 = rowSeq 0 tiles.[tileDown.index] tileDown.rotation tileDown.flipped |> Seq.rev\n",
    "    0 = (Seq.compareWith Operators.compare seq1 seq2)\n",
    ""
   ],
   "outputs": []
  },
  {
   "cell_type": "code",
   "execution_count": 1,
   "metadata": {},
   "source": [
    "#!fsharp\n",
    "let findPattern (tiles: Tile array) =\n",
    "    let cnt = tiles.Length\n",
    "    let width = int (Math.Sqrt (double cnt))\n",
    "    let height = width\n",
    "    let rec inner (states: TileState [,]) (used: int Set) x y =\n",
    "        // printf \"%s\" (sprintf \"%i, %i\" x y)\n",
    "        if x = 0 && y = height then \n",
    "            Some states\n",
    "        else\n",
    "            let possibililites = \n",
    "                tiles\n",
    "                |> Array.filter (fun f -> not (Set.contains f.id used) )\n",
    "                |> Array.map (fun tile ->\n",
    "                    seq {\n",
    "                        for flippedI in 0..1 do\n",
    "                            let flipped = flippedI = 1\n",
    "                            for rotation in 0..3 do\n",
    "                                let newTile = { \n",
    "                                    index = tile.index;\n",
    "                                    rotation = rotation;\n",
    "                                    flipped = flipped\n",
    "                                }\n",
    "                                let mutable ok = true\n",
    "                                if x > 0 then\n",
    "                                    let leftTile = states.[x-1, y]\n",
    "                                    if not (matchesLR tiles leftTile newTile) then\n",
    "                                        ok <- false\n",
    "                                if ok && y > 0 then\n",
    "                                    let upTile = states.[x, y-1]\n",
    "                                    if not (matchesUD tiles upTile newTile) then\n",
    "                                        ok <- false\n",
    "                                \n",
    "                                if ok then\n",
    "                                    yield newTile\n",
    "                                \n",
    "                    } \n",
    "                    )\n",
    "                |> Seq.concat\n",
    "                |> List.ofSeq\n",
    "            \n",
    "            if List.isEmpty possibililites then\n",
    "                None\n",
    "            else\n",
    "                possibililites\n",
    "                |> List.fold ( fun found opt ->\n",
    "                                let newState = (Array2D.copy states)\n",
    "                                newState.[x,y] <- opt\n",
    "                                if found.IsNone then\n",
    "                                    inner \n",
    "                                        newState\n",
    "                                        (used.Add tiles.[opt.index].id)\n",
    "                                        (if x = width-1 then 0 else x + 1)\n",
    "                                        (if x = width-1 then y+1 else y )\n",
    "                                else\n",
    "                                    found\n",
    "                             )\n",
    "                             None\n",
    "        \n",
    "    (\n",
    "        tiles,\n",
    "        inner \n",
    "            (Array2D.init width height (fun x y -> { index = -1; rotation = 0; flipped = true })) \n",
    "            Set.empty\n",
    "            0 \n",
    "            0\n",
    "    )\n",
    "\n",
    "testInput |> parse |> findPattern |> snd"
   ],
   "outputs": [
    {
     "output_type": "execute_result",
     "data": {
      "text/html": "<table><thead><tr><th>Value</th></tr></thead><tbody><tr><td><div class=\"dni-plaintext\">[ { index = 1\n  rotation = 1\n  flipped = false }, { index = 0\n  rotation = 1\n  flipped = false }, { index = 8\n  rotation = 3\n  flipped = true }, { index = 7\n  rotation = 1\n  flipped = false }, { index = 3\n  rotation = 1\n  flipped = false }, { index = 5\n  rotation = 2\n  flipped = false }, { index = 6\n  rotation = 1\n  flipped = false }, { index = 4\n  rotation = 1\n  flipped = false }, { index = 2\n  rotation = 3\n  flipped = false } ]</div></td></tr></tbody></table>"
     },
     "execution_count": 1,
     "metadata": {}
    }
   ]
  },
  {
   "cell_type": "code",
   "execution_count": 1,
   "metadata": {},
   "source": [
    "#!fsharp\n",
    "let printTileIds (tiles: Tile array, states: option<TileState [,]>) =\n",
    "    states\n",
    "    |> Option.map     \n",
    "        (fun  states ->\n",
    "            let width = states.GetLength(0)\n",
    "            let height = states.GetLength(1)\n",
    "            let mutable result = 1L\n",
    "            for y in 0..(height-1) do\n",
    "                let mutable s = \"\"\n",
    "                for x in 0..(width-1) do\n",
    "                    s <- s + \"  \" + (tiles.[states.[x,y].index].id).ToString()\n",
    "                    if (x = 0 || x = (width-1)) && (y = 0 || y = (height-1)) then\n",
    "                        result <- result * int64( tiles.[states.[x,y].index].id )\n",
    "                printf \"%s\" s\n",
    "            result\n",
    "        )\n",
    "\n",
    "testInput |> parse |> findPattern |> printTileIds"
   ],
   "outputs": [
    {
     "output_type": "execute_result",
     "data": {
      "text/plain": "  1951  2729  2971"
     },
     "execution_count": 1,
     "metadata": {}
    },
    {
     "output_type": "execute_result",
     "data": {
      "text/plain": "  2311  1427  1489"
     },
     "execution_count": 1,
     "metadata": {}
    },
    {
     "output_type": "execute_result",
     "data": {
      "text/plain": "  3079  2473  1171"
     },
     "execution_count": 1,
     "metadata": {}
    },
    {
     "output_type": "execute_result",
     "data": {
      "text/html": "<table><thead><tr><th>Value</th></tr></thead><tbody><tr><td><div class=\"dni-plaintext\">20899048083289</div></td></tr></tbody></table>"
     },
     "execution_count": 1,
     "metadata": {}
    }
   ]
  },
  {
   "cell_type": "code",
   "execution_count": 1,
   "metadata": {},
   "source": [
    "#!fsharp\n",
    "taskInput |> parse |> findPattern |> printTileIds"
   ],
   "outputs": [
    {
     "output_type": "execute_result",
     "data": {
      "text/plain": "  3847  2803  2069  2719  1289  1429  2557  1663  3449  3947  1831  3187"
     },
     "execution_count": 1,
     "metadata": {}
    },
    {
     "output_type": "execute_result",
     "data": {
      "text/plain": "  3541  2113  1129  2399  1979  1453  1153  3917  3221  2129  1877  2383"
     },
     "execution_count": 1,
     "metadata": {}
    },
    {
     "output_type": "execute_result",
     "data": {
      "text/plain": "  2137  2801  3851  2081  2333  1549  3907  2767  3023  3533  2687  1597"
     },
     "execution_count": 1,
     "metadata": {}
    },
    {
     "output_type": "execute_result",
     "data": {
      "text/plain": "  3677  2833  3331  2339  3919  2273  2237  1543  3823  1433  2609  2749"
     },
     "execution_count": 1,
     "metadata": {}
    },
    {
     "output_type": "execute_result",
     "data": {
      "text/plain": "  3881  1399  2861  1907  3923  3209  1291  2131  2017  2971  3643  3329"
     },
     "execution_count": 1,
     "metadata": {}
    },
    {
     "output_type": "execute_result",
     "data": {
      "text/plain": "  3041  1901  1879  2677  1181  1627  3001  2659  2203  1031  3877  3359"
     },
     "execution_count": 1,
     "metadata": {}
    },
    {
     "output_type": "execute_result",
     "data": {
      "text/plain": "  3539  1097  3571  3593  1493  2473  2521  1559  3251  1741  1277  3691"
     },
     "execution_count": 1,
     "metadata": {}
    },
    {
     "output_type": "execute_result",
     "data": {
      "text/plain": "  2029  2897  2531  1447  1459  1061  1187  2089  2693  1049  1553  1021"
     },
     "execution_count": 1,
     "metadata": {}
    },
    {
     "output_type": "execute_result",
     "data": {
      "text/plain": "  3457  2251  1373  2953  1511  1657  1381  3083  2111  2389  3181  3863"
     },
     "execution_count": 1,
     "metadata": {}
    },
    {
     "output_type": "execute_result",
     "data": {
      "text/plain": "  3037  2999  1619  1019  2927  3089  1667  1609  1151  3163  2143  2011"
     },
     "execution_count": 1,
     "metadata": {}
    },
    {
     "output_type": "execute_result",
     "data": {
      "text/plain": "  1321  3253  2063  1697  3067  1361  2917  1307  1423  2837  1733  1783"
     },
     "execution_count": 1,
     "metadata": {}
    },
    {
     "output_type": "execute_result",
     "data": {
      "text/plain": "  1567  1009  1069  3697  3413  2539  3203  3217  3119  2819  3617  3373"
     },
     "execution_count": 1,
     "metadata": {}
    },
    {
     "output_type": "execute_result",
     "data": {
      "text/html": "<table><thead><tr><th>Value</th></tr></thead><tbody><tr><td><div class=\"dni-plaintext\">64802175715999</div></td></tr></tbody></table>"
     },
     "execution_count": 1,
     "metadata": {}
    }
   ]
  },
  {
   "cell_type": "markdown",
   "metadata": {},
   "source": [
    "--- Part Two ---\n",
    "\n",
    "Now, you're ready to check the image for sea monsters.\n",
    "\n",
    "The borders of each tile are not part of the actual image; start by removing them.\n",
    "\n",
    "In the example above, the tiles become:\n",
    "\n",
    "```\n",
    ".#.#..#. ##...#.# #..#####\n",
    "###....# .#....#. .#......\n",
    "##.##.## #.#.#..# #####...\n",
    "###.#### #...#.## ###.#..#\n",
    "##.#.... #.##.### #...#.##\n",
    "...##### ###.#... .#####.#\n",
    "....#..# ...##..# .#.###..\n",
    ".####... #..#.... .#......\n",
    "\n",
    "#..#.##. .#..###. #.##....\n",
    "#.####.. #.####.# .#.###..\n",
    "###.#.#. ..#.#### ##.#..##\n",
    "#.####.. ..##..## ######.#\n",
    "##..##.# ...#...# .#.#.#..\n",
    "...#..#. .#.#.##. .###.###\n",
    ".#.#.... #.##.#.. .###.##.\n",
    "###.#... #..#.##. ######..\n",
    "\n",
    ".#.#.### .##.##.# ..#.##..\n",
    ".####.## #.#...## #.#..#.#\n",
    "..#.#..# ..#.#.#. ####.###\n",
    "#..####. ..#.#.#. ###.###.\n",
    "#####..# ####...# ##....##\n",
    "#.##..#. .#...#.. ####...#\n",
    ".#.###.. ##..##.. ####.##.\n",
    "...###.. .##...#. ..#..###\n",
    "```\n",
    "\n",
    "Remove the gaps to form the actual image:\n",
    "\n",
    "```\n",
    ".#.#..#.##...#.##..#####\n",
    "###....#.#....#..#......\n",
    "##.##.###.#.#..######...\n",
    "###.#####...#.#####.#..#\n",
    "##.#....#.##.####...#.##\n",
    "...########.#....#####.#\n",
    "....#..#...##..#.#.###..\n",
    ".####...#..#.....#......\n",
    "#..#.##..#..###.#.##....\n",
    "#.####..#.####.#.#.###..\n",
    "###.#.#...#.######.#..##\n",
    "#.####....##..########.#\n",
    "##..##.#...#...#.#.#.#..\n",
    "...#..#..#.#.##..###.###\n",
    ".#.#....#.##.#...###.##.\n",
    "###.#...#..#.##.######..\n",
    ".#.#.###.##.##.#..#.##..\n",
    ".####.###.#...###.#..#.#\n",
    "..#.#..#..#.#.#.####.###\n",
    "#..####...#.#.#.###.###.\n",
    "#####..#####...###....##\n",
    "#.##..#..#...#..####...#\n",
    ".#.###..##..##..####.##.\n",
    "...###...##...#...#..###\n",
    "```\n",
    "\n",
    "Now, you're ready to search for sea monsters! Because your image is monochrome, a sea monster will look like this:\n",
    "\n",
    "```\n",
    "                  # \n",
    "#    ##    ##    ###\n",
    " #  #  #  #  #  #   \n",
    " ```\n",
    "\n",
    "When looking for this pattern in the image, the spaces can be anything; only the # need to match. Also, you might need to rotate or flip your image before it's oriented correctly to find sea monsters. In the above image, after flipping and rotating it to the appropriate orientation, there are two sea monsters (marked with O):\n",
    "\n",
    "```\n",
    ".####...#####..#...###..\n",
    "#####..#..#.#.####..#.#.\n",
    ".#.#...#.###...#.##.O#..\n",
    "#.O.##.OO#.#.OO.##.OOO##\n",
    "..#O.#O#.O##O..O.#O##.##\n",
    "...#.#..##.##...#..#..##\n",
    "#.##.#..#.#..#..##.#.#..\n",
    ".###.##.....#...###.#...\n",
    "#.####.#.#....##.#..#.#.\n",
    "##...#..#....#..#...####\n",
    "..#.##...###..#.#####..#\n",
    "....#.##.#.#####....#...\n",
    "..##.##.###.....#.##..#.\n",
    "#...#...###..####....##.\n",
    ".#.##...#.##.#.#.###...#\n",
    "#.###.#..####...##..#...\n",
    "#.###...#.##...#.##O###.\n",
    ".O##.#OO.###OO##..OOO##.\n",
    "..O#.O..O..O.#O##O##.###\n",
    "#.#..##.########..#..##.\n",
    "#.#####..#.#...##..#....\n",
    "#....##..#.#########..##\n",
    "#...#.....#..##...###.##\n",
    "#..###....##.#...##.##.#\n",
    "```\n",
    "\n",
    "Determine how rough the waters are in the sea monsters' habitat by counting the number of # that are not part of a sea monster. In the above example, the habitat's water roughness is 273.\n",
    "\n",
    "How many # are not part of a sea monster?\n",
    ""
   ]
  },
  {
   "cell_type": "code",
   "execution_count": 1,
   "metadata": {},
   "source": [
    "#!fsharp\n",
    "let toTile (tiles: Tile array, states: option<TileState [,]>) =\n",
    "    if states.IsNone then\n",
    "        failwith \"Expected to get valid result\"\n",
    "    states |>\n",
    "    Option.map \n",
    "        (fun states ->\n",
    "            let tWidth = tiles.[0].pixels.[0].Length\n",
    "            let tHeight = tiles.[1].pixels.Length\n",
    "            let width = states.GetLength(0)\n",
    "            let height = states.GetLength(1)\n",
    "            let pixels = \n",
    "                Array.init \n",
    "                    ((tHeight-2) * height) \n",
    "                    (fun y ->\n",
    "                        let mainY = y / (tHeight-2)\n",
    "                        let tileY = y % (tHeight-2)\n",
    "                        let mutable s = \"\"\n",
    "                        for x in 0..(width-1) do\n",
    "                            let tileState = states.[x,mainY]\n",
    "                            //printf \"%s\" (sprintf \"%i x %i : %i, %i, %A\" x mainY tiles.[tileState.index].id tileY tileState)\n",
    "                            rowSeq (tileY+1) tiles.[tileState.index] tileState.rotation tileState.flipped\n",
    "                            |> Seq.skip 1\n",
    "                            |> Seq.take (tWidth-2)\n",
    "                            |> Seq.iter (fun p -> s <- s + p.ToString())\n",
    "//                            s <- s + \"   \"                        \n",
    "                        s\n",
    "                    )\n",
    "            {\n",
    "                index = 0;\n",
    "                id = 0;\n",
    "                pixels = pixels;\n",
    "            }\n",
    "        )\n",
    "    |> (fun o -> o.Value )\n",
    "\n",
    "let printPixels (pixels: string array) =\n",
    "    pixels\n",
    "    |> Array.iter ( fun row -> printf \"%s\" row )\n",
    "\n",
    "testInput |> parse |> findPattern |> toTile |> ( fun tile -> printPixels tile.pixels)"
   ],
   "outputs": [
    {
     "output_type": "execute_result",
     "data": {
      "text/plain": ".####...#####..#...###.."
     },
     "execution_count": 1,
     "metadata": {}
    },
    {
     "output_type": "execute_result",
     "data": {
      "text/plain": "#####..#..#.#.####..#.#."
     },
     "execution_count": 1,
     "metadata": {}
    },
    {
     "output_type": "execute_result",
     "data": {
      "text/plain": ".#.#...#.###...#.##.##.."
     },
     "execution_count": 1,
     "metadata": {}
    },
    {
     "output_type": "execute_result",
     "data": {
      "text/plain": "#.#.##.###.#.##.##.#####"
     },
     "execution_count": 1,
     "metadata": {}
    },
    {
     "output_type": "execute_result",
     "data": {
      "text/plain": "..##.###.####..#.####.##"
     },
     "execution_count": 1,
     "metadata": {}
    },
    {
     "output_type": "execute_result",
     "data": {
      "text/plain": "...#.#..##.##...#..#..##"
     },
     "execution_count": 1,
     "metadata": {}
    },
    {
     "output_type": "execute_result",
     "data": {
      "text/plain": "#.##.#..#.#..#..##.#.#.."
     },
     "execution_count": 1,
     "metadata": {}
    },
    {
     "output_type": "execute_result",
     "data": {
      "text/plain": ".###.##.....#...###.#..."
     },
     "execution_count": 1,
     "metadata": {}
    },
    {
     "output_type": "execute_result",
     "data": {
      "text/plain": "#.####.#.#....##.#..#.#."
     },
     "execution_count": 1,
     "metadata": {}
    },
    {
     "output_type": "execute_result",
     "data": {
      "text/plain": "##...#..#....#..#...####"
     },
     "execution_count": 1,
     "metadata": {}
    },
    {
     "output_type": "execute_result",
     "data": {
      "text/plain": "..#.##...###..#.#####..#"
     },
     "execution_count": 1,
     "metadata": {}
    },
    {
     "output_type": "execute_result",
     "data": {
      "text/plain": "....#.##.#.#####....#..."
     },
     "execution_count": 1,
     "metadata": {}
    },
    {
     "output_type": "execute_result",
     "data": {
      "text/plain": "..##.##.###.....#.##..#."
     },
     "execution_count": 1,
     "metadata": {}
    },
    {
     "output_type": "execute_result",
     "data": {
      "text/plain": "#...#...###..####....##."
     },
     "execution_count": 1,
     "metadata": {}
    },
    {
     "output_type": "execute_result",
     "data": {
      "text/plain": ".#.##...#.##.#.#.###...#"
     },
     "execution_count": 1,
     "metadata": {}
    },
    {
     "output_type": "execute_result",
     "data": {
      "text/plain": "#.###.#..####...##..#..."
     },
     "execution_count": 1,
     "metadata": {}
    },
    {
     "output_type": "execute_result",
     "data": {
      "text/plain": "#.###...#.##...#.######."
     },
     "execution_count": 1,
     "metadata": {}
    },
    {
     "output_type": "execute_result",
     "data": {
      "text/plain": ".###.###.#######..#####."
     },
     "execution_count": 1,
     "metadata": {}
    },
    {
     "output_type": "execute_result",
     "data": {
      "text/plain": "..##.#..#..#.#######.###"
     },
     "execution_count": 1,
     "metadata": {}
    },
    {
     "output_type": "execute_result",
     "data": {
      "text/plain": "#.#..##.########..#..##."
     },
     "execution_count": 1,
     "metadata": {}
    },
    {
     "output_type": "execute_result",
     "data": {
      "text/plain": "#.#####..#.#...##..#...."
     },
     "execution_count": 1,
     "metadata": {}
    },
    {
     "output_type": "execute_result",
     "data": {
      "text/plain": "#....##..#.#########..##"
     },
     "execution_count": 1,
     "metadata": {}
    },
    {
     "output_type": "execute_result",
     "data": {
      "text/plain": "#...#.....#..##...###.##"
     },
     "execution_count": 1,
     "metadata": {}
    },
    {
     "output_type": "execute_result",
     "data": {
      "text/plain": "#..###....##.#...##.##.#"
     },
     "execution_count": 1,
     "metadata": {}
    }
   ]
  },
  {
   "cell_type": "code",
   "execution_count": 1,
   "metadata": {},
   "source": [
    "#!fsharp\n",
    "let monsterCoords = [(0,1); (1,2); (4, 2); (5, 1); (6,1); (7,2); (10,2); (11, 1); (12, 1); (13, 2); (16,2); (17,1); (18,1); (19,1); (18,0)]\n",
    "let isMonsterAt (pixels: string array) (x, y) =\n",
    "    monsterCoords\n",
    "    |> List.forall ( fun (mx,my) -> pixels.[y+my].[x+mx] = '#' )"
   ],
   "outputs": []
  },
  {
   "cell_type": "code",
   "execution_count": 1,
   "metadata": {},
   "source": [
    "#!fsharp\n",
    "let getTilePixels (tile:Tile) rotation flipped =\n",
    "    tile.pixels\n",
    "    |> Array.mapi \n",
    "        (fun y _ ->\n",
    "            rowSeq y tile rotation flipped\n",
    "            |> Seq.map ( fun ch -> ch.ToString() )\n",
    "            |> String.Concat\n",
    "        )\n",
    "\n",
    "getTilePixels (testInput |> parse |> findPattern |> toTile) 0 false |> printPixels"
   ],
   "outputs": [
    {
     "output_type": "execute_result",
     "data": {
      "text/plain": ".####...#####..#...###.."
     },
     "execution_count": 1,
     "metadata": {}
    },
    {
     "output_type": "execute_result",
     "data": {
      "text/plain": "#####..#..#.#.####..#.#."
     },
     "execution_count": 1,
     "metadata": {}
    },
    {
     "output_type": "execute_result",
     "data": {
      "text/plain": ".#.#...#.###...#.##.##.."
     },
     "execution_count": 1,
     "metadata": {}
    },
    {
     "output_type": "execute_result",
     "data": {
      "text/plain": "#.#.##.###.#.##.##.#####"
     },
     "execution_count": 1,
     "metadata": {}
    },
    {
     "output_type": "execute_result",
     "data": {
      "text/plain": "..##.###.####..#.####.##"
     },
     "execution_count": 1,
     "metadata": {}
    },
    {
     "output_type": "execute_result",
     "data": {
      "text/plain": "...#.#..##.##...#..#..##"
     },
     "execution_count": 1,
     "metadata": {}
    },
    {
     "output_type": "execute_result",
     "data": {
      "text/plain": "#.##.#..#.#..#..##.#.#.."
     },
     "execution_count": 1,
     "metadata": {}
    },
    {
     "output_type": "execute_result",
     "data": {
      "text/plain": ".###.##.....#...###.#..."
     },
     "execution_count": 1,
     "metadata": {}
    },
    {
     "output_type": "execute_result",
     "data": {
      "text/plain": "#.####.#.#....##.#..#.#."
     },
     "execution_count": 1,
     "metadata": {}
    },
    {
     "output_type": "execute_result",
     "data": {
      "text/plain": "##...#..#....#..#...####"
     },
     "execution_count": 1,
     "metadata": {}
    },
    {
     "output_type": "execute_result",
     "data": {
      "text/plain": "..#.##...###..#.#####..#"
     },
     "execution_count": 1,
     "metadata": {}
    },
    {
     "output_type": "execute_result",
     "data": {
      "text/plain": "....#.##.#.#####....#..."
     },
     "execution_count": 1,
     "metadata": {}
    },
    {
     "output_type": "execute_result",
     "data": {
      "text/plain": "..##.##.###.....#.##..#."
     },
     "execution_count": 1,
     "metadata": {}
    },
    {
     "output_type": "execute_result",
     "data": {
      "text/plain": "#...#...###..####....##."
     },
     "execution_count": 1,
     "metadata": {}
    },
    {
     "output_type": "execute_result",
     "data": {
      "text/plain": ".#.##...#.##.#.#.###...#"
     },
     "execution_count": 1,
     "metadata": {}
    },
    {
     "output_type": "execute_result",
     "data": {
      "text/plain": "#.###.#..####...##..#..."
     },
     "execution_count": 1,
     "metadata": {}
    },
    {
     "output_type": "execute_result",
     "data": {
      "text/plain": "#.###...#.##...#.######."
     },
     "execution_count": 1,
     "metadata": {}
    },
    {
     "output_type": "execute_result",
     "data": {
      "text/plain": ".###.###.#######..#####."
     },
     "execution_count": 1,
     "metadata": {}
    },
    {
     "output_type": "execute_result",
     "data": {
      "text/plain": "..##.#..#..#.#######.###"
     },
     "execution_count": 1,
     "metadata": {}
    },
    {
     "output_type": "execute_result",
     "data": {
      "text/plain": "#.#..##.########..#..##."
     },
     "execution_count": 1,
     "metadata": {}
    },
    {
     "output_type": "execute_result",
     "data": {
      "text/plain": "#.#####..#.#...##..#...."
     },
     "execution_count": 1,
     "metadata": {}
    },
    {
     "output_type": "execute_result",
     "data": {
      "text/plain": "#....##..#.#########..##"
     },
     "execution_count": 1,
     "metadata": {}
    },
    {
     "output_type": "execute_result",
     "data": {
      "text/plain": "#...#.....#..##...###.##"
     },
     "execution_count": 1,
     "metadata": {}
    },
    {
     "output_type": "execute_result",
     "data": {
      "text/plain": "#..###....##.#...##.##.#"
     },
     "execution_count": 1,
     "metadata": {}
    }
   ]
  },
  {
   "cell_type": "code",
   "execution_count": 1,
   "metadata": {},
   "source": [
    "#!fsharp\n",
    "let findMonstersInMap (pixels: string array) =\n",
    "    let width = pixels.[0].Length\n",
    "    let height = pixels.Length\n",
    "    let mWidth = (List.maxBy fst monsterCoords |> fst) + 1\n",
    "    let mHeight = (List.maxBy snd monsterCoords |> snd) + 1\n",
    "    //(width, height, mWidth, mHeight)\n",
    "    \n",
    "    [0..(height-mHeight)]\n",
    "    |> Seq.map (fun y -> \n",
    "         [0..(width-mWidth)]\n",
    "         |> Seq.map (fun x -> (x,y))\n",
    "       )\n",
    "    |> Seq.concat\n",
    "    |> Seq.filter (isMonsterAt pixels)\n",
    "\n",
    "getTilePixels (testInput |> parse |> findPattern |> toTile) 0 false |> findMonstersInMap"
   ],
   "outputs": [
    {
     "output_type": "execute_result",
     "data": {
      "text/html": "<table><thead><tr><th><i>index</i></th><th>Item1</th><th>Item2</th></tr></thead><tbody><tr><td>0</td><td><div class=\"dni-plaintext\">2</div></td><td><div class=\"dni-plaintext\">2</div></td></tr><tr><td>1</td><td><div class=\"dni-plaintext\">1</div></td><td><div class=\"dni-plaintext\">16</div></td></tr></tbody></table>"
     },
     "execution_count": 1,
     "metadata": {}
    }
   ]
  },
  {
   "cell_type": "code",
   "execution_count": 1,
   "metadata": {},
   "source": [
    "#!fsharp\n",
    "let countRoughnessInMap (pixels: string array) =\n",
    "    let monsters = findMonstersInMap pixels |> List.ofSeq\n",
    "    if monsters.Length = 0 then\n",
    "        None\n",
    "    else\n",
    "        let width = pixels.[0].Length\n",
    "        let height = pixels.[0].Length\n",
    "        // just in case monster overlap, build occupied map\n",
    "        let occupied = Array2D.init width height (fun x y -> false )\n",
    "        monsters \n",
    "        |> Seq.iter \n",
    "            (fun (x,y) ->\n",
    "                monsterCoords\n",
    "                |> Seq.iter \n",
    "                    (fun (mx,my) -> \n",
    "                        occupied.[x+mx, y+my] <- true \n",
    "                    )\n",
    "            )\n",
    "        \n",
    "        let mutable sum = 0\n",
    "        for y in 0..(height-1) do\n",
    "            for x in 0..(width-1) do\n",
    "                if (not occupied.[x,y]) && pixels.[y].[x] = '#' then\n",
    "                    sum <- sum + 1\n",
    "        Some sum\n",
    "\n",
    "getTilePixels (testInput |> parse |> findPattern |> toTile) 0 false |> countRoughnessInMap"
   ],
   "outputs": [
    {
     "output_type": "execute_result",
     "data": {
      "text/html": "<table><thead><tr><th>Value</th></tr></thead><tbody><tr><td><div class=\"dni-plaintext\">273</div></td></tr></tbody></table>"
     },
     "execution_count": 1,
     "metadata": {}
    }
   ]
  },
  {
   "cell_type": "code",
   "execution_count": 1,
   "metadata": {},
   "source": [
    "#!fsharp\n",
    "let findMonstersAndRoughness (tile:Tile) =\n",
    "    seq {\n",
    "        for flippedI in 0..1 do\n",
    "            let flipped = flippedI = 1\n",
    "            for rotation in 0..3 do\n",
    "                let pixels = getTilePixels tile rotation flipped\n",
    "                yield (countRoughnessInMap pixels)\n",
    "    }\n",
    "    |> Seq.choose id\n",
    "\n",
    "testInput |> parse |> findPattern |> toTile |> findMonstersAndRoughness"
   ],
   "outputs": [
    {
     "output_type": "execute_result",
     "data": {
      "text/html": "<table><thead><tr><th><i>index</i></th><th>value</th></tr></thead><tbody><tr><td>0</td><td><div class=\"dni-plaintext\">273</div></td></tr></tbody></table>"
     },
     "execution_count": 1,
     "metadata": {}
    }
   ]
  },
  {
   "cell_type": "code",
   "execution_count": 1,
   "metadata": {},
   "source": [
    "#!fsharp\n",
    "taskInput |> parse |> findPattern |> toTile |> findMonstersAndRoughness"
   ],
   "outputs": [
    {
     "output_type": "execute_result",
     "data": {
      "text/html": "<table><thead><tr><th><i>index</i></th><th>value</th></tr></thead><tbody><tr><td>0</td><td><div class=\"dni-plaintext\">2146</div></td></tr></tbody></table>"
     },
     "execution_count": 1,
     "metadata": {}
    }
   ]
  }
 ],
 "metadata": {
  "kernelspec": {
   "display_name": ".NET (C#)",
   "language": "C#",
   "name": ".net-csharp"
  },
  "language_info": {
   "file_extension": ".cs",
   "mimetype": "text/x-csharp",
   "name": "C#",
   "pygments_lexer": "csharp",
   "version": "8.0"
  }
 },
 "nbformat": 4,
 "nbformat_minor": 4
}