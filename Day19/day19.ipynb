{
 "cells": [
  {
   "cell_type": "markdown",
   "metadata": {},
   "source": [
    "--- Day 19: Monster Messages ---\n",
    "\n",
    "You land in an airport surrounded by dense forest. As you walk to your high-speed train, the Elves at the Mythical Information Bureau contact you again. They think their satellite has collected an image of a sea monster! Unfortunately, the connection to the satellite is having problems, and many of the messages sent back from the satellite have been corrupted.\n",
    "\n",
    "They sent you a list of the rules valid messages should obey and a list of received messages they've collected so far (your puzzle input).\n",
    "\n",
    "The rules for valid messages (the top part of your puzzle input) are numbered and build upon each other. For example:\n",
    "\n",
    "```\n",
    "0: 1 2\n",
    "1: \"a\"\n",
    "2: 1 3 | 3 1\n",
    "3: \"b\"\n",
    "```\n",
    "\n",
    "Some rules, like 3: \"b\", simply match a single character (in this case, b).\n",
    "\n",
    "The remaining rules list the sub-rules that must be followed; for example, the rule 0: 1 2 means that to match rule 0, the text being checked must match rule 1, and the text after the part that matched rule 1 must then match rule 2.\n",
    "\n",
    "Some of the rules have multiple lists of sub-rules separated by a pipe (|). This means that at least one list of sub-rules must match. (The ones that match might be different each time the rule is encountered.) For example, the rule 2: 1 3 | 3 1 means that to match rule 2, the text being checked must match rule 1 followed by rule 3 or it must match rule 3 followed by rule 1.\n",
    "\n",
    "Fortunately, there are no loops in the rules, so the list of possible matches will be finite. Since rule 1 matches a and rule 3 matches b, rule 2 matches either ab or ba. Therefore, rule 0 matches aab or aba.\n",
    "\n",
    "Here's a more interesting example:\n",
    "\n",
    "```\n",
    "0: 4 1 5\n",
    "1: 2 3 | 3 2\n",
    "2: 4 4 | 5 5\n",
    "3: 4 5 | 5 4\n",
    "4: \"a\"\n",
    "5: \"b\"\n",
    "```\n",
    "\n",
    "Here, because rule 4 matches a and rule 5 matches b, rule 2 matches two letters that are the same (aa or bb), and rule 3 matches two letters that are different (ab or ba).\n",
    "\n",
    "Since rule 1 matches rules 2 and 3 once each in either order, it must match two pairs of letters, one pair with matching letters and one pair with different letters. This leaves eight possibilities: aaab, aaba, bbab, bbba, abaa, abbb, baaa, or babb.\n",
    "\n",
    "Rule 0, therefore, matches a (rule 4), then any of the eight options from rule 1, then b (rule 5): aaaabb, aaabab, abbabb, abbbab, aabaab, aabbbb, abaaab, or ababbb.\n",
    "\n",
    "The received messages (the bottom part of your puzzle input) need to be checked against the rules so you can determine which are valid and which are corrupted. Including the rules and the messages together, this might look like:\n",
    "\n",
    "```\n",
    "0: 4 1 5\n",
    "1: 2 3 | 3 2\n",
    "2: 4 4 | 5 5\n",
    "3: 4 5 | 5 4\n",
    "4: \"a\"\n",
    "5: \"b\"\n",
    "\n",
    "ababbb\n",
    "bababa\n",
    "abbbab\n",
    "aaabbb\n",
    "aaaabbb\n",
    "```\n",
    "\n",
    "Your goal is to determine the number of messages that completely match rule 0. In the above example, ababbb and abbbab match, but bababa, aaabbb, and aaaabbb do not, producing the answer 2. The whole message must match all of rule 0; there can't be extra unmatched characters in the message. (For example, aaaabbb might appear to match rule 0 above, but it has an extra unmatched b on the end.)\n",
    "\n",
    "How many messages completely match rule 0?\n",
    ""
   ]
  },
  {
   "cell_type": "code",
   "execution_count": 1,
   "metadata": {},
   "source": [
    "#!fsharp\n",
    "let testInput = \"\"\"0: 4 1 5\n",
    "1: 2 3 | 3 2\n",
    "2: 4 4 | 5 5\n",
    "3: 4 5 | 5 4\n",
    "4: \"a\"\n",
    "5: \"b\"\n",
    "\n",
    "ababbb\n",
    "bababa\n",
    "abbbab\n",
    "aaabbb\n",
    "aaaabbb\"\"\"\n",
    "\n",
    "let taskInput = System.IO.File.ReadAllText(\"task.txt\")"
   ],
   "outputs": []
  },
  {
   "cell_type": "code",
   "execution_count": 1,
   "metadata": {},
   "source": [
    "#!fsharp\n",
    "type RuleChain = List<int>\n",
    "type RuleOptions = List<RuleChain>\n",
    "type Rule = Simple of char\n",
    "            | Complex of RuleOptions\n",
    "type Task = { \n",
    "    rules: Map<int,Rule>;\n",
    "    messages: string array;\n",
    "}"
   ],
   "outputs": []
  },
  {
   "cell_type": "code",
   "execution_count": 1,
   "metadata": {},
   "source": [
    "#!fsharp\n",
    "let parseRules (input:string) =\n",
    "    input.Split(\"\\n\")\n",
    "    |> Seq.map\n",
    "        ( fun row -> \n",
    "            let parts = row.Split(\": \")\n",
    "            let id = int parts.[0]\n",
    "            if parts.[1].[0]='\"' then\n",
    "                ( id, Simple(parts.[1].[1]) )\n",
    "            else\n",
    "                parts.[1].Split(\" | \")\n",
    "                |> Seq.map\n",
    "                    ( fun option -> \n",
    "                        option.Split(\" \")\n",
    "                        |> Seq.map int\n",
    "                        |> List.ofSeq\n",
    "                    )\n",
    "                |> List.ofSeq\n",
    "                |> ( fun options -> \n",
    "                        ( id, Complex(options) )\n",
    "                )\n",
    "        )\n",
    "    |> Map.ofSeq\n",
    "\n",
    "let parse (input:string) =\n",
    "    let parts = input.Replace(\"\\r\", \"\").Split(\"\\n\\n\")\n",
    "    {\n",
    "        rules = parseRules parts.[0]\n",
    "        messages = parts.[1].Split(\"\\n\")\n",
    "    }\n",
    "\n",
    "testInput |> parse"
   ],
   "outputs": [
    {
     "output_type": "execute_result",
     "data": {
      "text/html": "<table><thead><tr><th>rules</th><th>messages</th></tr></thead><tbody><tr><td><div class=\"dni-plaintext\">[ [0, Complex [[4; 1; 5]]], [1, Complex [[2; 3]; [3; 2]]], [2, Complex [[4; 4]; [5; 5]]], [3, Complex [[4; 5]; [5; 4]]], [4, Simple &#39;a&#39;], [5, Simple &#39;b&#39;] ]</div></td><td><div class=\"dni-plaintext\">[ ababbb, bababa, abbbab, aaabbb, aaaabbb ]</div></td></tr></tbody></table>"
     },
     "execution_count": 1,
     "metadata": {}
    }
   ]
  },
  {
   "cell_type": "code",
   "execution_count": 1,
   "metadata": {},
   "source": [
    "#!fsharp\n",
    "let expandRule ruleId (rules: Map<int, Rule>) =\n",
    "    let rec inner ruleId prefix =\n",
    "        seq {\n",
    "            let rule = rules.[ruleId]\n",
    "            match rule with\n",
    "            | Simple ch -> yield prefix + ch.ToString()\n",
    "            | Complex options ->\n",
    "                for option in options do\n",
    "                    yield! List.fold\n",
    "                        ( fun acc id ->\n",
    "                            acc\n",
    "                            |> List.map\n",
    "                                ( fun prefix ->\n",
    "                                    List.ofSeq (inner id prefix)\n",
    "                                )\n",
    "                            |> List.concat\n",
    "                        )\n",
    "                        [prefix]\n",
    "                        option\n",
    "        }\n",
    "    inner ruleId \"\" \n",
    "\n",
    "let testTask = parse testInput\n",
    "expandRule 0 testTask.rules"
   ],
   "outputs": [
    {
     "output_type": "execute_result",
     "data": {
      "text/html": "<table><thead><tr><th><i>index</i></th><th>value</th></tr></thead><tbody><tr><td>0</td><td><div class=\"dni-plaintext\">aaaabb</div></td></tr><tr><td>1</td><td><div class=\"dni-plaintext\">aaabab</div></td></tr><tr><td>2</td><td><div class=\"dni-plaintext\">abbabb</div></td></tr><tr><td>3</td><td><div class=\"dni-plaintext\">abbbab</div></td></tr><tr><td>4</td><td><div class=\"dni-plaintext\">aabaab</div></td></tr><tr><td>5</td><td><div class=\"dni-plaintext\">aabbbb</div></td></tr><tr><td>6</td><td><div class=\"dni-plaintext\">abaaab</div></td></tr><tr><td>7</td><td><div class=\"dni-plaintext\">ababbb</div></td></tr></tbody></table>"
     },
     "execution_count": 1,
     "metadata": {}
    }
   ]
  },
  {
   "cell_type": "code",
   "execution_count": 1,
   "metadata": {},
   "source": [
    "#!fsharp\n",
    "let taskTask = parse taskInput\n",
    "expandRule 0 taskTask.rules"
   ],
   "outputs": [
    {
     "output_type": "execute_result",
     "data": {
      "text/html": "<table><thead><tr><th><i>index</i></th><th>value</th></tr></thead><tbody><tr><td>0</td><td><div class=\"dni-plaintext\">aabbbaaaaabbbaaaaabaaaab</div></td></tr><tr><td>1</td><td><div class=\"dni-plaintext\">aabbbaaaaabbbaaaabaaaaab</div></td></tr><tr><td>2</td><td><div class=\"dni-plaintext\">aabbbaaaaabbbaaaabbbaaab</div></td></tr><tr><td>3</td><td><div class=\"dni-plaintext\">aabbbaaaaabbbaaaaaabaaab</div></td></tr><tr><td>4</td><td><div class=\"dni-plaintext\">aabbbaaaaabbbaaaaababaab</div></td></tr><tr><td>5</td><td><div class=\"dni-plaintext\">aabbbaaaaabbbaaaabaabaab</div></td></tr><tr><td>6</td><td><div class=\"dni-plaintext\">aabbbaaaaabbbaaaaaabbaab</div></td></tr><tr><td>7</td><td><div class=\"dni-plaintext\">aabbbaaaaabbbaaaababbbab</div></td></tr><tr><td>8</td><td><div class=\"dni-plaintext\">aabbbaaaaabbbaaaabbbbbab</div></td></tr><tr><td>9</td><td><div class=\"dni-plaintext\">aabbbaaaaabbbaaaaaabbbab</div></td></tr><tr><td>10</td><td><div class=\"dni-plaintext\">aabbbaaaaabbbaaaabaabbab</div></td></tr><tr><td>11</td><td><div class=\"dni-plaintext\">aabbbaaaaabbbaaaaaaabbab</div></td></tr><tr><td>12</td><td><div class=\"dni-plaintext\">aabbbaaaaabbbaaaabaaabab</div></td></tr><tr><td>13</td><td><div class=\"dni-plaintext\">aabbbaaaaabbbaaaaaaaabab</div></td></tr><tr><td>14</td><td><div class=\"dni-plaintext\">aabbbaaaaabbbaaaaaababab</div></td></tr><tr><td>15</td><td><div class=\"dni-plaintext\">aabbbaaaaabbbaaaaabbabab</div></td></tr><tr><td>16</td><td><div class=\"dni-plaintext\">aabbbaaaaabbbaaaaaabbabb</div></td></tr><tr><td>17</td><td><div class=\"dni-plaintext\">aabbbaaaaabbbaaaaaaaabbb</div></td></tr><tr><td>18</td><td><div class=\"dni-plaintext\">aabbbaaaaabbbaaaaaaabbbb</div></td></tr><tr><td>19</td><td><div class=\"dni-plaintext\">aabbbaaaaabbbaaaaaabbbbb</div></td></tr><tr><td colspan=\"2\">(2097132 more)</td></tr></tbody></table>"
     },
     "execution_count": 1,
     "metadata": {}
    }
   ]
  },
  {
   "cell_type": "code",
   "execution_count": 1,
   "metadata": {},
   "source": [
    "#!fsharp\n",
    "let correctMessages (task:Task) =\n",
    "    let expanded = expandRule 0 task.rules |> List.ofSeq\n",
    "    task.messages\n",
    "    |> Seq.filter ( fun msg -> List.contains msg expanded )\n",
    "    |> Seq.length\n",
    "\n",
    "testInput |> parse |> correctMessages"
   ],
   "outputs": [
    {
     "output_type": "execute_result",
     "data": {
      "text/html": "<div class=\"dni-plaintext\">2</div>"
     },
     "execution_count": 1,
     "metadata": {}
    }
   ]
  },
  {
   "cell_type": "code",
   "execution_count": 1,
   "metadata": {},
   "source": [
    "#!fsharp\n",
    "taskInput |> parse |> correctMessages"
   ],
   "outputs": [
    {
     "output_type": "execute_result",
     "data": {
      "text/html": "<div class=\"dni-plaintext\">129</div>"
     },
     "execution_count": 1,
     "metadata": {}
    }
   ]
  },
  {
   "cell_type": "markdown",
   "metadata": {},
   "source": [
    "--- Part Two ---\n",
    "\n",
    "As you look over the list of messages, you realize your matching rules aren't quite right. To fix them, completely replace rules 8: 42 and 11: 42 31 with the following:\n",
    "\n",
    "```\n",
    "8: 42 | 42 8\n",
    "11: 42 31 | 42 11 31\n",
    "```\n",
    "\n",
    "This small change has a big impact: now, the rules do contain loops, and the list of messages they could hypothetically match is infinite. You'll need to determine how these changes affect which messages are valid.\n",
    "\n",
    "Fortunately, many of the rules are unaffected by this change; it might help to start by looking at which rules always match the same set of values and how those rules (especially rules 42 and 31) are used by the new versions of rules 8 and 11.\n",
    "\n",
    "(Remember, you only need to handle the rules you have; building a solution that could handle any hypothetical combination of rules would be significantly more difficult.)\n",
    "\n",
    "For example:\n",
    "\n",
    "```\n",
    "42: 9 14 | 10 1\n",
    "9: 14 27 | 1 26\n",
    "10: 23 14 | 28 1\n",
    "1: \"a\"\n",
    "11: 42 31\n",
    "5: 1 14 | 15 1\n",
    "19: 14 1 | 14 14\n",
    "12: 24 14 | 19 1\n",
    "16: 15 1 | 14 14\n",
    "31: 14 17 | 1 13\n",
    "6: 14 14 | 1 14\n",
    "2: 1 24 | 14 4\n",
    "0: 8 11\n",
    "13: 14 3 | 1 12\n",
    "15: 1 | 14\n",
    "17: 14 2 | 1 7\n",
    "23: 25 1 | 22 14\n",
    "28: 16 1\n",
    "4: 1 1\n",
    "20: 14 14 | 1 15\n",
    "3: 5 14 | 16 1\n",
    "27: 1 6 | 14 18\n",
    "14: \"b\"\n",
    "21: 14 1 | 1 14\n",
    "25: 1 1 | 1 14\n",
    "22: 14 14\n",
    "8: 42\n",
    "26: 14 22 | 1 20\n",
    "18: 15 15\n",
    "7: 14 5 | 1 21\n",
    "24: 14 1\n",
    "\n",
    "abbbbbabbbaaaababbaabbbbabababbbabbbbbbabaaaa\n",
    "bbabbbbaabaabba\n",
    "babbbbaabbbbbabbbbbbaabaaabaaa\n",
    "aaabbbbbbaaaabaababaabababbabaaabbababababaaa\n",
    "bbbbbbbaaaabbbbaaabbabaaa\n",
    "bbbababbbbaaaaaaaabbababaaababaabab\n",
    "ababaaaaaabaaab\n",
    "ababaaaaabbbaba\n",
    "baabbaaaabbaaaababbaababb\n",
    "abbbbabbbbaaaababbbbbbaaaababb\n",
    "aaaaabbaabaaaaababaa\n",
    "aaaabbaaaabbaaa\n",
    "aaaabbaabbaaaaaaabbbabbbaaabbaabaaa\n",
    "babaaabbbaaabaababbaabababaaab\n",
    "aabbbbbaabbbaaaaaabbbbbababaaaaabbaaabba\n",
    "```\n",
    "\n",
    "Without updating rules 8 and 11, these rules only match three messages: bbabbbbaabaabba, ababaaaaaabaaab, and ababaaaaabbbaba.\n",
    "\n",
    "However, after updating rules 8 and 11, a total of 12 messages match:\n",
    "\n",
    "```\n",
    "    bbabbbbaabaabba\n",
    "    babbbbaabbbbbabbbbbbaabaaabaaa\n",
    "    aaabbbbbbaaaabaababaabababbabaaabbababababaaa\n",
    "    bbbbbbbaaaabbbbaaabbabaaa\n",
    "    bbbababbbbaaaaaaaabbababaaababaabab\n",
    "    ababaaaaaabaaab\n",
    "    ababaaaaabbbaba\n",
    "    baabbaaaabbaaaababbaababb\n",
    "    abbbbabbbbaaaababbbbbbaaaababb\n",
    "    aaaaabbaabaaaaababaa\n",
    "    aaaabbaabbaaaaaaabbbabbbaaabbaabaaa\n",
    "    aabbbbbaabbbaaaaaabbbbbababaaaaabbaaabba\n",
    "```\n",
    "\n",
    "After updating rules 8 and 11, how many messages completely match rule 0?\n",
    ""
   ]
  },
  {
   "cell_type": "code",
   "execution_count": 1,
   "metadata": {},
   "source": [
    "#!fsharp\n",
    "let matchMessage (message:string) (rules: Map<int, Rule>) =\n",
    "    let rec inner ruleId prefix =\n",
    "        seq {\n",
    "            let rule = rules.[ruleId]\n",
    "            match rule with\n",
    "            | Simple ch -> \n",
    "                let res = prefix + ch.ToString();\n",
    "                if message.StartsWith( res ) then\n",
    "                    yield res\n",
    "            | Complex options ->\n",
    "                for option in options do\n",
    "                    yield! List.fold\n",
    "                        ( fun acc id ->\n",
    "                            acc\n",
    "                            |> List.map\n",
    "                                ( fun prefix ->\n",
    "                                    inner id prefix\n",
    "                                    |> List.ofSeq\n",
    "                                    |> List.filter message.StartsWith\n",
    "                                )\n",
    "                            |> List.concat\n",
    "                        )\n",
    "                        [prefix]\n",
    "                        option\n",
    "        }\n",
    "    \n",
    "    inner 0 \"\" \n",
    "    |> Seq.contains message\n",
    "\n",
    "matchMessage \"ababbb\" testTask.rules"
   ],
   "outputs": [
    {
     "output_type": "execute_result",
     "data": {
      "text/html": "<div class=\"dni-plaintext\">True</div>"
     },
     "execution_count": 1,
     "metadata": {}
    }
   ]
  },
  {
   "cell_type": "code",
   "execution_count": 1,
   "metadata": {},
   "source": [
    "#!fsharp\n",
    "let correctMessages2 (task:Task) =\n",
    "    task.messages\n",
    "    |> Seq.filter ( fun msg -> matchMessage msg task.rules )\n",
    "    |> Seq.length\n",
    "\n",
    "testInput |> parse |> correctMessages2"
   ],
   "outputs": [
    {
     "output_type": "execute_result",
     "data": {
      "text/html": "<div class=\"dni-plaintext\">2</div>"
     },
     "execution_count": 1,
     "metadata": {}
    }
   ]
  },
  {
   "cell_type": "code",
   "execution_count": 1,
   "metadata": {},
   "source": [
    "#!fsharp\n",
    "taskInput |> parse |> correctMessages2"
   ],
   "outputs": [
    {
     "output_type": "execute_result",
     "data": {
      "text/html": "<div class=\"dni-plaintext\">129</div>"
     },
     "execution_count": 1,
     "metadata": {}
    }
   ]
  },
  {
   "cell_type": "code",
   "execution_count": 1,
   "metadata": {},
   "source": [
    "#!fsharp\n",
    "let patchTask (task:Task) = \n",
    "    let newRules = \n",
    "        task.rules\n",
    "            .Add( 8, Complex([[42]; [42;8]]) )\n",
    "            .Add( 11, Complex([[42;31];[42;11;31]])) \n",
    "\n",
    "    { task with rules =  newRules}"
   ],
   "outputs": []
  },
  {
   "cell_type": "code",
   "execution_count": 1,
   "metadata": {},
   "source": [
    "#!fsharp\n",
    "taskInput |> parse |> patchTask |> correctMessages2"
   ],
   "outputs": [
    {
     "output_type": "execute_result",
     "data": {
      "text/html": "<div class=\"dni-plaintext\">243</div>"
     },
     "execution_count": 1,
     "metadata": {}
    }
   ]
  }
 ],
 "metadata": {
  "kernelspec": {
   "display_name": ".NET (C#)",
   "language": "C#",
   "name": ".net-csharp"
  },
  "language_info": {
   "file_extension": ".cs",
   "mimetype": "text/x-csharp",
   "name": "C#",
   "pygments_lexer": "csharp",
   "version": "8.0"
  }
 },
 "nbformat": 4,
 "nbformat_minor": 4
}