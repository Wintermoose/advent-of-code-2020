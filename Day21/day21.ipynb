{
 "cells": [
  {
   "cell_type": "markdown",
   "metadata": {},
   "source": [
    "--- Day 21: Allergen Assessment ---\n",
    "\n",
    "You reach the train's last stop and the closest you can get to your vacation island without getting wet. There aren't even any boats here, but nothing can stop you now: you build a raft. You just need a few days' worth of food for your journey.\n",
    "\n",
    "You don't speak the local language, so you can't read any ingredients lists. However, sometimes, allergens are listed in a language you do understand. You should be able to use this information to determine which ingredient contains which allergen and work out which foods are safe to take with you on your trip.\n",
    "\n",
    "You start by compiling a list of foods (your puzzle input), one food per line. Each line includes that food's ingredients list followed by some or all of the allergens the food contains.\n",
    "\n",
    "Each allergen is found in exactly one ingredient. Each ingredient contains zero or one allergen. Allergens aren't always marked; when they're listed (as in (contains nuts, shellfish) after an ingredients list), the ingredient that contains each listed allergen will be somewhere in the corresponding ingredients list. However, even if an allergen isn't listed, the ingredient that contains that allergen could still be present: maybe they forgot to label it, or maybe it was labeled in a language you don't know.\n",
    "\n",
    "For example, consider the following list of foods:\n",
    "\n",
    "```\n",
    "mxmxvkd kfcds sqjhc nhms (contains dairy, fish)\n",
    "trh fvjkl sbzzf mxmxvkd (contains dairy)\n",
    "sqjhc fvjkl (contains soy)\n",
    "sqjhc mxmxvkd sbzzf (contains fish)\n",
    "```\n",
    "\n",
    "The first food in the list has four ingredients (written in a language you don't understand): mxmxvkd, kfcds, sqjhc, and nhms. While the food might contain other allergens, a few allergens the food definitely contains are listed afterward: dairy and fish.\n",
    "\n",
    "The first step is to determine which ingredients can't possibly contain any of the allergens in any food in your list. In the above example, none of the ingredients kfcds, nhms, sbzzf, or trh can contain an allergen. Counting the number of times any of these ingredients appear in any ingredients list produces 5: they all appear once each except sbzzf, which appears twice.\n",
    "\n",
    "Determine which ingredients cannot possibly contain any of the allergens in your list. How many times do any of those ingredients appear?\n",
    ""
   ]
  },
  {
   "cell_type": "code",
   "execution_count": 1,
   "metadata": {},
   "source": [
    "#!fsharp\n",
    "let testInput = \"\"\"mxmxvkd kfcds sqjhc nhms (contains dairy, fish)\n",
    "trh fvjkl sbzzf mxmxvkd (contains dairy)\n",
    "sqjhc fvjkl (contains soy)\n",
    "sqjhc mxmxvkd sbzzf (contains fish)\"\"\"\n",
    "\n",
    "let taskInput = System.IO.File.ReadAllText(\"task.txt\")"
   ],
   "outputs": []
  },
  {
   "cell_type": "code",
   "execution_count": 1,
   "metadata": {},
   "source": [
    "#!fsharp\n",
    "type Food = (string array) * (string array)\n",
    "\n",
    "let parse (input:string) =\n",
    "    input.Replace(\"\\r\",\"\").Split(\"\\n\")\n",
    "    |> Seq.map\n",
    "        (fun row ->\n",
    "            let index = row.IndexOf \" (contains \"\n",
    "            let ingrediences = row.[..(index-1)].Split(\" \")\n",
    "            let alergens = row.[(index+11) .. ^1].Split(\", \")\n",
    "            (ingrediences, alergens)\n",
    "        )\n",
    "\n",
    "testInput |> parse"
   ],
   "outputs": [
    {
     "output_type": "execute_result",
     "data": {
      "text/html": "<table><thead><tr><th><i>index</i></th><th>Item1</th><th>Item2</th></tr></thead><tbody><tr><td>0</td><td><div class=\"dni-plaintext\">[ mxmxvkd, kfcds, sqjhc, nhms ]</div></td><td><div class=\"dni-plaintext\">[ dairy, fish ]</div></td></tr><tr><td>1</td><td><div class=\"dni-plaintext\">[ trh, fvjkl, sbzzf, mxmxvkd ]</div></td><td><div class=\"dni-plaintext\">[ dairy ]</div></td></tr><tr><td>2</td><td><div class=\"dni-plaintext\">[ sqjhc, fvjkl ]</div></td><td><div class=\"dni-plaintext\">[ soy ]</div></td></tr><tr><td>3</td><td><div class=\"dni-plaintext\">[ sqjhc, mxmxvkd, sbzzf ]</div></td><td><div class=\"dni-plaintext\">[ fish ]</div></td></tr></tbody></table>"
     },
     "execution_count": 1,
     "metadata": {}
    }
   ]
  },
  {
   "cell_type": "code",
   "execution_count": 1,
   "metadata": {},
   "source": [
    "#!fsharp\n",
    "let findPotentialIngrediences (foods: Food seq) =\n",
    "    let mutable result: Map<string, string Set> = Map.empty\n",
    "    foods\n",
    "    |> Seq.iter\n",
    "        ( fun (ingrediences, alergens) -> \n",
    "            alergens\n",
    "            |> Seq.iter\n",
    "                (fun alergen -> \n",
    "                    let possible = \n",
    "                        ingrediences\n",
    "                        |> Set.ofSeq\n",
    "                    if result.ContainsKey alergen then\n",
    "                        let newSet = Set.intersect result.[alergen] possible\n",
    "                        result <- result.Add( alergen, newSet)\n",
    "                    else\n",
    "                        result <- result.Add( alergen, possible)\n",
    "                )            \n",
    "        )\n",
    "    result\n",
    "\n",
    "testInput |> parse |> findPotentialIngrediences"
   ],
   "outputs": [
    {
     "output_type": "execute_result",
     "data": {
      "text/html": "<table><thead><tr><th><i>key</i></th><th>value</th></tr></thead><tbody><tr><td><div class=\"dni-plaintext\">dairy</div></td><td><div class=\"dni-plaintext\">[ mxmxvkd ]</div></td></tr><tr><td><div class=\"dni-plaintext\">fish</div></td><td><div class=\"dni-plaintext\">[ mxmxvkd, sqjhc ]</div></td></tr><tr><td><div class=\"dni-plaintext\">soy</div></td><td><div class=\"dni-plaintext\">[ fvjkl, sqjhc ]</div></td></tr></tbody></table>"
     },
     "execution_count": 1,
     "metadata": {}
    }
   ]
  },
  {
   "cell_type": "code",
   "execution_count": 1,
   "metadata": {},
   "source": [
    "#!fsharp\n",
    "taskInput |> parse |> findPotentialIngrediences"
   ],
   "outputs": [
    {
     "output_type": "execute_result",
     "data": {
      "text/html": "<table><thead><tr><th><i>key</i></th><th>value</th></tr></thead><tbody><tr><td><div class=\"dni-plaintext\">dairy</div></td><td><div class=\"dni-plaintext\">[ dpkvsdk, drbq, rkcpxs, xmmpt ]</div></td></tr><tr><td><div class=\"dni-plaintext\">eggs</div></td><td><div class=\"dni-plaintext\">[ rkcpxs, xmmpt ]</div></td></tr><tr><td><div class=\"dni-plaintext\">fish</div></td><td><div class=\"dni-plaintext\">[ cxjqxbt, drbq, rkcpxs, xmmpt ]</div></td></tr><tr><td><div class=\"dni-plaintext\">nuts</div></td><td><div class=\"dni-plaintext\">[ drbq, xmmpt ]</div></td></tr><tr><td><div class=\"dni-plaintext\">peanuts</div></td><td><div class=\"dni-plaintext\">[ zmzq ]</div></td></tr><tr><td><div class=\"dni-plaintext\">sesame</div></td><td><div class=\"dni-plaintext\">[ dpkvsdk, drbq, mnrjrf ]</div></td></tr><tr><td><div class=\"dni-plaintext\">shellfish</div></td><td><div class=\"dni-plaintext\">[ kjgl, mnrjrf, zmzq ]</div></td></tr><tr><td><div class=\"dni-plaintext\">wheat</div></td><td><div class=\"dni-plaintext\">[ rkcpxs, zmzq ]</div></td></tr></tbody></table>"
     },
     "execution_count": 1,
     "metadata": {}
    }
   ]
  },
  {
   "cell_type": "code",
   "execution_count": 1,
   "metadata": {},
   "source": [
    "#!fsharp\n",
    "let convertToPotentialAlergens (map: Map<string, string Set>) =\n",
    "    let mutable result: Map<string, string Set> = Map.empty\n",
    "    map\n",
    "    |> Map.iter (\n",
    "        fun key set ->\n",
    "            set\n",
    "            |> Set.iter\n",
    "                ( fun ingredience ->\n",
    "                    if result.ContainsKey ingredience then\n",
    "                        let newSet = result.[ingredience].Add(key)\n",
    "                        result <- result.Add( ingredience, newSet )\n",
    "                    else\n",
    "                        result <- result.Add( ingredience, (Set.ofList [key]) )\n",
    "                )        \n",
    "    )\n",
    "    result\n",
    "\n",
    "testInput |> parse |> findPotentialIngrediences |> convertToPotentialAlergens"
   ],
   "outputs": [
    {
     "output_type": "execute_result",
     "data": {
      "text/html": "<table><thead><tr><th><i>key</i></th><th>value</th></tr></thead><tbody><tr><td><div class=\"dni-plaintext\">fvjkl</div></td><td><div class=\"dni-plaintext\">[ soy ]</div></td></tr><tr><td><div class=\"dni-plaintext\">mxmxvkd</div></td><td><div class=\"dni-plaintext\">[ dairy, fish ]</div></td></tr><tr><td><div class=\"dni-plaintext\">sqjhc</div></td><td><div class=\"dni-plaintext\">[ fish, soy ]</div></td></tr></tbody></table>"
     },
     "execution_count": 1,
     "metadata": {}
    }
   ]
  },
  {
   "cell_type": "code",
   "execution_count": 1,
   "metadata": {},
   "source": [
    "#!fsharp\n",
    "let findSafeFoodCount (food: Food seq) =\n",
    "    let alergenMap =\n",
    "        food\n",
    "        |> findPotentialIngrediences\n",
    "        |> convertToPotentialAlergens\n",
    "    \n",
    "    food\n",
    "    |> Seq.sumBy \n",
    "        (fun (ingrediences, alergens) ->\n",
    "            ingrediences\n",
    "            |> Seq.filter (fun ingredience -> not (alergenMap.ContainsKey ingredience))\n",
    "            |> Seq.length\n",
    "        )\n",
    "\n",
    "testInput |> parse |> findSafeFoodCount"
   ],
   "outputs": [
    {
     "output_type": "execute_result",
     "data": {
      "text/html": "<div class=\"dni-plaintext\">5</div>"
     },
     "execution_count": 1,
     "metadata": {}
    }
   ]
  },
  {
   "cell_type": "code",
   "execution_count": 1,
   "metadata": {},
   "source": [
    "#!fsharp\n",
    "taskInput |> parse |> findSafeFoodCount"
   ],
   "outputs": [
    {
     "output_type": "execute_result",
     "data": {
      "text/html": "<div class=\"dni-plaintext\">1977</div>"
     },
     "execution_count": 1,
     "metadata": {}
    }
   ]
  },
  {
   "cell_type": "markdown",
   "metadata": {},
   "source": [
    "--- Part Two ---\n",
    "\n",
    "Now that you've isolated the inert ingredients, you should have enough information to figure out which ingredient contains which allergen.\n",
    "\n",
    "In the above example:\n",
    "\n",
    "*    mxmxvkd contains dairy.\n",
    "*    sqjhc contains fish.\n",
    "*    fvjkl contains soy.\n",
    "\n",
    "Arrange the ingredients alphabetically by their allergen and separate them by commas to produce your canonical dangerous ingredient list. (There should not be any spaces in your canonical dangerous ingredient list.) In the above example, this would be mxmxvkd,sqjhc,fvjkl.\n",
    "\n",
    "Time to stock your raft with supplies. What is your canonical dangerous ingredient list?\n",
    ""
   ]
  },
  {
   "cell_type": "code",
   "execution_count": 1,
   "metadata": {},
   "source": [
    "#!fsharp\n",
    "let finalizeAlergens (map: Map<string, string Set>) =\n",
    "    let mutable remaining = Map.toList map\n",
    "    let mutable result: Map<string, string> = Map.empty\n",
    "    while not (remaining.IsEmpty) do\n",
    "        let resolved = \n",
    "            remaining\n",
    "            |> List.filter\n",
    "                (fun (alergen, ingrediences) ->\n",
    "                    ingrediences.Count = 1\n",
    "                )\n",
    "        \n",
    "        remaining <- remaining\n",
    "        |> List.map \n",
    "            (fun (alergen, ingrediences) ->\n",
    "                let mutable newIngrediences = ingrediences\n",
    "\n",
    "                resolved \n",
    "                |> List.iter\n",
    "                    (fun (_, ing) ->\n",
    "                        newIngrediences <- newIngrediences.Remove (ing.MinimumElement)\n",
    "                    )\n",
    "\n",
    "                (alergen, newIngrediences)\n",
    "            )\n",
    "        |> List.filter\n",
    "            (fun (alergen, ingrediences) -> not ingrediences.IsEmpty)\n",
    "\n",
    "        resolved\n",
    "        |> List.iter \n",
    "            ( fun (alergen,ingrediences) ->\n",
    "                result <- result.Add( ingrediences.MinimumElement, alergen)\n",
    "            )\n",
    "\n",
    "    result\n",
    "\n",
    "testInput |> parse |> findPotentialIngrediences |> finalizeAlergens"
   ],
   "outputs": [
    {
     "output_type": "execute_result",
     "data": {
      "text/html": "<table><thead><tr><th><i>key</i></th><th>value</th></tr></thead><tbody><tr><td><div class=\"dni-plaintext\">fvjkl</div></td><td><div class=\"dni-plaintext\">soy</div></td></tr><tr><td><div class=\"dni-plaintext\">mxmxvkd</div></td><td><div class=\"dni-plaintext\">dairy</div></td></tr><tr><td><div class=\"dni-plaintext\">sqjhc</div></td><td><div class=\"dni-plaintext\">fish</div></td></tr></tbody></table>"
     },
     "execution_count": 1,
     "metadata": {}
    }
   ]
  },
  {
   "cell_type": "code",
   "execution_count": 1,
   "metadata": {},
   "source": [
    "#!fsharp\n",
    "taskInput |> parse |> findPotentialIngrediences |> finalizeAlergens"
   ],
   "outputs": [
    {
     "output_type": "execute_result",
     "data": {
      "text/html": "<table><thead><tr><th><i>key</i></th><th>value</th></tr></thead><tbody><tr><td><div class=\"dni-plaintext\">cxjqxbt</div></td><td><div class=\"dni-plaintext\">fish</div></td></tr><tr><td><div class=\"dni-plaintext\">dpkvsdk</div></td><td><div class=\"dni-plaintext\">dairy</div></td></tr><tr><td><div class=\"dni-plaintext\">drbq</div></td><td><div class=\"dni-plaintext\">nuts</div></td></tr><tr><td><div class=\"dni-plaintext\">kjgl</div></td><td><div class=\"dni-plaintext\">shellfish</div></td></tr><tr><td><div class=\"dni-plaintext\">mnrjrf</div></td><td><div class=\"dni-plaintext\">sesame</div></td></tr><tr><td><div class=\"dni-plaintext\">rkcpxs</div></td><td><div class=\"dni-plaintext\">wheat</div></td></tr><tr><td><div class=\"dni-plaintext\">xmmpt</div></td><td><div class=\"dni-plaintext\">eggs</div></td></tr><tr><td><div class=\"dni-plaintext\">zmzq</div></td><td><div class=\"dni-plaintext\">peanuts</div></td></tr></tbody></table>"
     },
     "execution_count": 1,
     "metadata": {}
    }
   ]
  },
  {
   "cell_type": "code",
   "execution_count": 1,
   "metadata": {},
   "source": [
    "#!fsharp\n",
    "let getDangerousList (alergens: Map<string,string>) =\n",
    "    alergens\n",
    "    |> Map.toList\n",
    "    |> List.sortBy snd\n",
    "    |> List.map fst\n",
    "    |> String.concat \",\"\n",
    "\n",
    "testInput |> parse |> findPotentialIngrediences |> finalizeAlergens |> getDangerousList"
   ],
   "outputs": [
    {
     "output_type": "execute_result",
     "data": {
      "text/plain": "mxmxvkd,sqjhc,fvjkl"
     },
     "execution_count": 1,
     "metadata": {}
    }
   ]
  },
  {
   "cell_type": "code",
   "execution_count": 1,
   "metadata": {},
   "source": [
    "#!fsharp\n",
    "taskInput |> parse |> findPotentialIngrediences |> finalizeAlergens |> getDangerousList"
   ],
   "outputs": [
    {
     "output_type": "execute_result",
     "data": {
      "text/plain": "dpkvsdk,xmmpt,cxjqxbt,drbq,zmzq,mnrjrf,kjgl,rkcpxs"
     },
     "execution_count": 1,
     "metadata": {}
    }
   ]
  }
 ],
 "metadata": {
  "kernelspec": {
   "display_name": ".NET (C#)",
   "language": "C#",
   "name": ".net-csharp"
  },
  "language_info": {
   "file_extension": ".cs",
   "mimetype": "text/x-csharp",
   "name": "C#",
   "pygments_lexer": "csharp",
   "version": "8.0"
  }
 },
 "nbformat": 4,
 "nbformat_minor": 4
}