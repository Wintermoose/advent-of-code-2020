{
 "cells": [
  {
   "cell_type": "markdown",
   "metadata": {},
   "source": [
    "--- Day 16: Ticket Translation ---\n",
    "\n",
    "As you're walking to yet another connecting flight, you realize that one of the legs of your re-routed trip coming up is on a high-speed train. However, the train ticket you were given is in a language you don't understand. You should probably figure out what it says before you get to the train station after the next flight.\n",
    "\n",
    "Unfortunately, you can't actually read the words on the ticket. You can, however, read the numbers, and so you figure out the fields these tickets must have and the valid ranges for values in those fields.\n",
    "\n",
    "You collect the rules for ticket fields, the numbers on your ticket, and the numbers on other nearby tickets for the same train service (via the airport security cameras) together into a single document you can reference (your puzzle input).\n",
    "\n",
    "The rules for ticket fields specify a list of fields that exist somewhere on the ticket and the valid ranges of values for each field. For example, a rule like class: 1-3 or 5-7 means that one of the fields in every ticket is named class and can be any value in the ranges 1-3 or 5-7 (inclusive, such that 3 and 5 are both valid in this field, but 4 is not).\n",
    "\n",
    "Each ticket is represented by a single line of comma-separated values. The values are the numbers on the ticket in the order they appear; every ticket has the same format. For example, consider this ticket:\n",
    "\n",
    "```\n",
    ".--------------------------------------------------------.\n",
    "| ????: 101    ?????: 102   ??????????: 103     ???: 104 |\n",
    "|                                                        |\n",
    "| ??: 301  ??: 302             ???????: 303      ??????? |\n",
    "| ??: 401  ??: 402           ???? ????: 403    ????????? |\n",
    "'--------------------------------------------------------'\n",
    "```\n",
    "\n",
    "Here, ? represents text in a language you don't understand. This ticket might be represented as 101,102,103,104,301,302,303,401,402,403; of course, the actual train tickets you're looking at are much more complicated. In any case, you've extracted just the numbers in such a way that the first number is always the same specific field, the second number is always a different specific field, and so on - you just don't know what each position actually means!\n",
    "\n",
    "Start by determining which tickets are completely invalid; these are tickets that contain values which aren't valid for any field. Ignore your ticket for now.\n",
    "\n",
    "For example, suppose you have the following notes:\n",
    "\n",
    "```\n",
    "class: 1-3 or 5-7\n",
    "row: 6-11 or 33-44\n",
    "seat: 13-40 or 45-50\n",
    "\n",
    "your ticket:\n",
    "7,1,14\n",
    "\n",
    "nearby tickets:\n",
    "7,3,47\n",
    "40,4,50\n",
    "55,2,20\n",
    "38,6,12\n",
    "```\n",
    "\n",
    "It doesn't matter which position corresponds to which field; you can identify invalid nearby tickets by considering only whether tickets contain values that are not valid for any field. In this example, the values on the first nearby ticket are all valid for at least one field. This is not true of the other three nearby tickets: the values 4, 55, and 12 are are not valid for any field. Adding together all of the invalid values produces your ticket scanning error rate: 4 + 55 + 12 = 71.\n",
    "\n",
    "Consider the validity of the nearby tickets you scanned. What is your ticket scanning error rate?\n",
    ""
   ]
  },
  {
   "cell_type": "code",
   "execution_count": 1,
   "metadata": {},
   "source": [
    "#!fsharp\n",
    "let testInput=\"\"\"class: 1-3 or 5-7\n",
    "row: 6-11 or 33-44\n",
    "seat: 13-40 or 45-50\n",
    "\n",
    "your ticket:\n",
    "7,1,14\n",
    "\n",
    "nearby tickets:\n",
    "7,3,47\n",
    "40,4,50\n",
    "55,2,20\n",
    "38,6,12\"\"\"\n",
    "\n",
    "let taskInput = System.IO.File.ReadAllText \"task.txt\""
   ],
   "outputs": []
  },
  {
   "cell_type": "code",
   "execution_count": 1,
   "metadata": {},
   "source": [
    "#!fsharp\n",
    "type Rule = seq<int*int>\n",
    "type Rules = Map<string, Rule>\n",
    "type Ticket = int array\n",
    "type Task = { rules: Rules; ticket: Ticket; nearbyTickets: Ticket seq }"
   ],
   "outputs": []
  },
  {
   "cell_type": "code",
   "execution_count": 1,
   "metadata": {},
   "source": [
    "#!fsharp\n",
    "let parseRules (input:string) =\n",
    "    input.Split(\"\\n\")\n",
    "    |> Seq.map\n",
    "        (fun row ->\n",
    "            let parts0 = row.Split(\": \");\n",
    "            let parts1 = parts0.[1].Split(\" or \");\n",
    "            (\n",
    "                parts0.[0],\n",
    "                parts1 \n",
    "                |> Seq.map(\n",
    "                    fun range ->\n",
    "                        let parts2 = range.Split(\"-\")\n",
    "                        (int parts2.[0], int parts2.[1])\n",
    "                )\n",
    "            )\n",
    "        ) \n",
    "    |> Map.ofSeq\n",
    "\n",
    "let parseTickets heading (input:string) =\n",
    "    input.Split(\"\\n\")\n",
    "    |> \n",
    "    (fun rows -> \n",
    "        if rows.[0] <> heading then\n",
    "            failwith (\"Unexpected  heading \" + rows.[0])\n",
    "        else\n",
    "            rows.[1..]\n",
    "            |> Seq.map\n",
    "                (fun ticket ->\n",
    "                    ticket.Split(\",\")\n",
    "                    |> Array.map int\n",
    "                )\n",
    "    )\n",
    "\n",
    "let parse (input: string) = \n",
    "    input.Replace(\"\\r\",\"\").Split(\"\\n\\n\")\n",
    "    |> \n",
    "    (fun blocks ->\n",
    "        {\n",
    "            rules = parseRules blocks.[0];\n",
    "            ticket = parseTickets \"your ticket:\" blocks.[1] |> Seq.head;\n",
    "            nearbyTickets = parseTickets \"nearby tickets:\" blocks.[2]\n",
    "        }\n",
    "    )\n",
    "\n",
    "testInput |> parse"
   ],
   "outputs": [
    {
     "output_type": "execute_result",
     "data": {
      "text/html": "<table><thead><tr><th>rules</th><th>ticket</th><th>nearbyTickets</th></tr></thead><tbody><tr><td><div class=\"dni-plaintext\">[ [class, Microsoft.FSharp.Collections.IEnumerator+mkSeq@132[System.Tuple`2[System.Int32,System.Int32]]], [row, Microsoft.FSharp.Collections.IEnumerator+mkSeq@132[System.Tuple`2[System.Int32,System.Int32]]], [seat, Microsoft.FSharp.Collections.IEnumerator+mkSeq@132[System.Tuple`2[System.Int32,System.Int32]]] ]</div></td><td><div class=\"dni-plaintext\">[ 7, 1, 14 ]</div></td><td><div class=\"dni-plaintext\">[ [ 7, 3, 47 ], [ 40, 4, 50 ], [ 55, 2, 20 ], [ 38, 6, 12 ] ]</div></td></tr></tbody></table>"
     },
     "execution_count": 1,
     "metadata": {}
    }
   ]
  },
  {
   "cell_type": "code",
   "execution_count": 1,
   "metadata": {},
   "source": [
    "#!fsharp\n",
    "let matchTicket (rules: Rules) (ticket: Ticket) =\n",
    "    let matchEntry (entry:int) = \n",
    "        rules\n",
    "        |> Map.toSeq\n",
    "        |> Seq.map\n",
    "            (fun (key, ranges) -> \n",
    "                Seq.tryFind (fun (rangeFrom, rangeTo) -> rangeFrom <= entry && entry <= rangeTo ) ranges\n",
    "                |> Option.map (fun _ -> key)\n",
    "            )\n",
    "        |> Seq.choose id\n",
    "        |> Set.ofSeq\n",
    "\n",
    "    ticket\n",
    "    |> Seq.map ( fun entry -> (entry, matchEntry entry) )\n",
    "\n",
    "let testTask = testInput |> parse\n",
    "matchTicket testTask.rules testTask.ticket"
   ],
   "outputs": [
    {
     "output_type": "execute_result",
     "data": {
      "text/html": "<table><thead><tr><th><i>index</i></th><th>Item1</th><th>Item2</th></tr></thead><tbody><tr><td>0</td><td><div class=\"dni-plaintext\">7</div></td><td><div class=\"dni-plaintext\">[ class, row ]</div></td></tr><tr><td>1</td><td><div class=\"dni-plaintext\">1</div></td><td><div class=\"dni-plaintext\">[ class ]</div></td></tr><tr><td>2</td><td><div class=\"dni-plaintext\">14</div></td><td><div class=\"dni-plaintext\">[ seat ]</div></td></tr></tbody></table>"
     },
     "execution_count": 1,
     "metadata": {}
    }
   ]
  },
  {
   "cell_type": "code",
   "execution_count": 1,
   "metadata": {},
   "source": [
    "#!fsharp\n",
    "let errorRate (task: Task) =\n",
    "    task.nearbyTickets\n",
    "    |> Seq.map \n",
    "        ( fun ticket ->\n",
    "            matchTicket task.rules ticket\n",
    "            |> Seq.filter (fun (entry, rulenames) -> Set.isEmpty rulenames)\n",
    "            |> Seq.map fst\n",
    "        )\n",
    "    |> Seq.concat\n",
    "    |> Seq.sum\n",
    "\n",
    "testInput |> parse |> errorRate"
   ],
   "outputs": [
    {
     "output_type": "execute_result",
     "data": {
      "text/html": "<div class=\"dni-plaintext\">71</div>"
     },
     "execution_count": 1,
     "metadata": {}
    }
   ]
  },
  {
   "cell_type": "code",
   "execution_count": 1,
   "metadata": {},
   "source": [
    "#!fsharp\n",
    "taskInput |> parse |> errorRate"
   ],
   "outputs": [
    {
     "output_type": "execute_result",
     "data": {
      "text/html": "<div class=\"dni-plaintext\">19087</div>"
     },
     "execution_count": 1,
     "metadata": {}
    }
   ]
  },
  {
   "cell_type": "markdown",
   "metadata": {},
   "source": [
    "--- Part Two ---\n",
    "\n",
    "Now that you've identified which tickets contain invalid values, discard those tickets entirely. Use the remaining valid tickets to determine which field is which.\n",
    "\n",
    "Using the valid ranges for each field, determine what order the fields appear on the tickets. The order is consistent between all tickets: if seat is the third field, it is the third field on every ticket, including your ticket.\n",
    "\n",
    "For example, suppose you have the following notes:\n",
    "\n",
    "```\n",
    "class: 0-1 or 4-19\n",
    "row: 0-5 or 8-19\n",
    "seat: 0-13 or 16-19\n",
    "\n",
    "your ticket:\n",
    "11,12,13\n",
    "\n",
    "nearby tickets:\n",
    "3,9,18\n",
    "15,1,5\n",
    "5,14,9\n",
    "```\n",
    "\n",
    "Based on the nearby tickets in the above example, the first position must be row, the second position must be class, and the third position must be seat; you can conclude that in your ticket, class is 12, row is 11, and seat is 13.\n",
    "\n",
    "Once you work out which field is which, look for the six fields on your ticket that start with the word departure. What do you get if you multiply those six values together?\n",
    ""
   ]
  },
  {
   "cell_type": "code",
   "execution_count": 1,
   "metadata": {},
   "source": [
    "#!fsharp\n",
    "let testInput2 = \"\"\"class: 0-1 or 4-19\n",
    "row: 0-5 or 8-19\n",
    "seat: 0-13 or 16-19\n",
    "\n",
    "your ticket:\n",
    "11,12,13\n",
    "\n",
    "nearby tickets:\n",
    "3,9,18\n",
    "15,1,5\n",
    "5,14,9\"\"\""
   ],
   "outputs": []
  },
  {
   "cell_type": "code",
   "execution_count": 1,
   "metadata": {},
   "source": [
    "#!fsharp\n",
    "let findMapping (task: Task) =\n",
    "    let rec trimOptions (final: Map<string,int>) mapping =    \n",
    "        let newExclusive = Seq.tryFind( fun (index,set) -> Set.count set = 1 ) mapping\n",
    "        if newExclusive.IsSome then\n",
    "            let value = fst newExclusive.Value\n",
    "            let key = snd newExclusive.Value |> Set.toSeq |> Seq.head\n",
    "            trimOptions \n",
    "                (final.Add( key, value) ) \n",
    "                (   mapping\n",
    "                    |> Seq.map (\n",
    "                         fun (index,set) ->\n",
    "                            (index, set.Remove key)\n",
    "                       )\n",
    "                    |> Seq.filter ( \n",
    "                        fun (index, set) -> \n",
    "                            not (Set.isEmpty set) )\n",
    "                )\n",
    "        else\n",
    "            final\n",
    "\n",
    "    task.nearbyTickets\n",
    "    |> Seq.map (matchTicket task.rules)\n",
    "    |> Seq.map ( Seq.map snd )\n",
    "    |> Seq.filter ((Seq.exists Set.isEmpty) >> (not))\n",
    "    |> Seq.reduce \n",
    "        (fun acc ticket -> \n",
    "            acc \n",
    "            |> Seq.zip ticket\n",
    "            |> Seq.map (fun (s1, s2) -> Set.intersect s1 s2)\n",
    "        )\n",
    "    |> Seq.toArray\n",
    "    |> Array.mapi (fun index set -> (index,set) )\n",
    "    |> trimOptions Map.empty\n",
    "\n",
    "testInput2 |> parse |> findMapping"
   ],
   "outputs": [
    {
     "output_type": "execute_result",
     "data": {
      "text/html": "<table><thead><tr><th><i>key</i></th><th>value</th></tr></thead><tbody><tr><td><div class=\"dni-plaintext\">class</div></td><td><div class=\"dni-plaintext\">1</div></td></tr><tr><td><div class=\"dni-plaintext\">row</div></td><td><div class=\"dni-plaintext\">0</div></td></tr><tr><td><div class=\"dni-plaintext\">seat</div></td><td><div class=\"dni-plaintext\">2</div></td></tr></tbody></table>"
     },
     "execution_count": 1,
     "metadata": {}
    }
   ]
  },
  {
   "cell_type": "code",
   "execution_count": 1,
   "metadata": {},
   "source": [
    "#!fsharp\n",
    "let findDepartures (task: Task) =\n",
    "    findMapping task\n",
    "    |> Map.toSeq\n",
    "    |> Seq.fold (\n",
    "        fun acc (key, index) ->\n",
    "            if key.StartsWith(\"departure\") then\n",
    "                acc * int64(task.ticket.[index])\n",
    "            else\n",
    "                acc                \n",
    "        )\n",
    "        1L\n",
    "\n",
    "taskInput |> parse |> findDepartures"
   ],
   "outputs": [
    {
     "output_type": "execute_result",
     "data": {
      "text/html": "<div class=\"dni-plaintext\">1382443095281</div>"
     },
     "execution_count": 1,
     "metadata": {}
    }
   ]
  }
 ],
 "metadata": {
  "kernelspec": {
   "display_name": ".NET (C#)",
   "language": "C#",
   "name": ".net-csharp"
  },
  "language_info": {
   "file_extension": ".cs",
   "mimetype": "text/x-csharp",
   "name": "C#",
   "pygments_lexer": "csharp",
   "version": "8.0"
  }
 },
 "nbformat": 4,
 "nbformat_minor": 4
}