{
 "cells": [
  {
   "cell_type": "markdown",
   "metadata": {},
   "source": [
    "--- Day 14: Docking Data ---\n",
    "\n",
    "As your ferry approaches the sea port, the captain asks for your help again. The computer system that runs this port isn't compatible with the docking program on the ferry, so the docking parameters aren't being correctly initialized in the docking program's memory.\n",
    "\n",
    "After a brief inspection, you discover that the sea port's computer system uses a strange bitmask system in its initialization program. Although you don't have the correct decoder chip handy, you can emulate it in software!\n",
    "\n",
    "The initialization program (your puzzle input) can either update the bitmask or write a value to memory. Values and memory addresses are both 36-bit unsigned integers. For example, ignoring bitmasks for a moment, a line like mem[8] = 11 would write the value 11 to memory address 8.\n",
    "\n",
    "The bitmask is always given as a string of 36 bits, written with the most significant bit (representing 2^35) on the left and the least significant bit (2^0, that is, the 1s bit) on the right. The current bitmask is applied to values immediately before they are written to memory: a 0 or 1 overwrites the corresponding bit in the value, while an X leaves the bit in the value unchanged.\n",
    "\n",
    "For example, consider the following program:\n",
    "\n",
    "```\n",
    "mask = XXXXXXXXXXXXXXXXXXXXXXXXXXXXX1XXXX0X\n",
    "mem[8] = 11\n",
    "mem[7] = 101\n",
    "mem[8] = 0\n",
    "```\n",
    "\n",
    "This program starts by specifying a bitmask (mask = ....). The mask it specifies will overwrite two bits in every written value: the 2s bit is overwritten with 0, and the 64s bit is overwritten with 1.\n",
    "\n",
    "The program then attempts to write the value 11 to memory address 8. By expanding everything out to individual bits, the mask is applied as follows:\n",
    "\n",
    "```\n",
    "value:  000000000000000000000000000000001011  (decimal 11)\n",
    "mask:   XXXXXXXXXXXXXXXXXXXXXXXXXXXXX1XXXX0X\n",
    "result: 000000000000000000000000000001001001  (decimal 73)\n",
    "```\n",
    "\n",
    "So, because of the mask, the value 73 is written to memory address 8 instead. Then, the program tries to write 101 to address 7:\n",
    "\n",
    "```\n",
    "value:  000000000000000000000000000001100101  (decimal 101)\n",
    "mask:   XXXXXXXXXXXXXXXXXXXXXXXXXXXXX1XXXX0X\n",
    "result: 000000000000000000000000000001100101  (decimal 101)\n",
    "```\n",
    "\n",
    "This time, the mask has no effect, as the bits it overwrote were already the values the mask tried to set. Finally, the program tries to write 0 to address 8:\n",
    "\n",
    "```\n",
    "value:  000000000000000000000000000000000000  (decimal 0)\n",
    "mask:   XXXXXXXXXXXXXXXXXXXXXXXXXXXXX1XXXX0X\n",
    "result: 000000000000000000000000000001000000  (decimal 64)\n",
    "```\n",
    "\n",
    "64 is written to address 8 instead, overwriting the value that was there previously.\n",
    "\n",
    "To initialize your ferry's docking program, you need the sum of all values left in memory after the initialization program completes. (The entire 36-bit address space begins initialized to the value 0 at every address.) In the above example, only two values in memory are not zero - 101 (at address 7) and 64 (at address 8) - producing a sum of 165.\n",
    "\n",
    "Execute the initialization program. What is the sum of all values left in memory after it completes?\n",
    ""
   ]
  },
  {
   "cell_type": "code",
   "execution_count": 1,
   "metadata": {},
   "source": [
    "#!fsharp\n",
    "let testInput = \"\"\"mask = XXXXXXXXXXXXXXXXXXXXXXXXXXXXX1XXXX0X\n",
    "mem[8] = 11\n",
    "mem[7] = 101\n",
    "mem[8] = 0\"\"\"\n",
    "\n",
    "let taskInput = System.IO.File.ReadAllText \"task.txt\""
   ],
   "outputs": []
  },
  {
   "cell_type": "code",
   "execution_count": 1,
   "metadata": {},
   "source": [
    "#!fsharp\n",
    "type Instruction = Mask of uint64 * uint64\n",
    "                  | Write of uint64 * uint64\n",
    "\n",
    "open System.Text.RegularExpressions\n",
    "\n",
    "let (|Regex|_|) (p:string) (s:string)  =\n",
    "    let m = Regex.Match(s, p)\n",
    "    if m.Success then Some(List.tail [ for g in m.Groups -> g.Value ])\n",
    "    else None\n",
    "\n",
    "let parse (input: string) : seq<Instruction> =\n",
    "    input.Replace(\"\\r\", \"\").Split(\"\\n\")\n",
    "    |> Seq.map (\n",
    "            function\n",
    "            | Regex @\"mask\\s*=\\s*([01X]+)\" [mask] -> \n",
    "                let mutable andMask = 0UL\n",
    "                let mutable orMask = 0UL\n",
    "                Seq.iter (\n",
    "                    fun bit ->\n",
    "                        andMask <- andMask <<< 1\n",
    "                        orMask <- orMask <<< 1\n",
    "                        if bit = '1' then\n",
    "                            orMask <- orMask ||| 1UL\n",
    "                        elif bit = 'X' then\n",
    "                            andMask <- andMask ||| 1UL\n",
    "                ) mask\n",
    "                Mask(andMask, orMask)\n",
    "            | Regex @\"mem\\[(\\d+)\\]\\s+=\\s+(\\d+)\" [address; value] ->\n",
    "                Write(uint64 address, uint64 value)\n",
    "            | unknown -> \n",
    "                failwith (\"Unknown instruction \" + unknown)\n",
    "        )\n",
    "\n",
    "testInput |> parse"
   ],
   "outputs": [
    {
     "output_type": "execute_result",
     "data": {
      "text/html": "<table><thead><tr><th><i>index</i></th><th><i>type</i></th><th>Item1</th><th>Item2</th></tr></thead><tbody><tr><td>0</td><td>FSI_0090+Instruction+Mask</td><td><div class=\"dni-plaintext\">68719476669</div></td><td><div class=\"dni-plaintext\">64</div></td></tr><tr><td>1</td><td>FSI_0090+Instruction+Write</td><td><div class=\"dni-plaintext\">8</div></td><td><div class=\"dni-plaintext\">11</div></td></tr><tr><td>2</td><td>FSI_0090+Instruction+Write</td><td><div class=\"dni-plaintext\">7</div></td><td><div class=\"dni-plaintext\">101</div></td></tr><tr><td>3</td><td>FSI_0090+Instruction+Write</td><td><div class=\"dni-plaintext\">8</div></td><td><div class=\"dni-plaintext\">0</div></td></tr></tbody></table>"
     },
     "execution_count": 1,
     "metadata": {}
    }
   ]
  },
  {
   "cell_type": "code",
   "execution_count": 1,
   "metadata": {},
   "source": [
    "#!fsharp\n",
    "let execute (program: seq<Instruction>) =\n",
    "    let mutable andMask = 0UL\n",
    "    let mutable orMask = 0UL\n",
    "    let mutable memory: Map<uint64, uint64> = Map.empty\n",
    "    program\n",
    "    |> Seq.iter (\n",
    "        function \n",
    "        | Mask (newAndMask, newOrMask) ->\n",
    "            andMask <- newAndMask\n",
    "            orMask <- newOrMask\n",
    "        | Write (target, value) ->\n",
    "            let newValue = (value &&& andMask) ||| orMask\n",
    "            memory <- memory.Add(target, newValue)\n",
    "    )\n",
    "    memory\n",
    "\n",
    "testInput |> parse |> execute"
   ],
   "outputs": [
    {
     "output_type": "execute_result",
     "data": {
      "text/html": "<table><thead><tr><th><i>key</i></th><th>value</th></tr></thead><tbody><tr><td><div class=\"dni-plaintext\">7</div></td><td><div class=\"dni-plaintext\">101</div></td></tr><tr><td><div class=\"dni-plaintext\">8</div></td><td><div class=\"dni-plaintext\">64</div></td></tr></tbody></table>"
     },
     "execution_count": 1,
     "metadata": {}
    }
   ]
  },
  {
   "cell_type": "code",
   "execution_count": 1,
   "metadata": {},
   "source": [
    "#!fsharp\n",
    "let toResult (memory: Map<uint64,uint64>) =\n",
    "    Map.fold (\n",
    "        fun acc key value ->\n",
    "            acc + value\n",
    "    ) 0UL memory\n",
    "\n",
    "testInput |> parse |> execute |> toResult"
   ],
   "outputs": [
    {
     "output_type": "execute_result",
     "data": {
      "text/html": "<div class=\"dni-plaintext\">165</div>"
     },
     "execution_count": 1,
     "metadata": {}
    }
   ]
  },
  {
   "cell_type": "code",
   "execution_count": 1,
   "metadata": {},
   "source": [
    "#!fsharp\n",
    "taskInput |> parse |> execute |> toResult"
   ],
   "outputs": [
    {
     "output_type": "execute_result",
     "data": {
      "text/html": "<div class=\"dni-plaintext\">14954914379452</div>"
     },
     "execution_count": 1,
     "metadata": {}
    }
   ]
  },
  {
   "cell_type": "markdown",
   "metadata": {},
   "source": [
    "--- Part Two ---\n",
    "\n",
    "For some reason, the sea port's computer system still can't communicate with your ferry's docking program. It must be using version 2 of the decoder chip!\n",
    "\n",
    "A version 2 decoder chip doesn't modify the values being written at all. Instead, it acts as a memory address decoder. Immediately before a value is written to memory, each bit in the bitmask modifies the corresponding bit of the destination memory address in the following way:\n",
    "\n",
    "*    If the bitmask bit is 0, the corresponding memory address bit is unchanged.\n",
    "*    If the bitmask bit is 1, the corresponding memory address bit is overwritten with 1.\n",
    "*    If the bitmask bit is X, the corresponding memory address bit is floating.\n",
    "\n",
    "A floating bit is not connected to anything and instead fluctuates unpredictably. In practice, this means the floating bits will take on all possible values, potentially causing many memory addresses to be written all at once!\n",
    "\n",
    "For example, consider the following program:\n",
    "\n",
    "```\n",
    "mask = 000000000000000000000000000000X1001X\n",
    "mem[42] = 100\n",
    "mask = 00000000000000000000000000000000X0XX\n",
    "mem[26] = 1\n",
    "```\n",
    "\n",
    "When this program goes to write to memory address 42, it first applies the bitmask:\n",
    "\n",
    "```\n",
    "address: 000000000000000000000000000000101010  (decimal 42)\n",
    "mask:    000000000000000000000000000000X1001X\n",
    "result:  000000000000000000000000000000X1101X\n",
    "```\n",
    "\n",
    "After applying the mask, four bits are overwritten, three of which are different, and two of which are floating. Floating bits take on every possible combination of values; with two floating bits, four actual memory addresses are written:\n",
    "\n",
    "```\n",
    "000000000000000000000000000000011010  (decimal 26)\n",
    "000000000000000000000000000000011011  (decimal 27)\n",
    "000000000000000000000000000000111010  (decimal 58)\n",
    "000000000000000000000000000000111011  (decimal 59)\n",
    "```\n",
    "\n",
    "Next, the program is about to write to memory address 26 with a different bitmask:\n",
    "\n",
    "```\n",
    "address: 000000000000000000000000000000011010  (decimal 26)\n",
    "mask:    00000000000000000000000000000000X0XX\n",
    "result:  00000000000000000000000000000001X0XX\n",
    "```\n",
    "\n",
    "This results in an address with three floating bits, causing writes to eight memory addresses:\n",
    "\n",
    "```\n",
    "000000000000000000000000000000010000  (decimal 16)\n",
    "000000000000000000000000000000010001  (decimal 17)\n",
    "000000000000000000000000000000010010  (decimal 18)\n",
    "000000000000000000000000000000010011  (decimal 19)\n",
    "000000000000000000000000000000011000  (decimal 24)\n",
    "000000000000000000000000000000011001  (decimal 25)\n",
    "000000000000000000000000000000011010  (decimal 26)\n",
    "000000000000000000000000000000011011  (decimal 27)\n",
    "```\n",
    "\n",
    "The entire 36-bit address space still begins initialized to the value 0 at every address, and you still need the sum of all values left in memory at the end of the program. In this example, the sum is 208.\n",
    "\n",
    "Execute the initialization program using an emulator for a version 2 decoder chip. What is the sum of all values left in memory after it completes?\n",
    ""
   ]
  },
  {
   "cell_type": "code",
   "execution_count": 1,
   "metadata": {},
   "source": [
    "#!fsharp\n",
    "let parse2 (input: string) : seq<Instruction> =\n",
    "    input.Replace(\"\\r\", \"\").Split(\"\\n\")\n",
    "    |> Seq.map (\n",
    "            function\n",
    "            | Regex @\"mask\\s*=\\s*([01X]+)\" [mask] -> \n",
    "                let mutable xMask = 0UL\n",
    "                let mutable orMask = 0UL\n",
    "                Seq.iter (\n",
    "                    fun bit ->\n",
    "                        xMask <- xMask <<< 1\n",
    "                        orMask <- orMask <<< 1\n",
    "                        if bit = '1' then\n",
    "                            orMask <- orMask ||| 1UL\n",
    "                        elif bit = 'X' then\n",
    "                            xMask <- xMask ||| 1UL\n",
    "                ) mask\n",
    "                Mask(xMask, orMask)\n",
    "            | Regex @\"mem\\[(\\d+)\\]\\s+=\\s+(\\d+)\" [address; value] ->\n",
    "                Write(uint64 address, uint64 value)\n",
    "            | unknown -> \n",
    "                failwith (\"Unknown instruction \" + unknown)\n",
    "        )"
   ],
   "outputs": []
  },
  {
   "cell_type": "code",
   "execution_count": 1,
   "metadata": {},
   "source": [
    "#!fsharp\n",
    "let testInput2 = \"\"\"mask = 000000000000000000000000000000X1001X\n",
    "mem[42] = 100\n",
    "mask = 00000000000000000000000000000000X0XX\n",
    "mem[26] = 1\"\"\"\n",
    "\n",
    "testInput2 |> parse2"
   ],
   "outputs": [
    {
     "output_type": "execute_result",
     "data": {
      "text/html": "<table><thead><tr><th><i>index</i></th><th><i>type</i></th><th>Item1</th><th>Item2</th></tr></thead><tbody><tr><td>0</td><td>FSI_0090+Instruction+Mask</td><td><div class=\"dni-plaintext\">33</div></td><td><div class=\"dni-plaintext\">18</div></td></tr><tr><td>1</td><td>FSI_0090+Instruction+Write</td><td><div class=\"dni-plaintext\">42</div></td><td><div class=\"dni-plaintext\">100</div></td></tr><tr><td>2</td><td>FSI_0090+Instruction+Mask</td><td><div class=\"dni-plaintext\">11</div></td><td><div class=\"dni-plaintext\">0</div></td></tr><tr><td>3</td><td>FSI_0090+Instruction+Write</td><td><div class=\"dni-plaintext\">26</div></td><td><div class=\"dni-plaintext\">1</div></td></tr></tbody></table>"
     },
     "execution_count": 1,
     "metadata": {}
    }
   ]
  },
  {
   "cell_type": "code",
   "execution_count": 1,
   "metadata": {},
   "source": [
    "#!fsharp\n",
    "// resolve the instructions into masked set of writes\n",
    "let forwardRun program =\n",
    "    let mutable xMask = 0UL\n",
    "    let mutable orMask = 0UL\n",
    "    program\n",
    "    |> Seq.map (\n",
    "        function \n",
    "        | Mask (newXMask, newOrMask) ->\n",
    "            xMask <- newXMask\n",
    "            orMask <- newOrMask\n",
    "            None\n",
    "        | Write (target, value) ->\n",
    "            let newTarget = (target ||| orMask) &&& (~~~xMask)\n",
    "            Some (newTarget, xMask, value)\n",
    "    )\n",
    "    |> Seq.choose id\n",
    "\n",
    "testInput2 |> parse2 |> forwardRun"
   ],
   "outputs": [
    {
     "output_type": "execute_result",
     "data": {
      "text/html": "<table><thead><tr><th><i>index</i></th><th>Item1</th><th>Item2</th><th>Item3</th></tr></thead><tbody><tr><td>0</td><td><div class=\"dni-plaintext\">26</div></td><td><div class=\"dni-plaintext\">33</div></td><td><div class=\"dni-plaintext\">100</div></td></tr><tr><td>1</td><td><div class=\"dni-plaintext\">16</div></td><td><div class=\"dni-plaintext\">11</div></td><td><div class=\"dni-plaintext\">1</div></td></tr></tbody></table>"
     },
     "execution_count": 1,
     "metadata": {}
    }
   ]
  },
  {
   "cell_type": "code",
   "execution_count": 1,
   "metadata": {},
   "source": [
    "#!fsharp\n",
    "let countBits (mask: uint64) =\n",
    "    let rec inner sum mask =\n",
    "        if mask = 0UL then\n",
    "            sum\n",
    "        elif mask &&& 1UL <>0UL then\n",
    "            inner (sum+1) (mask >>> 1)\n",
    "        else\n",
    "            inner sum (mask >>> 1)\n",
    "    inner 0 mask\n",
    "\n",
    "countBits 35UL"
   ],
   "outputs": [
    {
     "output_type": "execute_result",
     "data": {
      "text/html": "<div class=\"dni-plaintext\">3</div>"
     },
     "execution_count": 1,
     "metadata": {}
    }
   ]
  },
  {
   "cell_type": "code",
   "execution_count": 1,
   "metadata": {},
   "source": [
    "#!fsharp\n",
    "// resolve the writes into independent non-overlaping groups\n",
    "let resolveResults (partial: seq<uint64 * uint64 * uint64>) =\n",
    "    partial\n",
    "    |> Seq.fold (\n",
    "        fun acc entry ->\n",
    "            let mutable target, xMask, value = entry\n",
    "            let result = \n",
    "                List.map (\n",
    "                    fun (prevTarget, prevXMask, prevValue) ->\n",
    "                        // get the fixed bits outside X masks\n",
    "                        let prevAddress = prevTarget &&& ~~~( prevXMask ||| xMask )\n",
    "                        let address = target &&& ~~~(prevXMask ||| xMask)\n",
    "                        // the entries interact only if the fixed bits exactly match\n",
    "                        if prevAddress = address then\n",
    "                            // if previous target had no floating bits, or they exactly overlap, then it's all gone\n",
    "                            if  prevXMask = 0UL || prevXMask = xMask  then\n",
    "                                []\n",
    "                            else\n",
    "                                let mutable subset = List.empty\n",
    "                                let mutable forcedMask = 0UL\n",
    "                                let mutable forcedAddress = 0UL\n",
    "                                for bit in 0..35 do\n",
    "                                    let testMask = 1UL <<< bit\n",
    "                                    // if this is fixed bit in the new entry, but variable in previous, we can generate subset\n",
    "                                    if (xMask &&& testMask) = 0UL && (prevXMask &&& testMask) <> 0UL then\n",
    "                                        forcedMask <- forcedMask ||| testMask\n",
    "                                        // generate address with the bit set to opposite to target\n",
    "                                        forcedAddress <- forcedAddress ||| ( ~~~target &&& testMask)\n",
    "                                        subset <- subset @ [( (prevTarget &&& ~~~forcedMask) ||| forcedAddress, prevXMask &&& ~~~forcedMask, prevValue  )]\n",
    "                                        // and set the bit back to matching for further tests\n",
    "                                        forcedAddress <- forcedAddress ^^^ testMask\n",
    "                                subset\n",
    "                        else\n",
    "                            [(prevTarget, prevXMask, prevValue)]\n",
    "                ) acc\n",
    "                |> List.concat\n",
    "            result @ [(target, xMask, value)]\n",
    "    ) List.empty \n",
    "\n",
    "let prettyPrint values =\n",
    "    values\n",
    "    |> Seq.map \n",
    "        ( fun (target, mask, v) -> \n",
    "            let mutable s = \"\"\n",
    "            let mutable found = false\n",
    "            for i in 35..-1..0 do\n",
    "                if i = 7 then found <- true\n",
    "                let t = 1UL <<< i\n",
    "                if t &&& mask <> 0UL then\n",
    "                    s <- s + \"X\"\n",
    "                    found <- true\n",
    "                elif t &&& target <> 0UL then\n",
    "                    s <- s + \"1\"\n",
    "                    found <- true\n",
    "                elif found then\n",
    "                    s <- s + \"0\"\n",
    "            (s, v)\n",
    "        )\n",
    "\n",
    "[(0UL, 7UL, 15UL); (2UL, 0UL, 16UL)] |> resolveResults |> prettyPrint"
   ],
   "outputs": [
    {
     "output_type": "execute_result",
     "data": {
      "text/html": "<table><thead><tr><th><i>index</i></th><th>Item1</th><th>Item2</th></tr></thead><tbody><tr><td>0</td><td><div class=\"dni-plaintext\">00000XX1</div></td><td><div class=\"dni-plaintext\">15</div></td></tr><tr><td>1</td><td><div class=\"dni-plaintext\">00000X00</div></td><td><div class=\"dni-plaintext\">15</div></td></tr><tr><td>2</td><td><div class=\"dni-plaintext\">00000110</div></td><td><div class=\"dni-plaintext\">15</div></td></tr><tr><td>3</td><td><div class=\"dni-plaintext\">00000010</div></td><td><div class=\"dni-plaintext\">16</div></td></tr></tbody></table>"
     },
     "execution_count": 1,
     "metadata": {}
    }
   ]
  },
  {
   "cell_type": "code",
   "execution_count": 1,
   "metadata": {},
   "source": [
    "#!fsharp\n",
    "testInput2 |> parse2 |> forwardRun |> resolveResults |> prettyPrint"
   ],
   "outputs": [
    {
     "output_type": "execute_result",
     "data": {
      "text/html": "<table><thead><tr><th><i>index</i></th><th>Item1</th><th>Item2</th></tr></thead><tbody><tr><td>0</td><td><div class=\"dni-plaintext\">0011101X</div></td><td><div class=\"dni-plaintext\">100</div></td></tr><tr><td>1</td><td><div class=\"dni-plaintext\">0001X0XX</div></td><td><div class=\"dni-plaintext\">1</div></td></tr></tbody></table>"
     },
     "execution_count": 1,
     "metadata": {}
    }
   ]
  },
  {
   "cell_type": "code",
   "execution_count": 1,
   "metadata": {},
   "source": [
    "#!fsharp\n",
    "testInput2 |> parse2 |> forwardRun"
   ],
   "outputs": [
    {
     "output_type": "execute_result",
     "data": {
      "text/html": "<table><thead><tr><th><i>index</i></th><th>Item1</th><th>Item2</th><th>Item3</th></tr></thead><tbody><tr><td>0</td><td><div class=\"dni-plaintext\">26</div></td><td><div class=\"dni-plaintext\">33</div></td><td><div class=\"dni-plaintext\">100</div></td></tr><tr><td>1</td><td><div class=\"dni-plaintext\">16</div></td><td><div class=\"dni-plaintext\">11</div></td><td><div class=\"dni-plaintext\">1</div></td></tr></tbody></table>"
     },
     "execution_count": 1,
     "metadata": {}
    }
   ]
  },
  {
   "cell_type": "code",
   "execution_count": 1,
   "metadata": {},
   "source": [
    "#!fsharp\n",
    "let calculateResult values = \n",
    "    values\n",
    "    |> Seq.fold \n",
    "        (fun acc (target, mask, v) ->\n",
    "            acc + v * (1UL <<< countBits mask)\n",
    "        )    \n",
    "        0UL\n",
    "\n",
    "testInput2 |> parse2 |> forwardRun |> resolveResults |> calculateResult\n",
    ""
   ],
   "outputs": [
    {
     "output_type": "execute_result",
     "data": {
      "text/html": "<div class=\"dni-plaintext\">208</div>"
     },
     "execution_count": 1,
     "metadata": {}
    }
   ]
  },
  {
   "cell_type": "code",
   "execution_count": 1,
   "metadata": {},
   "source": [
    "#!fsharp\n",
    "taskInput |> parse2 |> forwardRun |> resolveResults |> calculateResult"
   ],
   "outputs": [
    {
     "output_type": "execute_result",
     "data": {
      "text/html": "<div class=\"dni-plaintext\">3415488160714</div>"
     },
     "execution_count": 1,
     "metadata": {}
    }
   ]
  }
 ],
 "metadata": {
  "kernelspec": {
   "display_name": ".NET (C#)",
   "language": "C#",
   "name": ".net-csharp"
  },
  "language_info": {
   "file_extension": ".cs",
   "mimetype": "text/x-csharp",
   "name": "C#",
   "pygments_lexer": "csharp",
   "version": "8.0"
  }
 },
 "nbformat": 4,
 "nbformat_minor": 4
}