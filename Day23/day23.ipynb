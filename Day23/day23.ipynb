{
 "cells": [
  {
   "cell_type": "markdown",
   "metadata": {},
   "source": [
    "--- Day 23: Crab Cups ---\n",
    "\n",
    "The small crab challenges you to a game! The crab is going to mix up some cups, and you have to predict where they'll end up.\n",
    "\n",
    "The cups will be arranged in a circle and labeled clockwise (your puzzle input). For example, if your labeling were 32415, there would be five cups in the circle; going clockwise around the circle from the first cup, the cups would be labeled 3, 2, 4, 1, 5, and then back to 3 again.\n",
    "\n",
    "Before the crab starts, it will designate the first cup in your list as the current cup. The crab is then going to do 100 moves.\n",
    "\n",
    "Each move, the crab does the following actions:\n",
    "\n",
    "*    The crab picks up the three cups that are immediately clockwise of the current cup. They are removed from the circle; cup spacing is adjusted as necessary to maintain the circle.\n",
    "*    The crab selects a destination cup: the cup with a label equal to the current cup's label minus one. If this would select one of the cups that was just picked up, the crab will keep subtracting one until it finds a cup that wasn't just picked up. If at any point in this process the value goes below the lowest value on any cup's label, it wraps around to the highest value on any cup's label instead.\n",
    "*    The crab places the cups it just picked up so that they are immediately clockwise of the destination cup. They keep the same order as when they were picked up.\n",
    "*    The crab selects a new current cup: the cup which is immediately clockwise of the current cup.\n",
    "\n",
    "For example, suppose your cup labeling were 389125467. If the crab were to do merely 10 moves, the following changes would occur:\n",
    "\n",
    "```\n",
    "-- move 1 --\n",
    "cups: (3) 8  9  1  2  5  4  6  7 \n",
    "pick up: 8, 9, 1\n",
    "destination: 2\n",
    "\n",
    "-- move 2 --\n",
    "cups:  3 (2) 8  9  1  5  4  6  7 \n",
    "pick up: 8, 9, 1\n",
    "destination: 7\n",
    "\n",
    "-- move 3 --\n",
    "cups:  3  2 (5) 4  6  7  8  9  1 \n",
    "pick up: 4, 6, 7\n",
    "destination: 3\n",
    "\n",
    "-- move 4 --\n",
    "cups:  7  2  5 (8) 9  1  3  4  6 \n",
    "pick up: 9, 1, 3\n",
    "destination: 7\n",
    "\n",
    "-- move 5 --\n",
    "cups:  3  2  5  8 (4) 6  7  9  1 \n",
    "pick up: 6, 7, 9\n",
    "destination: 3\n",
    "\n",
    "-- move 6 --\n",
    "cups:  9  2  5  8  4 (1) 3  6  7 \n",
    "pick up: 3, 6, 7\n",
    "destination: 9\n",
    "\n",
    "-- move 7 --\n",
    "cups:  7  2  5  8  4  1 (9) 3  6 \n",
    "pick up: 3, 6, 7\n",
    "destination: 8\n",
    "\n",
    "-- move 8 --\n",
    "cups:  8  3  6  7  4  1  9 (2) 5 \n",
    "pick up: 5, 8, 3\n",
    "destination: 1\n",
    "\n",
    "-- move 9 --\n",
    "cups:  7  4  1  5  8  3  9  2 (6)\n",
    "pick up: 7, 4, 1\n",
    "destination: 5\n",
    "\n",
    "-- move 10 --\n",
    "cups: (5) 7  4  1  8  3  9  2  6 \n",
    "pick up: 7, 4, 1\n",
    "destination: 3\n",
    "\n",
    "-- final --\n",
    "cups:  5 (8) 3  7  4  1  9  2  6 \n",
    "```\n",
    "\n",
    "In the above example, the cups' values are the labels as they appear moving clockwise around the circle; the current cup is marked with ( ).\n",
    "\n",
    "After the crab is done, what order will the cups be in? Starting after the cup labeled 1, collect the other cups' labels clockwise into a single string with no extra characters; each number except 1 should appear exactly once. In the above example, after 10 moves, the cups clockwise from 1 are labeled 9, 2, 6, 5, and so on, producing 92658374. If the crab were to complete all 100 moves, the order after cup 1 would be 67384529.\n",
    "\n",
    "Using your labeling, simulate 100 moves. What are the labels on the cups after cup 1?\n",
    "\n",
    "Your puzzle input is *364297581*."
   ]
  },
  {
   "cell_type": "code",
   "execution_count": 1,
   "metadata": {},
   "source": [
    "#!fsharp\n",
    "let testInput = \"389125467\"\n",
    "let parse (input:string) =\n",
    "    input.ToCharArray()\n",
    "    |> Array.map (fun ch -> int ch - int '0')\n",
    "\n",
    "parse \"123450\""
   ],
   "outputs": [
    {
     "output_type": "execute_result",
     "data": {
      "text/html": "<table><thead><tr><th><i>index</i></th><th>value</th></tr></thead><tbody><tr><td>0</td><td><div class=\"dni-plaintext\">1</div></td></tr><tr><td>1</td><td><div class=\"dni-plaintext\">2</div></td></tr><tr><td>2</td><td><div class=\"dni-plaintext\">3</div></td></tr><tr><td>3</td><td><div class=\"dni-plaintext\">4</div></td></tr><tr><td>4</td><td><div class=\"dni-plaintext\">5</div></td></tr><tr><td>5</td><td><div class=\"dni-plaintext\">0</div></td></tr></tbody></table>"
     },
     "execution_count": 1,
     "metadata": {}
    }
   ]
  },
  {
   "cell_type": "code",
   "execution_count": 1,
   "metadata": {},
   "source": [
    "#!fsharp\n",
    "let rec findDestination (buffer: int array) max cup =\n",
    "    let index = \n",
    "        buffer \n",
    "        |> Array.tryFindIndex (fun f -> f = cup )\n",
    "    match index with\n",
    "    | Some index -> index\n",
    "    | None -> findDestination buffer max (if cup=0 then max else cup-1)\n",
    "\n",
    "findDestination [|3; 5; 4; 6; 7|] 9 1"
   ],
   "outputs": [
    {
     "output_type": "execute_result",
     "data": {
      "text/html": "<div class=\"dni-plaintext\">4</div>"
     },
     "execution_count": 1,
     "metadata": {}
    }
   ]
  },
  {
   "cell_type": "code",
   "execution_count": 1,
   "metadata": {},
   "source": [
    "#!fsharp\n",
    "let step (buffer: int array) =\n",
    "    let max = Array.max buffer\n",
    "    let cup = buffer.[0]\n",
    "    let rest = buffer.[4..]\n",
    "    let destination = findDestination rest max cup\n",
    "\n",
    "    Array.concat\n",
    "        (seq {\n",
    "            rest.[..destination]\n",
    "            buffer.[1..3]\n",
    "            rest.[(destination+1)..]\n",
    "            buffer.[0..0]\n",
    "        })\n",
    "\n",
    "testInput |> parse |> step"
   ],
   "outputs": [
    {
     "output_type": "execute_result",
     "data": {
      "text/html": "<table><thead><tr><th><i>index</i></th><th>value</th></tr></thead><tbody><tr><td>0</td><td><div class=\"dni-plaintext\">2</div></td></tr><tr><td>1</td><td><div class=\"dni-plaintext\">8</div></td></tr><tr><td>2</td><td><div class=\"dni-plaintext\">9</div></td></tr><tr><td>3</td><td><div class=\"dni-plaintext\">1</div></td></tr><tr><td>4</td><td><div class=\"dni-plaintext\">5</div></td></tr><tr><td>5</td><td><div class=\"dni-plaintext\">4</div></td></tr><tr><td>6</td><td><div class=\"dni-plaintext\">6</div></td></tr><tr><td>7</td><td><div class=\"dni-plaintext\">7</div></td></tr><tr><td>8</td><td><div class=\"dni-plaintext\">3</div></td></tr></tbody></table>"
     },
     "execution_count": 1,
     "metadata": {}
    }
   ]
  },
  {
   "cell_type": "code",
   "execution_count": 1,
   "metadata": {},
   "source": [
    "#!fsharp\n",
    "let toOutput (skipOne:bool) (input: int array) =\n",
    "    let index = \n",
    "        input\n",
    "        |> Array.findIndex (fun f -> f = 1)\n",
    "\n",
    "    let start = if skipOne then index+1 else index\n",
    "    Array.concat (seq {\n",
    "        input.[start..]\n",
    "        input.[..(index-1)]\n",
    "    })\n",
    "    |> Seq.map string\n",
    "    |> String.concat \"\""
   ],
   "outputs": []
  },
  {
   "cell_type": "code",
   "execution_count": 1,
   "metadata": {},
   "source": [
    "#!fsharp\n",
    "let playGame rounds (input: int array) =\n",
    "    let mutable buffer = input\n",
    "    for i in 1..rounds do\n",
    "        buffer <- step buffer\n",
    "    buffer\n",
    "\n",
    "testInput |> parse |> playGame 100\n",
    ""
   ],
   "outputs": [
    {
     "output_type": "execute_result",
     "data": {
      "text/html": "<table><thead><tr><th><i>index</i></th><th>value</th></tr></thead><tbody><tr><td>0</td><td><div class=\"dni-plaintext\">1</div></td></tr><tr><td>1</td><td><div class=\"dni-plaintext\">6</div></td></tr><tr><td>2</td><td><div class=\"dni-plaintext\">7</div></td></tr><tr><td>3</td><td><div class=\"dni-plaintext\">3</div></td></tr><tr><td>4</td><td><div class=\"dni-plaintext\">8</div></td></tr><tr><td>5</td><td><div class=\"dni-plaintext\">4</div></td></tr><tr><td>6</td><td><div class=\"dni-plaintext\">5</div></td></tr><tr><td>7</td><td><div class=\"dni-plaintext\">2</div></td></tr><tr><td>8</td><td><div class=\"dni-plaintext\">9</div></td></tr></tbody></table>"
     },
     "execution_count": 1,
     "metadata": {}
    }
   ]
  },
  {
   "cell_type": "code",
   "execution_count": 1,
   "metadata": {},
   "source": [
    "#!fsharp\n",
    "testInput |> parse |> playGame 10 |> toOutput true"
   ],
   "outputs": [
    {
     "output_type": "execute_result",
     "data": {
      "text/plain": "92658374"
     },
     "execution_count": 1,
     "metadata": {}
    }
   ]
  },
  {
   "cell_type": "code",
   "execution_count": 1,
   "metadata": {},
   "source": [
    "#!fsharp\n",
    "testInput |> parse |> playGame 100 |> toOutput true"
   ],
   "outputs": [
    {
     "output_type": "execute_result",
     "data": {
      "text/plain": "67384529"
     },
     "execution_count": 1,
     "metadata": {}
    }
   ]
  },
  {
   "cell_type": "code",
   "execution_count": 1,
   "metadata": {},
   "source": [
    "#!fsharp\n",
    "let taskInput = \"364297581\"\n",
    "taskInput |> parse |> playGame 100 |> toOutput true"
   ],
   "outputs": [
    {
     "output_type": "execute_result",
     "data": {
      "text/plain": "47382659"
     },
     "execution_count": 1,
     "metadata": {}
    }
   ]
  },
  {
   "cell_type": "markdown",
   "metadata": {},
   "source": [
    "--- Part Two ---\n",
    "\n",
    "Due to what you can only assume is a mistranslation (you're not exactly fluent in Crab), you are quite surprised when the crab starts arranging many cups in a circle on your raft - one million (1000000) in total.\n",
    "\n",
    "Your labeling is still correct for the first few cups; after that, the remaining cups are just numbered in an increasing fashion starting from the number after the highest number in your list and proceeding one by one until one million is reached. (For example, if your labeling were 54321, the cups would be numbered 5, 4, 3, 2, 1, and then start counting up from 6 until one million is reached.) In this way, every number from one through one million is used exactly once.\n",
    "\n",
    "After discovering where you made the mistake in translating Crab Numbers, you realize the small crab isn't going to do merely 100 moves; the crab is going to do ten million (10000000) moves!\n",
    "\n",
    "The crab is going to hide your stars - one each - under the two cups that will end up immediately clockwise of cup 1. You can have them if you predict what the labels on those cups will be when the crab is finished.\n",
    "\n",
    "In the above example (389125467), this would be 934001 and then 159792; multiplying these together produces 149245887792.\n",
    "\n",
    "Determine which two cups will end up immediately clockwise of cup 1. What do you get if you multiply their labels together?\n",
    ""
   ]
  },
  {
   "cell_type": "code",
   "execution_count": 1,
   "metadata": {},
   "source": [
    "#!fsharp\n",
    "let fastPlayGame cups rounds (input:int array) =\n",
    "    // next pointers in circular linked list. Note that we'll never use index 0\n",
    "    let nextNodes = Array.init (cups+1) (fun index -> index+1 )\n",
    "    let mutable currentCup = if input.Length>0 then input.[0] else 1\n",
    "\n",
    "    if input.Length>0 then\n",
    "        nextNodes.[cups] <- currentCup\n",
    "    else\n",
    "        nextNodes.[cups] <- 1\n",
    "\n",
    "    for i in 0..(input.Length-1) do\n",
    "        if i = input.Length - 1 then\n",
    "            nextNodes.[input.[i]] <- if cups = input.Length then currentCup else input.Length+1\n",
    "        else\n",
    "            nextNodes.[input.[i]] <- input.[i+1]\n",
    "    \n",
    "    for i in 1..rounds do\n",
    "        let mutable destination = currentCup-1\n",
    "        if destination = 0 then destination <- cups\n",
    "        let next1 = nextNodes.[currentCup]\n",
    "        let next2 = nextNodes.[next1]\n",
    "        let next3 = nextNodes.[next2]\n",
    "        // no point optimizing further, it will loop at most 3 times\n",
    "        while destination = next1 || destination = next2 || destination = next3 do\n",
    "            destination <- destination - 1\n",
    "            if destination = 0 then destination <- cups\n",
    "        // first remove the 3 nodes\n",
    "        nextNodes.[currentCup] <- nextNodes.[next3]\n",
    "        // now insert the 3 nodes after destination\n",
    "        nextNodes.[next3] <- nextNodes.[destination]\n",
    "        nextNodes.[destination] <- next1\n",
    "        currentCup <- nextNodes.[currentCup]\n",
    "    \n",
    "    currentCup <- nextNodes.[1]\n",
    "    let result = Array.zeroCreate (cups-1)\n",
    "    for i in 2..cups do\n",
    "        result.[i-2] <- currentCup\n",
    "        currentCup <- nextNodes.[currentCup]\n",
    "    result\n",
    "\n",
    "\n",
    "testInput |> parse |> fastPlayGame (testInput.Length+0) 100"
   ],
   "outputs": [
    {
     "output_type": "execute_result",
     "data": {
      "text/html": "<table><thead><tr><th><i>index</i></th><th>value</th></tr></thead><tbody><tr><td>0</td><td><div class=\"dni-plaintext\">6</div></td></tr><tr><td>1</td><td><div class=\"dni-plaintext\">7</div></td></tr><tr><td>2</td><td><div class=\"dni-plaintext\">3</div></td></tr><tr><td>3</td><td><div class=\"dni-plaintext\">8</div></td></tr><tr><td>4</td><td><div class=\"dni-plaintext\">4</div></td></tr><tr><td>5</td><td><div class=\"dni-plaintext\">5</div></td></tr><tr><td>6</td><td><div class=\"dni-plaintext\">2</div></td></tr><tr><td>7</td><td><div class=\"dni-plaintext\">9</div></td></tr></tbody></table>"
     },
     "execution_count": 1,
     "metadata": {}
    }
   ]
  },
  {
   "cell_type": "code",
   "execution_count": 1,
   "metadata": {},
   "source": [
    "#!fsharp\n",
    "let getFinalResult (cups: int array) =\n",
    "    printf \"%i * %i\" cups.[0] cups.[1]\n",
    "    int64(cups.[0]) * int64(cups.[1])\n",
    "\n",
    "testInput |> parse |> fastPlayGame 1000000 10000000 |> getFinalResult"
   ],
   "outputs": [
    {
     "output_type": "execute_result",
     "data": {
      "text/plain": "934001"
     },
     "execution_count": 1,
     "metadata": {}
    },
    {
     "output_type": "execute_result",
     "data": {
      "text/plain": " * "
     },
     "execution_count": 1,
     "metadata": {}
    },
    {
     "output_type": "execute_result",
     "data": {
      "text/plain": "159792"
     },
     "execution_count": 1,
     "metadata": {}
    },
    {
     "output_type": "execute_result",
     "data": {
      "text/html": "<div class=\"dni-plaintext\">149245887792</div>"
     },
     "execution_count": 1,
     "metadata": {}
    }
   ]
  },
  {
   "cell_type": "code",
   "execution_count": 1,
   "metadata": {},
   "source": [
    "#!fsharp\n",
    "taskInput |> parse |> fastPlayGame 1000000 10000000 |> getFinalResult"
   ],
   "outputs": [
    {
     "output_type": "execute_result",
     "data": {
      "text/plain": "257760"
     },
     "execution_count": 1,
     "metadata": {}
    },
    {
     "output_type": "execute_result",
     "data": {
      "text/plain": " * "
     },
     "execution_count": 1,
     "metadata": {}
    },
    {
     "output_type": "execute_result",
     "data": {
      "text/plain": "163997"
     },
     "execution_count": 1,
     "metadata": {}
    },
    {
     "output_type": "execute_result",
     "data": {
      "text/html": "<div class=\"dni-plaintext\">42271866720</div>"
     },
     "execution_count": 1,
     "metadata": {}
    }
   ]
  }
 ],
 "metadata": {
  "kernelspec": {
   "display_name": ".NET (C#)",
   "language": "C#",
   "name": ".net-csharp"
  },
  "language_info": {
   "file_extension": ".cs",
   "mimetype": "text/x-csharp",
   "name": "C#",
   "pygments_lexer": "csharp",
   "version": "8.0"
  }
 },
 "nbformat": 4,
 "nbformat_minor": 4
}